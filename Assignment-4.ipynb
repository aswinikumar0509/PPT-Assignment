{
 "cells": [
  {
   "cell_type": "markdown",
   "id": "fbfdb29f",
   "metadata": {},
   "source": [
    "\n",
    "💡 **Question 1**\n",
    "Given three integer arrays arr1, arr2 and arr3 **sorted** in **strictly increasing** order, return a sorted array of **only** the integers that appeared in **all** three arrays.\n",
    "\n",
    "**Example 1:**\n",
    "\n",
    "Input: arr1 = [1,2,3,4,5], arr2 = [1,2,5,7,9], arr3 = [1,3,4,5,8]\n",
    "\n",
    "Output: [1,5]\n",
    "\n",
    "**Explanation:** Only 1 and 5 appeared in the three arrays.\n",
    "\n"
   ]
  },
  {
   "cell_type": "code",
   "execution_count": 1,
   "id": "372da02f",
   "metadata": {},
   "outputs": [
    {
     "name": "stdout",
     "output_type": "stream",
     "text": [
      "[1, 5]\n"
     ]
    }
   ],
   "source": [
    "def find_common_elements(arr1, arr2, arr3):\n",
    "        output = []\n",
    "        i = 0\n",
    "        j = 0\n",
    "        k = 0\n",
    "        while i < len(arr1) and j < len(arr2) and k < len(arr3):\n",
    "            if arr1[i] == arr2[j] == arr3[k]:\n",
    "                output.append(arr1[i])\n",
    "                i += 1\n",
    "                j += 1\n",
    "                k += 1\n",
    "\n",
    "            elif arr1[i] < arr2[j]:\n",
    "                i += 1\n",
    "            elif arr2[j] < arr3[k]:\n",
    "                j += 1\n",
    "            else:\n",
    "                k += 1\n",
    "        return sorted(output)\n",
    "    \n",
    "arr1 = [1, 2, 3, 4, 5]\n",
    "arr2 = [1, 2, 5, 7, 9]\n",
    "arr3 = [1, 3, 4, 5, 8]\n",
    "\n",
    "common_elements = find_common_elements(arr1, arr2, arr3)\n",
    "\n",
    "print(common_elements)"
   ]
  },
  {
   "cell_type": "markdown",
   "id": "69040f4a",
   "metadata": {},
   "source": [
    "\n",
    "💡 **Question 2**\n",
    "\n",
    "Given two **0-indexed** integer arrays nums1 and nums2, return *a list* answer *of size* 2 *where:*\n",
    "\n",
    "- answer[0] *is a list of all **distinct** integers in* nums1 *which are **not** present in* nums2*.*\n",
    "- answer[1] *is a list of all **distinct** integers in* nums2 *which are **not** present in* nums1.\n",
    "\n",
    "**Note** that the integers in the lists may be returned in **any** order.\n",
    "\n",
    "**Example 1:**\n",
    "\n",
    "**Input:** nums1 = [1,2,3], nums2 = [2,4,6]\n",
    "\n",
    "**Output:** [[1,3],[4,6]]\n",
    "\n",
    "**Explanation:**\n",
    "\n",
    "For nums1, nums1[1] = 2 is present at index 0 of nums2, whereas nums1[0] = 1 and nums1[2] = 3 are not present in nums2. Therefore, answer[0] = [1,3].\n",
    "\n",
    "For nums2, nums2[0] = 2 is present at index 1 of nums1, whereas nums2[1] = 4 and nums2[2] = 6 are not present in nums2. Therefore, answer[1] = [4,6].\n"
   ]
  },
  {
   "cell_type": "code",
   "execution_count": 2,
   "id": "430efb46",
   "metadata": {},
   "outputs": [
    {
     "name": "stdout",
     "output_type": "stream",
     "text": [
      "[[4, 6], [1, 3]]\n"
     ]
    }
   ],
   "source": [
    "def find_unique_elements(nums1, nums2):\n",
    "\n",
    "      output1 = []\n",
    "      output2 = []\n",
    "\n",
    "      nums1_set = set(nums1)\n",
    "\n",
    "      for element in nums2:\n",
    "\n",
    "        if element not in nums1_set:\n",
    "          output1.append(element)\n",
    "\n",
    "      nums2_set = set(nums2)\n",
    "\n",
    "      for element in nums1:\n",
    "\n",
    "        if element not in nums2_set:\n",
    "          output2.append(element)\n",
    "      return [output1, output2]\n",
    "\n",
    "nums1 = [1, 2, 3]\n",
    "nums2 = [2, 4, 6]\n",
    "\n",
    "unique_elements = find_unique_elements(nums1, nums2)\n",
    "\n",
    "print(unique_elements)\n",
    "\n"
   ]
  },
  {
   "cell_type": "markdown",
   "id": "08bf82ff",
   "metadata": {},
   "source": [
    "\n",
    "💡 **Question 3**\n",
    "Given a 2D integer array matrix, return *the **transpose** of* matrix.\n",
    "\n",
    "The **transpose** of a matrix is the matrix flipped over its main diagonal, switching the matrix's row and column indices.\n",
    "\n",
    "**Example 1:**\n",
    "\n",
    "Input: matrix = [[1,2,3],[4,5,6],[7,8,9]]\n",
    "\n",
    "Output: [[1,4,7],[2,5,8],[3,6,9]]\n",
    "\n"
   ]
  },
  {
   "cell_type": "code",
   "execution_count": 3,
   "id": "15bedab7",
   "metadata": {},
   "outputs": [
    {
     "name": "stdout",
     "output_type": "stream",
     "text": [
      "[[3, 2, 1], [6, 5, 4], [9, 8, 7]]\n"
     ]
    }
   ],
   "source": [
    "def transpose_matrix(matrix):\n",
    "\n",
    "      output = []\n",
    "      for row in matrix:\n",
    "        row = row[::-1]\n",
    "        output.append(row)\n",
    "\n",
    "\n",
    "      return output\n",
    "matrix = [[1, 2, 3], [4, 5, 6], [7, 8, 9]]\n",
    "\n",
    "transposed_matrix = transpose_matrix(matrix)\n",
    "\n",
    "print(transposed_matrix)\n"
   ]
  },
  {
   "cell_type": "markdown",
   "id": "23d5dc58",
   "metadata": {},
   "source": [
    "💡 **Question 4**\n",
    "Given an integer array nums of 2n integers, group these integers into n pairs (a1, b1), (a2, b2), ..., (an, bn) such that the sum of min(ai, bi) for all i is **maximized**. Return *the maximized sum*.\n",
    "\n",
    "**Example 1:**\n",
    "\n",
    "Input: nums = [1,4,3,2]\n",
    "\n",
    "Output: 4\n",
    "\n",
    "**Explanation:** All possible pairings (ignoring the ordering of elements) are:\n",
    "\n",
    "1. (1, 4), (2, 3) -> min(1, 4) + min(2, 3) = 1 + 2 = 3\n",
    "\n",
    "2. (1, 3), (2, 4) -> min(1, 3) + min(2, 4) = 1 + 2 = 3\n",
    "\n",
    "3. (1, 2), (3, 4) -> min(1, 2) + min(3, 4) = 1 + 3 = 4\n",
    "\n",
    "So the maximum possible sum is 4."
   ]
  },
  {
   "cell_type": "code",
   "execution_count": 4,
   "id": "ea4e3781",
   "metadata": {},
   "outputs": [
    {
     "name": "stdout",
     "output_type": "stream",
     "text": [
      "4\n"
     ]
    }
   ],
   "source": [
    "def group_integers_and_maximize_sum(nums):\n",
    "\n",
    "\n",
    "  # Sort the array.\n",
    "  nums.sort()\n",
    "\n",
    "  # Initialize the output array.\n",
    "  output = []\n",
    "\n",
    "  # Iterate over the array in pairs.\n",
    "  for i in range(0, len(nums), 2):\n",
    "    # Add the minimum of the current two elements to the output array.\n",
    "    output.append(min(nums[i], nums[i + 1]))\n",
    "\n",
    "  # Return the sum of the output array.\n",
    "  return sum(output)\n",
    "\n",
    "nums = [1, 4, 3, 2]\n",
    "\n",
    "maximized_sum = group_integers_and_maximize_sum(nums)\n",
    "\n",
    "print(maximized_sum)"
   ]
  },
  {
   "cell_type": "markdown",
   "id": "375b3dd5",
   "metadata": {},
   "source": [
    "\n",
    "💡 **Question 5**\n",
    "You have n coins and you want to build a staircase with these coins. The staircase consists of k rows where the ith row has exactly i coins. The last row of the staircase **may be** incomplete.\n",
    "\n",
    "Given the integer n, return *the number of **complete rows** of the staircase you will build*.\n",
    "\n",
    "**Example 1:**\n",
    "\n",
    "**Input:** n = 5\n",
    "\n",
    "**Output:** 2\n",
    "\n",
    "**Explanation:** Because the 3rd row is incomplete, we return 2.\n"
   ]
  },
  {
   "cell_type": "code",
   "execution_count": 5,
   "id": "39d111f3",
   "metadata": {},
   "outputs": [
    {
     "name": "stdout",
     "output_type": "stream",
     "text": [
      "1\n"
     ]
    }
   ],
   "source": [
    "def arrange_coins(n):\n",
    "\n",
    "  # Initialize the number of complete rows.\n",
    "  num_rows = 0\n",
    "\n",
    "  # Iterate over the coins from largest to smallest.\n",
    "  for i in range(n, 0, -1):\n",
    "    # If the current coin can be placed on a new row, do so.\n",
    "    if n >= i:\n",
    "      num_rows += 1\n",
    "      n -= i\n",
    "\n",
    "  # Return the number of complete rows.\n",
    "  return num_rows\n",
    "\n",
    "n = 5\n",
    "\n",
    "num_rows = arrange_coins(n)\n",
    "\n",
    "print(num_rows)\n"
   ]
  },
  {
   "cell_type": "markdown",
   "id": "3f591b9d",
   "metadata": {},
   "source": [
    "\n",
    "💡 **Question 6**\n",
    "Given an integer array nums sorted in **non-decreasing** order, return *an array of **the squares of each number** sorted in non-decreasing order*.\n",
    "\n",
    "**Example 1:**\n",
    "\n",
    "Input: nums = [-4,-1,0,3,10]\n",
    "\n",
    "Output: [0,1,9,16,100]\n",
    "\n",
    "**Explanation:** After squaring, the array becomes [16,1,0,9,100].\n",
    "After sorting, it becomes [0,1,9,16,100]\n",
    "\n"
   ]
  },
  {
   "cell_type": "code",
   "execution_count": 6,
   "id": "4dbec5cd",
   "metadata": {},
   "outputs": [
    {
     "name": "stdout",
     "output_type": "stream",
     "text": [
      "[0, 1, 9, 16, 100]\n"
     ]
    }
   ],
   "source": [
    "def sorted_squares(nums):\n",
    "\n",
    "\n",
    "  # Create a new array to store the squares.\n",
    "  squares = []\n",
    "\n",
    "  # Iterate over the input array and square each number.\n",
    "  for num in nums:\n",
    "    squares.append(num * num)\n",
    "\n",
    "  # Sort the squares in non-decreasing order.\n",
    "  squares.sort()\n",
    "\n",
    "  # Return the sorted squares.\n",
    "  return squares\n",
    "\n",
    "nums = [-4, -1, 0, 3, 10]\n",
    "\n",
    "squares = sorted_squares(nums)\n",
    "\n",
    "print(squares)\n"
   ]
  },
  {
   "cell_type": "markdown",
   "id": "b61ef0aa",
   "metadata": {},
   "source": [
    "\n",
    "💡 **Question 7**\n",
    "You are given an m x n matrix M initialized with all 0's and an array of operations ops, where ops[i] = [ai, bi] means M[x][y] should be incremented by one for all 0 <= x < ai and 0 <= y < bi.\n",
    "\n",
    "Count and return *the number of maximum integers in the matrix after performing all the operations*\n",
    "\n",
    "**Example 1:**\n",
    "\n",
    "\n",
    "\n",
    "**Input:** m = 3, n = 3, ops = [[2,2],[3,3]]\n",
    "\n",
    "**Output:** 4\n",
    "\n",
    "**Explanation:** The maximum integer in M is 2, and there are four of it in M. So return 4.\n"
   ]
  },
  {
   "cell_type": "code",
   "execution_count": 7,
   "id": "c1ea1db8",
   "metadata": {},
   "outputs": [
    {
     "name": "stdout",
     "output_type": "stream",
     "text": [
      "4\n"
     ]
    }
   ],
   "source": [
    "def count_max_integers(m, n, ops):\n",
    "\n",
    "\n",
    "  # Create a matrix to store the incremented values.\n",
    "  matrix = [[0 for i in range(n)] for j in range(m)]\n",
    "\n",
    "  # Iterate over the operations and increment the values in the matrix.\n",
    "  for op in ops:\n",
    "    for i in range(op[0]):\n",
    "      for j in range(op[1]):\n",
    "        matrix[i][j] += 1\n",
    "\n",
    "  # Find the maximum value in the matrix.\n",
    "  max_value = max(matrix[0])\n",
    "\n",
    "  # Count the number of times the maximum value appears in the matrix.\n",
    "  count = 0\n",
    "  for i in range(m):\n",
    "    for j in range(n):\n",
    "      if matrix[i][j] == max_value:\n",
    "        count += 1\n",
    "\n",
    "  # Return the count.\n",
    "  return count\n",
    "\n",
    "m = 3\n",
    "n = 3\n",
    "ops = [[2, 2], [3, 3]]\n",
    "\n",
    "count = count_max_integers(m, n, ops)\n",
    "\n",
    "print(count)\n"
   ]
  },
  {
   "cell_type": "markdown",
   "id": "6bcb58c5",
   "metadata": {},
   "source": [
    "\n",
    "💡 **Question 8**\n",
    "\n",
    "Given the array nums consisting of 2n elements in the form [x1,x2,...,xn,y1,y2,...,yn].\n",
    "\n",
    "*Return the array in the form* [x1,y1,x2,y2,...,xn,yn].\n",
    "\n",
    "**Example 1:**\n",
    "\n",
    "**Input:** nums = [2,5,1,3,4,7], n = 3\n",
    "\n",
    "**Output:** [2,3,5,4,1,7]\n",
    "\n",
    "**Explanation:** Since x1=2, x2=5, x3=1, y1=3, y2=4, y3=7 then the answer is [2,3,5,4,1,7].\n",
    "\n"
   ]
  },
  {
   "cell_type": "code",
   "execution_count": null,
   "id": "d7858443",
   "metadata": {},
   "outputs": [],
   "source": [
    "def shuffle_array(nums, n):\n",
    "\n",
    "  \"\"\"\n",
    "\n",
    "  for i in range(n):\n",
    "    nums[i], nums[2 * n - 1 - i] = nums[2 * n - 1 - i], nums[i]\n",
    "\n",
    "  return nums\n"
   ]
  }
 ],
 "metadata": {
  "kernelspec": {
   "display_name": "Python 3 (ipykernel)",
   "language": "python",
   "name": "python3"
  },
  "language_info": {
   "codemirror_mode": {
    "name": "ipython",
    "version": 3
   },
   "file_extension": ".py",
   "mimetype": "text/x-python",
   "name": "python",
   "nbconvert_exporter": "python",
   "pygments_lexer": "ipython3",
   "version": "3.9.13"
  }
 },
 "nbformat": 4,
 "nbformat_minor": 5
}
