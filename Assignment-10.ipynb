{
 "cells": [
  {
   "cell_type": "markdown",
   "id": "b7fd2cd1",
   "metadata": {},
   "source": [
    " **Question 1**\n",
    "\n",
    "Given an integer `n`, return *`true` if it is a power of three. Otherwise, return `false`*.\n",
    "\n",
    "An integer `n` is a power of three, if there exists an integer `x` such that `n == 3x`.\n",
    "\n",
    "**Example 1:**\n",
    "\n",
    "</aside>"
   ]
  },
  {
   "cell_type": "code",
   "execution_count": 1,
   "id": "2bab5f39",
   "metadata": {},
   "outputs": [
    {
     "name": "stdout",
     "output_type": "stream",
     "text": [
      "True\n"
     ]
    }
   ],
   "source": [
    "def is_power_of_three(n):\n",
    "    if n == 0:\n",
    "        return False\n",
    "    while n % 3 == 0:\n",
    "        n //= 3\n",
    "    return n == 1\n",
    "\n",
    "n=3\n",
    "print(is_power_of_three(n))"
   ]
  },
  {
   "cell_type": "markdown",
   "id": "c8cea053",
   "metadata": {},
   "source": [
    "**Question 2**\n",
    "\n",
    "You have a list `arr` of all integers in the range `[1, n]` sorted in a strictly increasing order. Apply the following algorithm on `arr`:\n",
    "\n",
    "- Starting from left to right, remove the first number and every other number afterward until you reach the end of the list.\n",
    "- Repeat the previous step again, but this time from right to left, remove the rightmost number and every other number from the remaining numbers.\n",
    "- Keep repeating the steps again, alternating left to right and right to left, until a single number remains.\n",
    "\n",
    "Given the integer `n`, return *the last number that remains in* `arr`.\n",
    "\n",
    "**Example 1:**\n",
    "\n",
    "</aside>"
   ]
  },
  {
   "cell_type": "code",
   "execution_count": 6,
   "id": "4bfd88ee",
   "metadata": {},
   "outputs": [
    {
     "name": "stdout",
     "output_type": "stream",
     "text": [
      "2\n"
     ]
    }
   ],
   "source": [
    "def last_number(arr, n):\n",
    "\n",
    "      while len(arr) > 1:\n",
    "        if len(arr) % 2 == 1:\n",
    "            arr.pop(0)\n",
    "        else:\n",
    "            arr.pop(0)\n",
    "            arr.pop(-1)\n",
    "            return arr[0]\n",
    "\n",
    "arr = [1,2,3,5,6,7,8,9]\n",
    "n = 9\n",
    "print(last_number(arr,n))"
   ]
  },
  {
   "cell_type": "markdown",
   "id": "c70a2433",
   "metadata": {},
   "source": [
    "**Question 3**\n",
    "\n",
    "****Given a set represented as a string, write a recursive code to print all subsets of it. The subsets can be printed in any order.\n",
    "\n",
    "**Example 1:**\n",
    "\n",
    "Input :  set = “abc”\n",
    "\n",
    "Output : { “”, “a”, “b”, “c”, “ab”, “ac”, “bc”, “abc”}\n",
    "\n",
    "**Example 2:**\n",
    "\n",
    "Input : set = “abcd”\n",
    "\n",
    "Output : { “”, “a” ,”ab” ,”abc” ,”abcd”, “abd” ,”ac” ,”acd”, “ad” ,”b”, “bc” ,”bcd” ,”bd” ,”c” ,”cd” ,”d” }\n",
    "\n",
    "</aside>"
   ]
  },
  {
   "cell_type": "code",
   "execution_count": 7,
   "id": "20c2fcaf",
   "metadata": {},
   "outputs": [
    {
     "name": "stdout",
     "output_type": "stream",
     "text": [
      "['h', 'he', 'hel', 'hell', 'hello', 'e', 'el', 'ell', 'ello', 'l', 'll', 'llo', 'l', 'lo', 'o', 'e', 'el', 'ell', 'ello', 'l', 'll', 'llo', 'l', 'lo', 'o', 'l', 'll', 'llo', 'l', 'lo', 'o', 'l', 'lo', 'o', 'o']\n"
     ]
    }
   ],
   "source": [
    "\n",
    "def get_all_substrings(input_string):\n",
    "\n",
    "    if len(input_string) == 0:\n",
    "        return []\n",
    "\n",
    "    elif len(input_string) == 1:\n",
    "        return [input_string]\n",
    "    else:\n",
    "        output = []\n",
    "        for i in range(len(input_string)):\n",
    "            for j in range(i+1, len(input_string)+1):\n",
    "                output.append(input_string[i:j])\n",
    "        return output + get_all_substrings(input_string[1:])\n",
    "\n",
    "my_string = \"hello\"\n",
    "substrings = get_all_substrings(my_string)\n",
    "print(substrings)"
   ]
  },
  {
   "cell_type": "markdown",
   "id": "474a7b15",
   "metadata": {},
   "source": [
    "**Question 4**\n",
    "\n",
    "Given a string calculate length of the string using recursion.\n",
    "\n",
    "**Examples:**\n",
    "\n",
    "Input : str = \"abcd\"\n",
    "\n",
    "Output :4\n",
    "\n",
    "Input : str = \"GEEKSFORGEEKS\"\n",
    "\n",
    "Output :13\n",
    "\n",
    "</aside>"
   ]
  },
  {
   "cell_type": "code",
   "execution_count": 8,
   "id": "45571cb9",
   "metadata": {},
   "outputs": [
    {
     "name": "stdout",
     "output_type": "stream",
     "text": [
      "13\n"
     ]
    }
   ],
   "source": [
    "def count_string(str):\n",
    "    if len(str)==0:\n",
    "        return \n",
    "    return len(str)\n",
    "str = \"GEEKSFORGEEKS\"\n",
    "print(count_string(str))"
   ]
  },
  {
   "cell_type": "markdown",
   "id": "0faca761",
   "metadata": {},
   "source": [
    "**Question 5**\n",
    "\n",
    "We are given a string S, we need to find count of all contiguous substrings starting and ending with same character.\n",
    "\n",
    "Input  : S = \"abcab\"\n",
    "\n",
    "Output : 7\n",
    "\n",
    "There are 15 substrings of \"abcab\"\n",
    "a, ab, abc, abca, abcab, b, bc, bca\n",
    "bcab, c, ca, cab, a, ab, b\n",
    "Out of the above substrings, there\n",
    "are 7 substrings : a, abca, b, bcab,\n",
    "c, a and b.\n",
    "\n",
    "Input  : S = \"aba\"\n",
    "Output : 4\n",
    "The substrings are a, b, a and aba\n",
    "\n",
    "</aside>"
   ]
  },
  {
   "cell_type": "code",
   "execution_count": 10,
   "id": "88298035",
   "metadata": {},
   "outputs": [
    {
     "name": "stdout",
     "output_type": "stream",
     "text": [
      "35\n"
     ]
    }
   ],
   "source": [
    "def get_all_substrings(input_string):\n",
    "\n",
    "    if len(input_string) == 0:\n",
    "        return []\n",
    "\n",
    "    elif len(input_string) == 1:\n",
    "        return [input_string]\n",
    "    else:\n",
    "        output = []\n",
    "        for i in range(len(input_string)):\n",
    "            for j in range(i+1, len(input_string)+1):\n",
    "                output.append(input_string[i:j])\n",
    "        return output + get_all_substrings(input_string[1:])\n",
    "\n",
    "    \n",
    "my_string = \"abcab\"\n",
    "substrings = get_all_substrings(my_string)\n",
    "print(len(substrings))\n"
   ]
  },
  {
   "cell_type": "markdown",
   "id": "65b313a5",
   "metadata": {},
   "source": [
    "**Question 6**\n",
    "\n",
    "The [tower of Hanoi](https://en.wikipedia.org/wiki/Tower_of_Hanoi) is a famous puzzle where we have three rods and **N** disks. The objective of the puzzle is to move the entire stack to another rod. You are given the number of discs **N**. Initially, these discs are in the rod 1. You need to print all the steps of discs movement so that all the discs reach the 3rd rod. Also, you need to find the total moves.**Note:** The discs are arranged such that the **top disc is numbered 1** and the **bottom-most disc is numbered N**. Also, all the discs have **different sizes** and a bigger disc **cannot** be put on the top of a smaller disc. Refer the provided link to get a better clarity about the puzzle.\n",
    "\n",
    "</aside>"
   ]
  },
  {
   "cell_type": "code",
   "execution_count": 11,
   "id": "4fe3338d",
   "metadata": {},
   "outputs": [
    {
     "name": "stdout",
     "output_type": "stream",
     "text": [
      "Move disk 1 from rod A to rod C\n",
      "Move disk 2 from rod A to rod B\n",
      "Move disk 1 from rod C to rod B\n",
      "Move disk 3 from rod A to rod C\n",
      "Move disk 1 from rod B to rod A\n",
      "Move disk 2 from rod B to rod C\n",
      "Move disk 1 from rod A to rod C\n"
     ]
    }
   ],
   "source": [
    "def TowerOfHanoi(n, from_rod, to_rod, aux_rod):\n",
    "\tif n == 0:\n",
    "\t\treturn\n",
    "\tTowerOfHanoi(n-1, from_rod, aux_rod, to_rod)\n",
    "\tprint(\"Move disk\", n, \"from rod\", from_rod, \"to rod\", to_rod)\n",
    "\tTowerOfHanoi(n-1, aux_rod, to_rod, from_rod)\n",
    "\n",
    "\n",
    "# Driver code\n",
    "N = 3\n",
    "\n",
    "# A, C, B are the name of rods\n",
    "TowerOfHanoi(N, 'A', 'C', 'B')"
   ]
  },
  {
   "cell_type": "markdown",
   "id": "de168de9",
   "metadata": {},
   "source": [
    "**Question 7**\n",
    "\n",
    "Given a string **str**, the task is to print all the permutations of **str**. A **permutation** is an arrangement of all or part of a set of objects, with regard to the order of the arrangement. For instance, the words ‘bat’ and ‘tab’ represents two distinct permutation (or arrangements) of a similar three letter word.\n",
    "\n",
    "**Examples:**\n",
    "\n",
    "> Input: str = “cd”\n",
    "> \n",
    "> \n",
    "> **Output:** cd dc\n",
    "> \n",
    "> **Input:** str = “abb”\n",
    "> \n",
    "> **Output:** abb abb bab bba bab bba\n",
    "> \n",
    "</aside>"
   ]
  },
  {
   "cell_type": "code",
   "execution_count": 13,
   "id": "c682f81a",
   "metadata": {},
   "outputs": [
    {
     "name": "stdout",
     "output_type": "stream",
     "text": [
      "abb\n",
      "abb\n",
      "bab\n",
      "bba\n",
      "bba\n",
      "bab\n"
     ]
    }
   ],
   "source": [
    "def toString(List):\n",
    "    return ''.join(List)\n",
    " \n",
    "def permute(a, l, r):\n",
    "    if l == r:\n",
    "        print(toString(a))\n",
    "    else:\n",
    "        for i in range(l, r):\n",
    "            a[l], a[i] = a[i], a[l]\n",
    "            permute(a, l+1, r)\n",
    "            a[l], a[i] = a[i], a[l]  # backtrack\n",
    " \n",
    " \n",
    "# Driver code\n",
    "string = \"abb\"\n",
    "n = len(string)\n",
    "a = list(string)\n",
    " \n",
    "# Function call\n",
    "permute(a, 0, n)"
   ]
  },
  {
   "cell_type": "markdown",
   "id": "b3f38acd",
   "metadata": {},
   "source": [
    " **Question 8**\n",
    "\n",
    "Given a string, count total number of consonants in it. A consonant is an English alphabet character that is not vowel (a, e, i, o and u). Examples of constants are b, c, d, f, and g.\n",
    "\n",
    "Input : abc de\n",
    "\n",
    "Output : 3\n",
    "\n",
    "There are three consonants b, c and d.\n",
    "\n",
    "Input : geeksforgeeks portal\n",
    "\n",
    "Output : 12\n",
    "\n",
    "</aside>"
   ]
  },
  {
   "cell_type": "code",
   "execution_count": 14,
   "id": "5bac8dab",
   "metadata": {},
   "outputs": [
    {
     "name": "stdout",
     "output_type": "stream",
     "text": [
      "13\n"
     ]
    }
   ],
   "source": [
    "def count_consonants(string):\n",
    "    consonants = 0\n",
    "    for char in string:\n",
    "        if char not in \"aeiou\":\n",
    "            consonants += 1\n",
    "    return consonants\n",
    "\n",
    "\n",
    "string = \"geeksforgeeks portal\"\n",
    "print(count_consonants(string))\n"
   ]
  },
  {
   "cell_type": "code",
   "execution_count": null,
   "id": "6af1cbf8",
   "metadata": {},
   "outputs": [],
   "source": []
  }
 ],
 "metadata": {
  "kernelspec": {
   "display_name": "Python 3 (ipykernel)",
   "language": "python",
   "name": "python3"
  },
  "language_info": {
   "codemirror_mode": {
    "name": "ipython",
    "version": 3
   },
   "file_extension": ".py",
   "mimetype": "text/x-python",
   "name": "python",
   "nbconvert_exporter": "python",
   "pygments_lexer": "ipython3",
   "version": "3.9.13"
  }
 },
 "nbformat": 4,
 "nbformat_minor": 5
}
