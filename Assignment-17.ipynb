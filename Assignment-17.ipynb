{
 "cells": [
  {
   "cell_type": "markdown",
   "id": "eb076df2",
   "metadata": {},
   "source": [
    "Question 1\n",
    "\n",
    "Given a string `s`, *find the first non-repeating character in it and return its index*. If it does not exist, return `-1`.\n",
    "\n",
    "</aside>"
   ]
  },
  {
   "cell_type": "code",
   "execution_count": 10,
   "id": "cf5b6456",
   "metadata": {},
   "outputs": [
    {
     "data": {
      "text/plain": [
       "0"
      ]
     },
     "execution_count": 10,
     "metadata": {},
     "output_type": "execute_result"
    }
   ],
   "source": [
    "def find_unique(s)->int:\n",
    "    for i,c in enumerate(s):\n",
    "        if s.count(c)==1:\n",
    "            return i\n",
    "            break\n",
    "    return -1\n",
    "\n",
    "s = \"leetcode\"\n",
    "find_unique(s)"
   ]
  },
  {
   "cell_type": "markdown",
   "id": "1039e99e",
   "metadata": {},
   "source": [
    "**Question 2**\n",
    "\n",
    "Given a **circular integer array** `nums` of length `n`, return *the maximum possible sum of a non-empty **subarray** of* `nums`.\n",
    "\n",
    "A **circular array** means the end of the array connects to the beginning of the array. Formally, the next element of `nums[i]` is `nums[(i + 1) % n]` and the previous element of `nums[i]` is `nums[(i - 1 + n) % n]`.\n",
    "\n",
    "A **subarray** may only include each element of the fixed buffer `nums` at most once. Formally, for a subarray `nums[i], nums[i + 1], ..., nums[j]`, there does not exist `i <= k1`, `k2 <= j` with `k1 % n == k2 % n`.\n",
    "\n",
    "</aside>"
   ]
  },
  {
   "cell_type": "code",
   "execution_count": 13,
   "id": "41938265",
   "metadata": {},
   "outputs": [
    {
     "data": {
      "text/plain": [
       "10"
      ]
     },
     "execution_count": 13,
     "metadata": {},
     "output_type": "execute_result"
    }
   ],
   "source": [
    "import math\n",
    "def maxSubarraySumCircular(nums):\n",
    "    totalSum = 0\n",
    "    currMaxSum = 0\n",
    "    currMinSum = 0\n",
    "    maxSum = -math.inf\n",
    "    minSum = math.inf\n",
    "    for a in nums:\n",
    "        totalSum += a\n",
    "        currMaxSum = max(currMaxSum + a, a)\n",
    "        currMinSum = min(currMinSum + a, a)\n",
    "        maxSum = max(maxSum, currMaxSum)\n",
    "        minSum = min(minSum, currMinSum)\n",
    "    return maxSum if maxSum < 0 else max(maxSum, totalSum - minSum)\n",
    "\n",
    "nums = [5,-1,5]\n",
    "maxSubarraySumCircular(nums)"
   ]
  },
  {
   "cell_type": "markdown",
   "id": "b726f223",
   "metadata": {},
   "source": [
    " **Question 3**\n",
    "\n",
    "The school cafeteria offers circular and square sandwiches at lunch break, referred to by numbers `0` and `1` respectively. All students stand in a queue. Each student either prefers square or circular sandwiches.\n",
    "\n",
    "The number of sandwiches in the cafeteria is equal to the number of students. The sandwiches are placed in a **stack**. At each step:\n",
    "\n",
    "- If the student at the front of the queue **prefers** the sandwich on the top of the stack, they will **take it** and leave the queue.\n",
    "- Otherwise, they will **leave it** and go to the queue's end.\n",
    "\n",
    "This continues until none of the queue students want to take the top sandwich and are thus unable to eat.\n",
    "\n",
    "You are given two integer arrays `students` and `sandwiches` where `sandwiches[i]` is the type of the `ith` sandwich in the stack (`i = 0` is the top of the stack) and `students[j]` is the preference of the `jth` student in the initial queue (`j = 0` is the front of the queue). Return *the number of students that are unable to eat.*\n",
    "\n",
    "</aside>"
   ]
  },
  {
   "cell_type": "code",
   "execution_count": 17,
   "id": "1bd9dea6",
   "metadata": {},
   "outputs": [
    {
     "data": {
      "text/plain": [
       "0"
      ]
     },
     "execution_count": 17,
     "metadata": {},
     "output_type": "execute_result"
    }
   ],
   "source": [
    "from collections import Counter\n",
    "def countStudents(students, sandwiches) -> int:\n",
    "    student_count = Counter(students)\n",
    "    for i in sandwiches:\n",
    "        if student_count[i]>0:\n",
    "            student_count[i]-=1\n",
    "        else:\n",
    "            return student_count[not i]\n",
    "    return 0\n",
    "\n",
    "students = [1,1,0,0]\n",
    "sandwiches = [0,1,0,1]\n",
    "countStudents(students,sandwiches)"
   ]
  },
  {
   "cell_type": "markdown",
   "id": "9c746e03",
   "metadata": {},
   "source": [
    "**Question 4**\n",
    "\n",
    "You have a `RecentCounter` class which counts the number of recent requests within a certain time frame.\n",
    "\n",
    "Implement the `RecentCounter` class:\n",
    "\n",
    "- `RecentCounter()` Initializes the counter with zero recent requests.\n",
    "- `int ping(int t)` Adds a new request at time `t`, where `t` represents some time in milliseconds, and returns the number of requests that has happened in the past `3000` milliseconds (including the new request). Specifically, return the number of requests that have happened in the inclusive range `[t - 3000, t]`.\n",
    "\n",
    "It is **guaranteed** that every call to `ping` uses a strictly larger value of `t` than the previous call.\n",
    "\n",
    "</aside>"
   ]
  },
  {
   "cell_type": "code",
   "execution_count": 21,
   "id": "f6f4f918",
   "metadata": {},
   "outputs": [
    {
     "ename": "NameError",
     "evalue": "name 'self' is not defined",
     "output_type": "error",
     "traceback": [
      "\u001b[1;31m---------------------------------------------------------------------------\u001b[0m",
      "\u001b[1;31mNameError\u001b[0m                                 Traceback (most recent call last)",
      "\u001b[1;32m~\\AppData\\Local\\Temp\\ipykernel_23424\\4291667544.py\u001b[0m in \u001b[0;36m<module>\u001b[1;34m\u001b[0m\n\u001b[0;32m     11\u001b[0m \u001b[0mt\u001b[0m \u001b[1;33m=\u001b[0m \u001b[1;33m[\u001b[0m\u001b[1;34m\"RecentCounter\"\u001b[0m\u001b[1;33m,\u001b[0m \u001b[1;34m\"ping\"\u001b[0m\u001b[1;33m,\u001b[0m \u001b[1;34m\"ping\"\u001b[0m\u001b[1;33m,\u001b[0m \u001b[1;34m\"ping\"\u001b[0m\u001b[1;33m,\u001b[0m \u001b[1;34m\"ping\"\u001b[0m\u001b[1;33m]\u001b[0m\u001b[1;33m\u001b[0m\u001b[1;33m\u001b[0m\u001b[0m\n\u001b[0;32m     12\u001b[0m \u001b[1;33m[\u001b[0m\u001b[1;33m[\u001b[0m\u001b[1;33m]\u001b[0m\u001b[1;33m,\u001b[0m \u001b[1;33m[\u001b[0m\u001b[1;36m1\u001b[0m\u001b[1;33m]\u001b[0m\u001b[1;33m,\u001b[0m \u001b[1;33m[\u001b[0m\u001b[1;36m100\u001b[0m\u001b[1;33m]\u001b[0m\u001b[1;33m,\u001b[0m \u001b[1;33m[\u001b[0m\u001b[1;36m3001\u001b[0m\u001b[1;33m]\u001b[0m\u001b[1;33m,\u001b[0m \u001b[1;33m[\u001b[0m\u001b[1;36m3002\u001b[0m\u001b[1;33m]\u001b[0m\u001b[1;33m]\u001b[0m\u001b[1;33m\u001b[0m\u001b[1;33m\u001b[0m\u001b[0m\n\u001b[1;32m---> 13\u001b[1;33m \u001b[0mping\u001b[0m\u001b[1;33m(\u001b[0m\u001b[0mt\u001b[0m\u001b[1;33m)\u001b[0m\u001b[1;33m\u001b[0m\u001b[1;33m\u001b[0m\u001b[0m\n\u001b[0m",
      "\u001b[1;32m~\\AppData\\Local\\Temp\\ipykernel_23424\\4291667544.py\u001b[0m in \u001b[0;36mping\u001b[1;34m(t)\u001b[0m\n\u001b[0;32m      4\u001b[0m \u001b[1;33m\u001b[0m\u001b[0m\n\u001b[0;32m      5\u001b[0m \u001b[1;32mdef\u001b[0m \u001b[0mping\u001b[0m\u001b[1;33m(\u001b[0m\u001b[0mt\u001b[0m\u001b[1;33m)\u001b[0m \u001b[1;33m->\u001b[0m \u001b[0mint\u001b[0m\u001b[1;33m:\u001b[0m\u001b[1;33m\u001b[0m\u001b[1;33m\u001b[0m\u001b[0m\n\u001b[1;32m----> 6\u001b[1;33m     \u001b[0mself\u001b[0m\u001b[1;33m.\u001b[0m\u001b[0mrequests\u001b[0m\u001b[1;33m.\u001b[0m\u001b[0mappend\u001b[0m\u001b[1;33m(\u001b[0m\u001b[0mt\u001b[0m\u001b[1;33m)\u001b[0m\u001b[1;33m\u001b[0m\u001b[1;33m\u001b[0m\u001b[0m\n\u001b[0m\u001b[0;32m      7\u001b[0m     \u001b[0mstart_time\u001b[0m \u001b[1;33m=\u001b[0m \u001b[0mt\u001b[0m \u001b[1;33m-\u001b[0m \u001b[1;36m3000\u001b[0m\u001b[1;33m\u001b[0m\u001b[1;33m\u001b[0m\u001b[0m\n\u001b[0;32m      8\u001b[0m     \u001b[1;32mwhile\u001b[0m \u001b[0mself\u001b[0m\u001b[1;33m.\u001b[0m\u001b[0mrequests\u001b[0m\u001b[1;33m[\u001b[0m\u001b[1;36m0\u001b[0m\u001b[1;33m]\u001b[0m \u001b[1;33m<\u001b[0m \u001b[0mstart_time\u001b[0m\u001b[1;33m:\u001b[0m\u001b[1;33m\u001b[0m\u001b[1;33m\u001b[0m\u001b[0m\n",
      "\u001b[1;31mNameError\u001b[0m: name 'self' is not defined"
     ]
    }
   ],
   "source": [
    "class RecentCounter:\n",
    "    def __init__(self):\n",
    "        self.requests = []\n",
    "\n",
    "def ping(t) -> int:\n",
    "    self.requests.append(t)\n",
    "    start_time = t - 3000\n",
    "    while self.requests[0] < start_time:\n",
    "        self.requests.pop(0)\n",
    "    return len(self.requests)\n",
    "t = [\"RecentCounter\", \"ping\", \"ping\", \"ping\", \"ping\"]\n",
    "[[], [1], [100], [3001], [3002]]\n",
    "ping(t)"
   ]
  },
  {
   "cell_type": "markdown",
   "id": "f4bb42a2",
   "metadata": {},
   "source": [
    " **Question 5**\n",
    "\n",
    "There are `n` friends that are playing a game. The friends are sitting in a circle and are numbered from `1` to `n` in **clockwise order**. More formally, moving clockwise from the `ith` friend brings you to the `(i+1)th` friend for `1 <= i < n`, and moving clockwise from the `nth` friend brings you to the `1st` friend.\n",
    "\n",
    "The rules of the game are as follows:\n",
    "\n",
    "1. **Start** at the `1st` friend.\n",
    "2. Count the next `k` friends in the clockwise direction **including** the friend you started at. The counting wraps around the circle and may count some friends more than once.\n",
    "3. The last friend you counted leaves the circle and loses the game.\n",
    "4. If there is still more than one friend in the circle, go back to step `2` **starting** from the friend **immediately clockwise** of the friend who just lost and repeat.\n",
    "5. Else, the last friend in the circle wins the game.\n",
    "\n",
    "Given the number of friends, `n`, and an integer `k`, return *the winner of the game*.\n",
    "\n",
    "</aside>"
   ]
  },
  {
   "cell_type": "code",
   "execution_count": 23,
   "id": "c94bff4f",
   "metadata": {},
   "outputs": [
    {
     "data": {
      "text/plain": [
       "3"
      ]
     },
     "execution_count": 23,
     "metadata": {},
     "output_type": "execute_result"
    }
   ],
   "source": [
    "def findTheWinner(n, k) -> int:\n",
    "    friends = list(range(1, n+1))  # Create a list of friends\n",
    "\n",
    "    # Start the game with the first friend\n",
    "    current = 0\n",
    "\n",
    "    while len(friends) > 1:\n",
    "        # Count k friends in the clockwise direction\n",
    "        current = (current + k - 1) % len(friends)\n",
    "        \n",
    "        # Eliminate the friend at the current position\n",
    "        friends.pop(current)\n",
    "\n",
    "    # Return the last remaining friend (the winner)\n",
    "    return friends[0]\n",
    "\n",
    "n = 5\n",
    "k = 2\n",
    "findTheWinner(n,k)\n"
   ]
  },
  {
   "cell_type": "markdown",
   "id": "085ba982",
   "metadata": {},
   "source": [
    "**Question 6**\n",
    "\n",
    "You are given an integer array `deck`. There is a deck of cards where every card has a unique integer. The integer on the `ith` card is `deck[i]`.\n",
    "\n",
    "You can order the deck in any order you want. Initially, all the cards start face down (unrevealed) in one deck.\n",
    "\n",
    "You will do the following steps repeatedly until all cards are revealed:\n",
    "\n",
    "1. Take the top card of the deck, reveal it, and take it out of the deck.\n",
    "2. If there are still cards in the deck then put the next top card of the deck at the bottom of the deck.\n",
    "3. If there are still unrevealed cards, go back to step 1. Otherwise, stop.\n",
    "\n",
    "Return *an ordering of the deck that would reveal the cards in increasing order*.\n",
    "\n",
    "**Note** that the first entry in the answer is considered to be the top of the deck.\n",
    "\n",
    "</aside>"
   ]
  },
  {
   "cell_type": "code",
   "execution_count": 24,
   "id": "72dabee6",
   "metadata": {},
   "outputs": [
    {
     "data": {
      "text/plain": [
       "[2, 13, 3, 11, 5, 17, 7]"
      ]
     },
     "execution_count": 24,
     "metadata": {},
     "output_type": "execute_result"
    }
   ],
   "source": [
    "from collections import deque\n",
    "import heapq\n",
    "\n",
    "def deckRevealedIncreasing(deck):\n",
    "    deck.sort()  \n",
    "    queue = deque(range(len(deck)))  \n",
    "    result = [0] * len(deck) \n",
    "\n",
    "    for card in deck:\n",
    "        result[queue.popleft()] = card  \n",
    "        if queue:  \n",
    "            queue.append(queue.popleft())  \n",
    "\n",
    "    return result\n",
    "deck = [17,13,11,2,3,5,7]\n",
    "deckRevealedIncreasing(deck)"
   ]
  },
  {
   "cell_type": "markdown",
   "id": "74e358ba",
   "metadata": {},
   "source": [
    "**Question 7**\n",
    "\n",
    "Design a queue that supports `push` and `pop` operations in the front, middle, and back.\n",
    "\n",
    "Implement the `FrontMiddleBack` class:\n",
    "\n",
    "- `FrontMiddleBack()` Initializes the queue.\n",
    "- `void pushFront(int val)` Adds `val` to the **front** of the queue.\n",
    "- `void pushMiddle(int val)` Adds `val` to the **middle** of the queue.\n",
    "- `void pushBack(int val)` Adds `val` to the **back** of the queue.\n",
    "- `int popFront()` Removes the **front** element of the queue and returns it. If the queue is empty, return `1`.\n",
    "- `int popMiddle()` Removes the **middle** element of the queue and returns it. If the queue is empty, return `1`.\n",
    "- `int popBack()` Removes the **back** element of the queue and returns it. If the queue is empty, return `1`.\n",
    "\n",
    "**Notice** that when there are **two** middle position choices, the operation is performed on the **frontmost** middle position choice. For example:\n",
    "\n",
    "- Pushing `6` into the middle of `[1, 2, 3, 4, 5]` results in `[1, 2, 6, 3, 4, 5]`.\n",
    "- Popping the middle from `[1, 2, 3, 4, 5, 6]` returns `3` and results in `[1, 2, 4, 5, 6]`.\n",
    "</aside>"
   ]
  },
  {
   "cell_type": "code",
   "execution_count": 25,
   "id": "5e078818",
   "metadata": {},
   "outputs": [],
   "source": [
    "from collections import deque\n",
    "\n",
    "class FrontMiddleBack:\n",
    "    def __init__(self):\n",
    "        self.front = deque()\n",
    "        self.back = deque()\n",
    "\n",
    "    def pushFront(self, val: int) -> None:\n",
    "        self.front.appendleft(val)\n",
    "        self.balance()\n",
    "\n",
    "    def pushMiddle(self, val: int) -> None:\n",
    "        if len(self.front) > len(self.back):\n",
    "            self.back.appendleft(self.front.pop())\n",
    "        self.front.append(val)\n",
    "\n",
    "    def pushBack(self, val: int) -> None:\n",
    "        self.back.append(val)\n",
    "        self.balance()\n",
    "\n",
    "    def popFront(self) -> int:\n",
    "        if not self.front and not self.back:\n",
    "            return -1\n",
    "        if not self.front:\n",
    "            return self.back.popleft()\n",
    "        return self.front.popleft()\n",
    "\n",
    "    def popMiddle(self) -> int:\n",
    "        if not self.front and not self.back:\n",
    "            return -1\n",
    "        if len(self.front) == len(self.back):\n",
    "            return self.front.pop()\n",
    "        return self.front.popleft()\n",
    "\n",
    "    def popBack(self) -> int:\n",
    "        if not self.front and not self.back:\n",
    "            return -1\n",
    "        if not self.back:\n",
    "            return self.front.pop()\n",
    "        return self.back.pop()\n",
    "\n",
    "    def balance(self) -> None:\n",
    "        while len(self.front) > len(self.back) + 1:\n",
    "            self.back.appendleft(self.front.pop())\n",
    "        while len(self.front) < len(self.back):\n",
    "            self.front.append(self.back.popleft())"
   ]
  },
  {
   "cell_type": "markdown",
   "id": "5f81fb87",
   "metadata": {},
   "source": [
    "**Question 8**\n",
    "\n",
    "For a stream of integers, implement a data structure that checks if the last `k` integers parsed in the stream are **equal** to `value`.\n",
    "\n",
    "Implement the **DataStream** class:\n",
    "\n",
    "- `DataStream(int value, int k)` Initializes the object with an empty integer stream and the two integers `value` and `k`.\n",
    "- `boolean consec(int num)` Adds `num` to the stream of integers. Returns `true` if the last `k` integers are equal to `value`, and `false` otherwise. If there are less than `k` integers, the condition does not hold true, so returns `false`.\n",
    "</aside>"
   ]
  },
  {
   "cell_type": "code",
   "execution_count": 26,
   "id": "f4a5108a",
   "metadata": {},
   "outputs": [
    {
     "name": "stdout",
     "output_type": "stream",
     "text": [
      "Rank of 4 in stream is: 3\n",
      "Rank of 13 in stream is: 8\n",
      "Rank of 8 in stream is: -1\n"
     ]
    }
   ],
   "source": [
    "class newNode:\n",
    "    def __init__(self, data):\n",
    "        self.data = data\n",
    "        self.left = self.right = None\n",
    "        self.leftSize = 0\n",
    " \n",
    "#Inserting a new Node.\n",
    "def insert(root, data):\n",
    "    if root is None:\n",
    "        return newNode(data)\n",
    " \n",
    "    # Updating size of left subtree.\n",
    "    if data <= root.data:\n",
    "        root.left = insert(root.left, data)\n",
    "        root.leftSize += 1\n",
    "    else:\n",
    "        root.right = insert(root.right, data)\n",
    "    return root\n",
    " \n",
    "# Function to get Rank of a Node x.\n",
    "def getRank(root, x):\n",
    "     \n",
    "    # Step 1.\n",
    "    if root.data == x:\n",
    "        return root.leftSize\n",
    " \n",
    "    # Step 2.\n",
    "    if x < root.data:\n",
    "        if root.left is None:\n",
    "            return -1\n",
    "        else:\n",
    "            return getRank(root.left, x)\n",
    " \n",
    "    # Step 3.\n",
    "    else:\n",
    "        if root.right is None:\n",
    "            return -1\n",
    "        else:\n",
    "            rightSize = getRank(root.right, x)\n",
    "            if rightSize == -1:\n",
    "                # x not found in right sub tree, i.e. not found in stream\n",
    "                return -1\n",
    "            else:\n",
    "                return root.leftSize + 1 + rightSize\n",
    " \n",
    "# Driver code\n",
    "if __name__ == '__main__':\n",
    "    arr = [5, 1, 4, 4, 5, 9, 7, 13, 3]\n",
    "    n = len(arr)\n",
    "    x = 4\n",
    " \n",
    "    root = None\n",
    "    for i in range(n):\n",
    "        root = insert(root, arr[i])\n",
    " \n",
    "    print(\"Rank of\", x, \"in stream is:\",\n",
    "                       getRank(root, x))\n",
    "    x = 13\n",
    "    print(\"Rank of\", x, \"in stream is:\",\n",
    "                       getRank(root, x))\n",
    "    x = 8\n",
    "    print(\"Rank of\", x, \"in stream is:\",\n",
    "                       getRank(root, x))"
   ]
  },
  {
   "cell_type": "code",
   "execution_count": null,
   "id": "e45878da",
   "metadata": {},
   "outputs": [],
   "source": []
  }
 ],
 "metadata": {
  "kernelspec": {
   "display_name": "Python 3 (ipykernel)",
   "language": "python",
   "name": "python3"
  },
  "language_info": {
   "codemirror_mode": {
    "name": "ipython",
    "version": 3
   },
   "file_extension": ".py",
   "mimetype": "text/x-python",
   "name": "python",
   "nbconvert_exporter": "python",
   "pygments_lexer": "ipython3",
   "version": "3.9.13"
  }
 },
 "nbformat": 4,
 "nbformat_minor": 5
}
