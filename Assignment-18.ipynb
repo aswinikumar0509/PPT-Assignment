{
 "cells": [
  {
   "cell_type": "markdown",
   "id": "ca926d2d",
   "metadata": {},
   "source": [
    " 1. **Merge Intervals**\n",
    "\n",
    "Given an array of `intervals` where `intervals[i] = [starti, endi]`, merge all overlapping intervals, and return *an array of the non-overlapping intervals that cover all the intervals in the input*.\n",
    "\n",
    "Input: intervals = [[1,3],[2,6],[8,10],[15,18]]\n",
    "Output: [[1,6],[8,10],[15,18]]\n",
    "Explanation: Since intervals [1,3] and [2,6] overlap, merge them into [1,6].\n",
    "\n",
    "\n",
    "</aside>"
   ]
  },
  {
   "cell_type": "code",
   "execution_count": 3,
   "id": "dd6f12ff",
   "metadata": {},
   "outputs": [
    {
     "name": "stdout",
     "output_type": "stream",
     "text": [
      "[1, 6]\n",
      "[8, 10]\n",
      "[15, 18]\n"
     ]
    }
   ],
   "source": [
    "def merge_interval(arr):\n",
    "    arr.sort(key = lambda x:x[0])\n",
    "    res = 0\n",
    "    for i in range(1, len(arr)) :\n",
    "        if (arr[res][1] >= arr[i][0]) :\n",
    "            arr[res][1] = max(arr[res][1],arr[i][1])\n",
    "        else :\n",
    "            res = res + 1 \n",
    "            arr[res] = arr[i]\n",
    "    for i in range(res + 1) :\n",
    "        print(arr[i])\n",
    "        \n",
    "arr = [[1,3],[2,6],[8,10],[15,18]]\n",
    "merge_interval(arr)"
   ]
  },
  {
   "cell_type": "markdown",
   "id": "e0ebdaa1",
   "metadata": {},
   "source": [
    " 2. **Sort Colors**\n",
    "\n",
    "Given an array `nums` with `n` objects colored red, white, or blue, sort them **[in-place](https://en.wikipedia.org/wiki/In-place_algorithm)** so that objects of the same color are adjacent, with the colors in the order red, white, and blue.\n",
    "\n",
    "We will use the integers `0`, `1`, and `2` to represent the color red, white, and blue, respectively.\n",
    "\n",
    "You must solve this problem without using the library's sort function.\n",
    "\n",
    "**Example 1:**\n",
    "\n",
    "Input: nums = [2,0,2,1,1,0]\n",
    "Output: [0,0,1,1,2,2]\n",
    "\n",
    "\n",
    "</aside>"
   ]
  },
  {
   "cell_type": "code",
   "execution_count": 4,
   "id": "236e93d6",
   "metadata": {},
   "outputs": [
    {
     "name": "stdout",
     "output_type": "stream",
     "text": [
      "[0, 1, 1, 1, 2, 2]\n"
     ]
    }
   ],
   "source": [
    "def sortarr(arr) :\n",
    "    lo,mid,hi = 0,0,(len(arr)-1)\n",
    "    while mid <+ hi :\n",
    "        if arr[mid] == 0 :\n",
    "            arr[lo],arr[mid] = arr[mid],arr[lo]\n",
    "            lo += 1 \n",
    "            mid += 1 \n",
    "        elif arr[mid] == 1 :\n",
    "            mid += 1 \n",
    "        else :\n",
    "            arr[hi],arr[mid] = arr[mid],arr[hi]\n",
    "            hi -= 1 \n",
    "    print(arr)\n",
    "    \n",
    "    \n",
    "arr = [0,1,2,1,1,2]\n",
    "A = sortarr(arr)"
   ]
  },
  {
   "cell_type": "markdown",
   "id": "1220beac",
   "metadata": {},
   "source": [
    "3. **First Bad Version Solution**\n",
    "\n",
    "You are a product manager and currently leading a team to develop a new product. Unfortunately, the latest version of your product fails the quality check. Since each version is developed based on the previous version, all the versions after a bad version are also bad.\n",
    "\n",
    "Suppose you have `n` versions `[1, 2, ..., n]` and you want to find out the first bad one, which causes all the following ones to be bad.\n",
    "\n",
    "You are given an API `bool isBadVersion(version)` which returns whether `version` is bad. Implement a function to find the first bad version. You should minimize the number of calls to the API.\n",
    "\n",
    "Input: n = 5, bad = 4\n",
    "\n",
    "Output: 4\n",
    "\n",
    "Explanation:\n",
    "\n",
    "call isBadVersion(3) -> false\n",
    "\n",
    "call isBadVersion(5) -> true\n",
    "\n",
    "call isBadVersion(4) -> true\n",
    "\n",
    "Then 4 is the first bad version.\n",
    "\n",
    "\n",
    "</aside>"
   ]
  },
  {
   "cell_type": "code",
   "execution_count": 6,
   "id": "5e9ae095",
   "metadata": {},
   "outputs": [
    {
     "data": {
      "text/plain": [
       "1"
      ]
     },
     "execution_count": 6,
     "metadata": {},
     "output_type": "execute_result"
    }
   ],
   "source": [
    "def firstBadVersion(n):\n",
    "    left = 1\n",
    "    right = n\n",
    "    \n",
    "    while left < right:\n",
    "        mid = left + (right - left) // 2\n",
    "        if firstBadVersion(mid):\n",
    "            right = mid\n",
    "        else:\n",
    "            left = mid + 1\n",
    "    \n",
    "    return left\n",
    "n = 5\n",
    "firstBadVersion(n)"
   ]
  },
  {
   "cell_type": "markdown",
   "id": "20a2157f",
   "metadata": {},
   "source": [
    " 4. **Maximum Gap**\n",
    "\n",
    "Given an integer array `nums`, return *the maximum difference between two successive elements in its sorted form*. If the array contains less than two elements, return `0`.\n",
    "\n",
    "You must write an algorithm that runs in linear time and uses linear extra space.\n",
    "\n",
    "\n",
    "Input: nums = [3,6,9,1]\n",
    "\n",
    "Output: 3\n",
    "\n",
    "Explanation: The sorted form of the array is [1,3,6,9], either (3,6) or (6,9) has the maximum difference 3.\n",
    "\n",
    "\n",
    "</aside>"
   ]
  },
  {
   "cell_type": "code",
   "execution_count": 7,
   "id": "4ee0b9f3",
   "metadata": {},
   "outputs": [
    {
     "data": {
      "text/plain": [
       "3"
      ]
     },
     "execution_count": 7,
     "metadata": {},
     "output_type": "execute_result"
    }
   ],
   "source": [
    "def maximum_Gap(nums):\n",
    "    if len(nums) < 2:\n",
    "        return 0\n",
    "    \n",
    "    max_num = max(nums)\n",
    "    exp = 1\n",
    "    n = len(nums)\n",
    "    output = [0] * n\n",
    "    \n",
    "    while max_num // exp > 0:\n",
    "        count = [0] * 10\n",
    "        \n",
    "        for i in range(n):\n",
    "            digit = (nums[i] // exp) % 10\n",
    "            count[digit] += 1\n",
    "        \n",
    "        for i in range(1, 10):\n",
    "            count[i] += count[i - 1]\n",
    "        \n",
    "        for i in range(n - 1, -1, -1):\n",
    "            digit = (nums[i] // exp) % 10\n",
    "            output[count[digit] - 1] = nums[i]\n",
    "            count[digit] -= 1\n",
    "        \n",
    "        nums = output.copy()\n",
    "        exp *= 10\n",
    "    \n",
    "    max_gap = 0\n",
    "    for i in range(1, n):\n",
    "        max_gap = max(max_gap, nums[i] - nums[i - 1])\n",
    "    \n",
    "    return max_gap\n",
    "\n",
    "nums = [3,6,9,1]\n",
    "maximum_Gap(nums)\n"
   ]
  },
  {
   "cell_type": "markdown",
   "id": "b603202d",
   "metadata": {},
   "source": [
    "<aside>\n",
    "💡 5. **Contains Duplicate**\n",
    "\n",
    "Given an integer array `nums`, return `true` if any value appears **at least twice** in the array, and return `false` if every element is distinct.\n",
    "\n",
    "</aside>"
   ]
  },
  {
   "cell_type": "code",
   "execution_count": 10,
   "id": "a6176ae3",
   "metadata": {},
   "outputs": [
    {
     "data": {
      "text/plain": [
       "True"
      ]
     },
     "execution_count": 10,
     "metadata": {},
     "output_type": "execute_result"
    }
   ],
   "source": [
    "def duplicate(nums):\n",
    "    \n",
    "    a = set(nums)\n",
    "    \n",
    "    if len(nums)==len(a):\n",
    "        return False\n",
    "    return True\n",
    "\n",
    "nums = [1,2,3,1]\n",
    "duplicate(nums)"
   ]
  },
  {
   "cell_type": "markdown",
   "id": "9630bbe5",
   "metadata": {},
   "source": [
    "6. **Minimum Number of Arrows to Burst Balloons**\n",
    "\n",
    "There are some spherical balloons taped onto a flat wall that represents the XY-plane. The balloons are represented as a 2D integer array `points` where `points[i] = [xstart, xend]` denotes a balloon whose **horizontal diameter** stretches between `xstart` and `xend`. You do not know the exact y-coordinates of the balloons.\n",
    "\n",
    "Arrows can be shot up **directly vertically** (in the positive y-direction) from different points along the x-axis. A balloon with `xstart` and `xend` is **burst** by an arrow shot at `x` if `xstart <= x <= xend`. There is **no limit** to the number of arrows that can be shot. A shot arrow keeps traveling up infinitely, bursting any balloons in its path.\n",
    "\n",
    "Given the array `points`, return *the **minimum** number of arrows that must be shot to burst all balloons*.\n",
    "\n",
    "</aside>"
   ]
  },
  {
   "cell_type": "code",
   "execution_count": 11,
   "id": "f97b7134",
   "metadata": {},
   "outputs": [
    {
     "data": {
      "text/plain": [
       "2"
      ]
     },
     "execution_count": 11,
     "metadata": {},
     "output_type": "execute_result"
    }
   ],
   "source": [
    "    def findMinArrowShots(points) -> int:\n",
    "        points.sort(key = lambda x : x[0])\n",
    "\n",
    "        last_end = float('-inf')\n",
    "        arrow_count = 0\n",
    "\n",
    "        for start , end in points:\n",
    "\n",
    "            if start <= last_end:\n",
    "                last_end = min(last_end,end)\n",
    "            else:\n",
    "                arrow_count+=1\n",
    "                last_end = end\n",
    "        return arrow_count\n",
    "    \n",
    "    points = [[10,16],[2,8],[1,6],[7,12]]\n",
    "    findMinArrowShots(points)"
   ]
  },
  {
   "cell_type": "markdown",
   "id": "6aa4e4e6",
   "metadata": {},
   "source": [
    "7. **Longest Increasing Subsequence**\n",
    "\n",
    "Given an integer array `nums`, return *the length of the longest **strictly increasing***\n",
    "\n",
    "</aside>"
   ]
  },
  {
   "cell_type": "code",
   "execution_count": 12,
   "id": "e171ad29",
   "metadata": {},
   "outputs": [
    {
     "data": {
      "text/plain": [
       "4"
      ]
     },
     "execution_count": 12,
     "metadata": {},
     "output_type": "execute_result"
    }
   ],
   "source": [
    "    def lengthOfLIS(nums):\n",
    "        dp=[0]*(len(nums))\n",
    "        dp[0]=1\n",
    "        for i in range(1,len(nums)):\n",
    "            maxi=0\n",
    "            for j in range(0,i):\n",
    "                if(nums[i]>nums[j]):\n",
    "                    maxi=max(maxi,dp[j])\n",
    "            dp[i]=1+maxi\n",
    "            \n",
    "        return max(dp)\n",
    "    nums = [10,9,2,5,3,7,101,18]\n",
    "    lengthOfLIS(nums)\n",
    "    \n",
    "    "
   ]
  },
  {
   "cell_type": "markdown",
   "id": "d2f8a5ff",
   "metadata": {},
   "source": [
    "8. **132 Pattern**\n",
    "\n",
    "Given an array of `n` integers `nums`, a **132 pattern** is a subsequence of three integers `nums[i]`, `nums[j]` and `nums[k]` such that `i < j < k` and `nums[i] < nums[k] < nums[j]`.\n",
    "\n",
    "Return `true` *if there is a **132 pattern** in* `nums`*, otherwise, return* `false`*.*\n",
    "\n",
    "</aside>"
   ]
  },
  {
   "cell_type": "code",
   "execution_count": 13,
   "id": "facdbce7",
   "metadata": {},
   "outputs": [
    {
     "data": {
      "text/plain": [
       "False"
      ]
     },
     "execution_count": 13,
     "metadata": {},
     "output_type": "execute_result"
    }
   ],
   "source": [
    "    def find132pattern(nums) -> bool:\n",
    "        stack = []\n",
    "        s3 = float('-inf')\n",
    "\n",
    "        for i in range(len(nums)-1,-1,-1):\n",
    "            if nums[i]<s3:\n",
    "                return True\n",
    "            while stack and stack[-1]<nums[i]:\n",
    "                s3 = stack.pop()\n",
    "            stack.append(nums[i])\n",
    "\n",
    "        return False\n",
    "    \n",
    "    nums = [1,2,3,4]\n",
    "    find132pattern(nums)\n",
    "    "
   ]
  },
  {
   "cell_type": "code",
   "execution_count": null,
   "id": "1be52f04",
   "metadata": {},
   "outputs": [],
   "source": []
  }
 ],
 "metadata": {
  "kernelspec": {
   "display_name": "Python 3 (ipykernel)",
   "language": "python",
   "name": "python3"
  },
  "language_info": {
   "codemirror_mode": {
    "name": "ipython",
    "version": 3
   },
   "file_extension": ".py",
   "mimetype": "text/x-python",
   "name": "python",
   "nbconvert_exporter": "python",
   "pygments_lexer": "ipython3",
   "version": "3.9.13"
  }
 },
 "nbformat": 4,
 "nbformat_minor": 5
}
