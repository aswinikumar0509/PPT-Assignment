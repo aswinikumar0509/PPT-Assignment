{
 "cells": [
  {
   "cell_type": "markdown",
   "id": "a860b031",
   "metadata": {},
   "source": [
    "1. Write a Python program to reverse a string without using any built-in string reversal functions."
   ]
  },
  {
   "cell_type": "code",
   "execution_count": 1,
   "id": "97a6864d",
   "metadata": {},
   "outputs": [
    {
     "data": {
      "text/plain": [
       "'iniwsa'"
      ]
     },
     "execution_count": 1,
     "metadata": {},
     "output_type": "execute_result"
    }
   ],
   "source": [
    "def reverse_string(str)->str:\n",
    "    str = str[::-1]\n",
    "    return str\n",
    "\n",
    "str = \"aswini\"\n",
    "reverse_string(str)"
   ]
  },
  {
   "cell_type": "markdown",
   "id": "407e4cbb",
   "metadata": {},
   "source": [
    " 2. Implement a function to check if a given string is a palindrome."
   ]
  },
  {
   "cell_type": "code",
   "execution_count": 2,
   "id": "33ef10eb",
   "metadata": {},
   "outputs": [
    {
     "name": "stdout",
     "output_type": "stream",
     "text": [
      "String is palindrome\n"
     ]
    }
   ],
   "source": [
    "## Creating the function na dchecking the string is palindrome\n",
    "\n",
    "def palindrome_string(s)->str:\n",
    "    s1 = s[::-1]\n",
    "    if s1==s:\n",
    "        print(\"String is palindrome\")\n",
    "    else:\n",
    "        print(\"Not Palindrome\")\n",
    "        \n",
    "s = \"aba\"\n",
    "palindrome_string(s)"
   ]
  },
  {
   "cell_type": "markdown",
   "id": "267086ee",
   "metadata": {},
   "source": [
    "3. Write a program to find the largest element in a given list."
   ]
  },
  {
   "cell_type": "code",
   "execution_count": 3,
   "id": "09cb9cb5",
   "metadata": {},
   "outputs": [
    {
     "data": {
      "text/plain": [
       "1"
      ]
     },
     "execution_count": 3,
     "metadata": {},
     "output_type": "execute_result"
    }
   ],
   "source": [
    "## Creating the program for finding the largest element in the array\n",
    "\n",
    "def largest_element(arr)->int:\n",
    "    \n",
    "    if len(arr)==0 or len(arr)==1:\n",
    "        return len(arr)\n",
    "    \n",
    "    max_element = arr[0]\n",
    "    for i in range(len(arr)):\n",
    "        if arr[i]>max_element:\n",
    "            max_element = arr[i]\n",
    "    return max_element \n",
    "arr = [0]\n",
    "largest_element(arr)"
   ]
  },
  {
   "cell_type": "markdown",
   "id": "ad43db9c",
   "metadata": {},
   "source": [
    "4. Implement a function to count the occurrence of each element in a list."
   ]
  },
  {
   "cell_type": "code",
   "execution_count": 4,
   "id": "255ca362",
   "metadata": {},
   "outputs": [
    {
     "name": "stdout",
     "output_type": "stream",
     "text": [
      "10 3\n",
      "20 4\n",
      "5 1\n"
     ]
    }
   ],
   "source": [
    "## Counting the occurance of the element means count the frequency of each element\n",
    "\n",
    "def count_freq(arr)->int:\n",
    "    n = len(arr)\n",
    "    visited = [False for i in range(n)]\n",
    "    \n",
    "    for i in range(n):\n",
    "        if visited[i]==True:\n",
    "            continue\n",
    "        count = 1\n",
    "        for j in range(i+1,n,1):\n",
    "            if arr[i]==arr[j]:\n",
    "                visited[j] = True\n",
    "                count+=1\n",
    "                \n",
    "        print(arr[i],count)\n",
    "        \n",
    "arr = [10,20,20,10,10,20,5,20]\n",
    "count_freq(arr)\n",
    "    "
   ]
  },
  {
   "cell_type": "markdown",
   "id": "079ba10d",
   "metadata": {},
   "source": [
    "5. Write a Python program to find the second largest number in a list."
   ]
  },
  {
   "cell_type": "code",
   "execution_count": 5,
   "id": "f96e5a25",
   "metadata": {},
   "outputs": [
    {
     "data": {
      "text/plain": [
       "4"
      ]
     },
     "execution_count": 5,
     "metadata": {},
     "output_type": "execute_result"
    }
   ],
   "source": [
    "## Program for the second largest element in the list\n",
    "\n",
    "def second_largetst(arr)->int:\n",
    "    first_largest,second_largest = float('-inf'),float('-inf')\n",
    "    \n",
    "    for num in arr:\n",
    "        if num > first_largest:\n",
    "            second_largest, first_largest = first_largest, num\n",
    "        elif num > second_largest and num != first_largest:\n",
    "            second_largest = num\n",
    "        \n",
    "    return second_largest if second_largest != float('-inf') else -1\n",
    "\n",
    "arr = [1,2,3,4,5]\n",
    "second_largetst(arr)"
   ]
  },
  {
   "cell_type": "markdown",
   "id": "a9c1c4bb",
   "metadata": {},
   "source": [
    "6. Implement a function to remove duplicate elements from a list."
   ]
  },
  {
   "cell_type": "code",
   "execution_count": 6,
   "id": "45699ab5",
   "metadata": {},
   "outputs": [
    {
     "data": {
      "text/plain": [
       "5"
      ]
     },
     "execution_count": 6,
     "metadata": {},
     "output_type": "execute_result"
    }
   ],
   "source": [
    "## Creating the function removing the duplicate element in the array\n",
    "\n",
    "def remove_duplicate(arr)->int:\n",
    "    n = len(arr)\n",
    "    \n",
    "    if n == 0 or n == 1:\n",
    "        return n\n",
    " \n",
    "    temp = list(range(n))\n",
    " \n",
    "    # Start traversing elements\n",
    "    j = 0\n",
    "    for i in range(0, n-1):\n",
    " \n",
    "        if arr[i] != arr[i+1]:\n",
    "            temp[j] = arr[i]\n",
    "            j += 1\n",
    "\n",
    "    temp[j] = arr[n-1]\n",
    "    j += 1\n",
    " \n",
    "    # Modify original array\n",
    "    for i in range(0, j):\n",
    "        arr[i] = temp[i]\n",
    " \n",
    "    return j\n",
    "\n",
    "arr = [1, 2, 2, 3, 4, 4, 4, 5, 5]\n",
    "remove_duplicate(arr)"
   ]
  },
  {
   "cell_type": "markdown",
   "id": "db27ec01",
   "metadata": {},
   "source": [
    "7. Write a program to calculate the factorial of a given number."
   ]
  },
  {
   "cell_type": "code",
   "execution_count": 7,
   "id": "7029d51f",
   "metadata": {},
   "outputs": [
    {
     "data": {
      "text/plain": [
       "120"
      ]
     },
     "execution_count": 7,
     "metadata": {},
     "output_type": "execute_result"
    }
   ],
   "source": [
    "# function for calculating the factorial of the number\n",
    "# formula = n*(n-1)\n",
    "\n",
    "def factorial(num):\n",
    "    if num==0 or num==1:\n",
    "        return 1\n",
    "    return num*factorial(num-1)\n",
    "num = 5\n",
    "factorial(num)"
   ]
  },
  {
   "cell_type": "markdown",
   "id": "6b86d0b6",
   "metadata": {},
   "source": [
    "8. Implement a function to check if a given number is prime"
   ]
  },
  {
   "cell_type": "code",
   "execution_count": 8,
   "id": "53121155",
   "metadata": {},
   "outputs": [
    {
     "name": "stdout",
     "output_type": "stream",
     "text": [
      "True\n"
     ]
    }
   ],
   "source": [
    "# Function for checking the number is prime or not\n",
    "\n",
    "from math import sqrt\n",
    " \n",
    "def Prime(number,itr):  \n",
    "    if itr == 1:\n",
    "        return True\n",
    "    if number % itr == 0:\n",
    "        return False\n",
    "    if Prime(number,itr-1) == False:\n",
    "        return False\n",
    "    return True\n",
    "  \n",
    "num = 13\n",
    " \n",
    "itr = int(sqrt(num)+1)\n",
    " \n",
    "print(Prime(num,itr))"
   ]
  },
  {
   "cell_type": "markdown",
   "id": "7ed0968e",
   "metadata": {},
   "source": [
    "9. Write a Python program to sort a list of integers in ascending order"
   ]
  },
  {
   "cell_type": "code",
   "execution_count": 9,
   "id": "8e3dda68",
   "metadata": {},
   "outputs": [
    {
     "data": {
      "text/plain": [
       "[5, 4, 3, 2, 1]"
      ]
     },
     "execution_count": 9,
     "metadata": {},
     "output_type": "execute_result"
    }
   ],
   "source": [
    "# function to sort the number in the ascending order\n",
    "\n",
    "def sort_number(arr)->int:\n",
    "    n = len(arr)\n",
    "    arr.sort()\n",
    "    s = 0\n",
    "    e = n-1\n",
    "    while s<e:\n",
    "        arr[s],arr[e]=arr[e],arr[s]\n",
    "        s+=1\n",
    "        e-=1\n",
    "        \n",
    "    return arr\n",
    "\n",
    "arr = [3,2,5,1,4]\n",
    "sort_number(arr)"
   ]
  },
  {
   "cell_type": "markdown",
   "id": "132d5138",
   "metadata": {},
   "source": [
    "10. Implement a function to find the sum of all numbers in a list."
   ]
  },
  {
   "cell_type": "code",
   "execution_count": 10,
   "id": "41af98f2",
   "metadata": {},
   "outputs": [
    {
     "data": {
      "text/plain": [
       "15"
      ]
     },
     "execution_count": 10,
     "metadata": {},
     "output_type": "execute_result"
    }
   ],
   "source": [
    "## Function for finding the summ of the number in the list\n",
    "\n",
    "def sum_number(arr)->int:\n",
    "    res = 0\n",
    "    for i in range(len(arr)):\n",
    "        res+=arr[i]\n",
    "    return res\n",
    "arr = [1,2,3,4,5]\n",
    "sum_number(arr)"
   ]
  },
  {
   "cell_type": "markdown",
   "id": "7a378ff1",
   "metadata": {},
   "source": [
    "11. Write a program to find the common elements between two lists."
   ]
  },
  {
   "cell_type": "code",
   "execution_count": 11,
   "id": "6bd27b7a",
   "metadata": {},
   "outputs": [
    {
     "data": {
      "text/plain": [
       "1"
      ]
     },
     "execution_count": 11,
     "metadata": {},
     "output_type": "execute_result"
    }
   ],
   "source": [
    "## Function for finding the common element in two list , for this intersection can be performed\n",
    "\n",
    "def intersection(arr1,m,arr2,n)->int:\n",
    "    us = set()\n",
    "    for i in range(m):\n",
    "        us.add(arr1[i])\n",
    "    res = 0\n",
    "    for i in range(n):\n",
    "        if arr2[i] in us:\n",
    "            res+=1\n",
    "            us.remove(arr2[i])\n",
    "    return res\n",
    "    \n",
    "arr1 = [10,20]\n",
    "arr2 = [20,30]\n",
    "m = len(arr1)\n",
    "n = len(arr2)\n",
    "\n",
    "intersection(arr1,m,arr2,n)"
   ]
  },
  {
   "cell_type": "markdown",
   "id": "34a02ac1",
   "metadata": {},
   "source": [
    "12. Implement a function to check if a given string is an anagram of another string."
   ]
  },
  {
   "cell_type": "code",
   "execution_count": 12,
   "id": "8efbe339",
   "metadata": {},
   "outputs": [
    {
     "name": "stdout",
     "output_type": "stream",
     "text": [
      "True\n",
      "++++++++++++++++++++++++++++++++++\n",
      "False\n"
     ]
    }
   ],
   "source": [
    "def is_anagram(string1, string2):\n",
    "    # Remove any spaces and convert both strings to lowercase\n",
    "    string1 = string1.replace(\" \", \"\").lower()\n",
    "    string2 = string2.replace(\" \", \"\").lower()\n",
    "\n",
    "    # Check if the lengths of the strings are different\n",
    "    if len(string1) != len(string2):\n",
    "        return False\n",
    "\n",
    "    # Create dictionaries to store character counts\n",
    "    char_count1 = {}\n",
    "    char_count2 = {}\n",
    "\n",
    "    # Count the characters in string1\n",
    "    for char in string1:\n",
    "        char_count1[char] = char_count1.get(char, 0) + 1\n",
    "\n",
    "    # Count the characters in string2\n",
    "    for char in string2:\n",
    "        char_count2[char] = char_count2.get(char, 0) + 1\n",
    "\n",
    "    # Compare the character counts\n",
    "    return char_count1 == char_count2\n",
    "\n",
    "\n",
    "string1 = \"listen\"\n",
    "string2 = \"silent\"\n",
    "print(is_anagram(string1, string2))  \n",
    "\n",
    "print(\"++++++++++++++++++++++++++++++++++\")\n",
    "string3 = \"hello\"\n",
    "string4 = \"world\"\n",
    "print(is_anagram(string3, string4)) \n"
   ]
  },
  {
   "cell_type": "markdown",
   "id": "ca0d8d67",
   "metadata": {},
   "source": [
    "13. Write a Python program to generate all permutations of a given string."
   ]
  },
  {
   "cell_type": "code",
   "execution_count": 13,
   "id": "fb91cab0",
   "metadata": {},
   "outputs": [
    {
     "name": "stdout",
     "output_type": "stream",
     "text": [
      "ABC\n",
      "ACB\n",
      "BAC\n",
      "BCA\n",
      "CBA\n",
      "CAB\n"
     ]
    }
   ],
   "source": [
    "## creating the function for the permutation of the string\n",
    "\n",
    "\n",
    "def toString(List):\n",
    "    return ''.join(List)\n",
    "\n",
    "def permute(a, l, r):\n",
    "    if l == r:\n",
    "        print (toString(a))\n",
    "    else:\n",
    "        for i in range(l, r + 1):\n",
    "            a[l], a[i] = a[i], a[l]\n",
    "            permute(a, l + 1, r)\n",
    "            a[l], a[i] = a[i], a[l]\n",
    "\n",
    "string = \"ABC\"\n",
    "n = len(string)\n",
    "a = list(string)\n",
    "permute(a, 0, n-1)"
   ]
  },
  {
   "cell_type": "markdown",
   "id": "02a33d33",
   "metadata": {},
   "source": [
    "14. Implement a function to calculate the Fibonacci sequence up to a given number of terms."
   ]
  },
  {
   "cell_type": "code",
   "execution_count": 14,
   "id": "1aa3c35a",
   "metadata": {},
   "outputs": [
    {
     "data": {
      "text/plain": [
       "34"
      ]
     },
     "execution_count": 14,
     "metadata": {},
     "output_type": "execute_result"
    }
   ],
   "source": [
    "## Creating the function for thr fibonaci series\n",
    "\n",
    "def fibonachi(l):\n",
    "    if l==0 or l==1:\n",
    "        return l\n",
    "    \n",
    "    return fibonachi(l-2)+fibonachi(l-1)\n",
    "l=9\n",
    "fibonachi(l)"
   ]
  },
  {
   "cell_type": "markdown",
   "id": "d987e5f4",
   "metadata": {},
   "source": [
    "15. Write a program to find the median of a list of numbers."
   ]
  },
  {
   "cell_type": "code",
   "execution_count": 15,
   "id": "a31b8616",
   "metadata": {},
   "outputs": [
    {
     "name": "stdout",
     "output_type": "stream",
     "text": [
      "7\n"
     ]
    }
   ],
   "source": [
    "## Creating the python program for the median elemenet in the array\n",
    "\n",
    "def medain_element(arr)->int:\n",
    "    arr.sort()\n",
    "    n= len(arr)\n",
    "\n",
    "    # Check if the length of the list is odd\n",
    "    if n % 2 != 0:\n",
    "        # If the length is odd, return the middle element\n",
    "        median = arr[n // 2]\n",
    "    else:\n",
    "        # If the length is even, calculate the average of the two middle elements\n",
    "        mid1 = arr[n // 2 - 1]\n",
    "        mid2 = arr[n // 2]\n",
    "        median = (mid1 + mid2) / 2\n",
    "\n",
    "    return median\n",
    "    \n",
    "numbers = [7, 2, 10, 5, 1, 8, 9]\n",
    "median = medain_element(numbers)\n",
    "print(median)\n",
    "        "
   ]
  },
  {
   "cell_type": "markdown",
   "id": "1ec7e964",
   "metadata": {},
   "source": [
    "16. Implement a function to check if a given list is sorted in non-decreasing order."
   ]
  },
  {
   "cell_type": "code",
   "execution_count": 16,
   "id": "6a9be664",
   "metadata": {},
   "outputs": [
    {
     "name": "stdout",
     "output_type": "stream",
     "text": [
      "True\n",
      "+++++++++++++++\n",
      "False\n"
     ]
    }
   ],
   "source": [
    "## Creating the function for checking array element is sorted\n",
    "\n",
    "def checking_sorted(arr)->bool:\n",
    "    n = len(arr)\n",
    "    for i in range(n):\n",
    "        if arr[i]>arr[i+1]:\n",
    "            return False\n",
    "        else:\n",
    "            return True\n",
    "        \n",
    "arr = [1,2,3,4,5]\n",
    "print(checking_sorted(arr))\n",
    "print(\"+++++++++++++++\")\n",
    "\n",
    "arr1 = [5,3,4,2,1]\n",
    "print(checking_sorted(arr1))"
   ]
  },
  {
   "cell_type": "markdown",
   "id": "0432cde0",
   "metadata": {},
   "source": [
    "17. Write a Python program to find the intersection of two lists."
   ]
  },
  {
   "cell_type": "code",
   "execution_count": 17,
   "id": "4fc9861d",
   "metadata": {},
   "outputs": [
    {
     "data": {
      "text/plain": [
       "1"
      ]
     },
     "execution_count": 17,
     "metadata": {},
     "output_type": "execute_result"
    }
   ],
   "source": [
    "def intersection(arr1,m,arr2,n)->int:\n",
    "    us = set()\n",
    "    for i in range(m):\n",
    "        us.add(arr1[i])\n",
    "    res = 0\n",
    "    for i in range(n):\n",
    "        if arr2[i] in us:\n",
    "            res+=1\n",
    "            us.remove(arr2[i])\n",
    "    return res\n",
    "    \n",
    "arr1 = [10,20]\n",
    "arr2 = [20,30]\n",
    "m = len(arr1)\n",
    "n = len(arr2)\n",
    "\n",
    "intersection(arr1,m,arr2,n)"
   ]
  },
  {
   "cell_type": "markdown",
   "id": "0814981a",
   "metadata": {},
   "source": [
    "18. Implement a function to find the maximum subarray sum in a given list."
   ]
  },
  {
   "cell_type": "code",
   "execution_count": 18,
   "id": "30550450",
   "metadata": {},
   "outputs": [
    {
     "name": "stdout",
     "output_type": "stream",
     "text": [
      "24\n"
     ]
    }
   ],
   "source": [
    "## Creating the function for finding the ,maximum subarraysum\n",
    "## here appliying window slidding technique\n",
    "#arr = [3,6,4,5,7]\n",
    "\n",
    "def maxSum(arr, n, k):\n",
    "\tif (n < k):\n",
    "\t\n",
    "\t\tprint(\"Invalid\")\n",
    "\t\treturn -1\n",
    "\n",
    "\tres = 0\n",
    "\tfor i in range(k):\n",
    "\t\tres += arr[i]\n",
    "\n",
    "\tcurr_sum = res\n",
    "\tfor i in range(k, n):\n",
    "\t\n",
    "\t\tcurr_sum += arr[i] - arr[i-k]\n",
    "\t\tres = max(res, curr_sum)\n",
    "\n",
    "\treturn res\n",
    "\n",
    "# Driver code\n",
    "arr = [1, 4, 2, 10, 2, 3, 1, 0, 20]\n",
    "k = 4\n",
    "n = len(arr)\n",
    "print(maxSum(arr, n, k))"
   ]
  },
  {
   "cell_type": "markdown",
   "id": "682d9b19",
   "metadata": {},
   "source": [
    "19. Write a program to remove all vowels from a given string."
   ]
  },
  {
   "cell_type": "code",
   "execution_count": 19,
   "id": "5a93e076",
   "metadata": {},
   "outputs": [
    {
     "data": {
      "text/plain": [
       "'My nm s swn'"
      ]
     },
     "execution_count": 19,
     "metadata": {},
     "output_type": "execute_result"
    }
   ],
   "source": [
    "# vowels = \"a,e,i,o,u\"\n",
    "\n",
    "def remove_vowels(s):\n",
    "    vowels = \"aeiouAEIOU\"\n",
    "    new_string = \"\"\n",
    "    for i in s:\n",
    "        if i not in vowels:\n",
    "            new_string+=i\n",
    "    return new_string\n",
    "\n",
    "s = \"My name is aswini\"\n",
    "remove_vowels(s)"
   ]
  },
  {
   "cell_type": "markdown",
   "id": "560fe0da",
   "metadata": {},
   "source": [
    "20. Implement a function to reverse the order of words in a given sentence"
   ]
  },
  {
   "cell_type": "code",
   "execution_count": 20,
   "id": "3bdc3c63",
   "metadata": {},
   "outputs": [
    {
     "name": "stdout",
     "output_type": "stream",
     "text": [
      "sentence. a is This\n"
     ]
    }
   ],
   "source": [
    "## in the program need to reverse the order of the string \n",
    "#name-->eman\n",
    "\n",
    "def reverse_order(s):\n",
    "    words = s.split(\" \")\n",
    "    reversed_words = words[::-1]\n",
    "    return \" \".join(reversed_words)\n",
    "\n",
    "sentence = \"This is a sentence.\"\n",
    "print(reverse_order(sentence))"
   ]
  },
  {
   "cell_type": "markdown",
   "id": "b226e929",
   "metadata": {},
   "source": [
    "21. Write a Python program to check if two strings are anagrams of each other"
   ]
  },
  {
   "cell_type": "code",
   "execution_count": 21,
   "id": "f779cd98",
   "metadata": {},
   "outputs": [
    {
     "name": "stdout",
     "output_type": "stream",
     "text": [
      "True\n"
     ]
    }
   ],
   "source": [
    "def is_anagram(string1, string2):\n",
    "    if len(string1) != len(string2):\n",
    "        return False\n",
    "    char_counts = {}\n",
    "    for char in string1:\n",
    "        if char in char_counts:\n",
    "            char_counts[char] += 1\n",
    "        else:\n",
    "            char_counts[char] = 1\n",
    "    for char in string2:\n",
    "        if char not in char_counts:\n",
    "            return False\n",
    "        else:\n",
    "            char_counts[char] -= 1\n",
    "    for count in char_counts.values():\n",
    "        if count != 0:\n",
    "            return False\n",
    "    return True\n",
    "\n",
    "\n",
    "string1 = \"anagram\"\n",
    "string2 = \"nagaram\"\n",
    "print(is_anagram(string1, string2))"
   ]
  },
  {
   "cell_type": "markdown",
   "id": "3b8b7eaa",
   "metadata": {},
   "source": [
    "22. Implement a function to find the first non-repeating character in a string."
   ]
  },
  {
   "cell_type": "code",
   "execution_count": 22,
   "id": "9a03076c",
   "metadata": {},
   "outputs": [
    {
     "name": "stdout",
     "output_type": "stream",
     "text": [
      "b\n"
     ]
    }
   ],
   "source": [
    "# function for first non repeating element in the array\n",
    "def find_first_non_repeating_char(string):\n",
    "    char_count = {}\n",
    "\n",
    "    # Count the occurrence of each character in the string\n",
    "    for char in string:\n",
    "        char_count[char] = char_count.get(char, 0) + 1\n",
    "\n",
    "    # Find the first character with count 1\n",
    "    for char in string:\n",
    "        if char_count[char] == 1:\n",
    "            return char\n",
    "\n",
    "    # If no non-repeating character found, return None\n",
    "    return None\n",
    "\n",
    "string1 = \"aabccdeeff\"\n",
    "result1 = find_first_non_repeating_char(string1)\n",
    "print(result1)"
   ]
  },
  {
   "cell_type": "markdown",
   "id": "392d6af5",
   "metadata": {},
   "source": [
    "23. Write a program to find the prime factors of a given number."
   ]
  },
  {
   "cell_type": "code",
   "execution_count": 23,
   "id": "00fcf9f0",
   "metadata": {},
   "outputs": [
    {
     "name": "stdout",
     "output_type": "stream",
     "text": [
      "[2, 2, 2, 7]\n"
     ]
    }
   ],
   "source": [
    "def find_prime_factors(number):\n",
    "    prime_factors = []\n",
    "    divisor = 2\n",
    "\n",
    "    while divisor <= number:\n",
    "        if number % divisor == 0:\n",
    "            prime_factors.append(divisor)\n",
    "            number = number / divisor\n",
    "        else:\n",
    "            divisor += 1\n",
    "\n",
    "    return prime_factors\n",
    "\n",
    "number1 = 56\n",
    "factors1 = find_prime_factors(number1)\n",
    "print(factors1)"
   ]
  },
  {
   "cell_type": "markdown",
   "id": "a966f329",
   "metadata": {},
   "source": [
    "24. Implement a function to check if a given number is a power of two."
   ]
  },
  {
   "cell_type": "code",
   "execution_count": 24,
   "id": "491b6415",
   "metadata": {},
   "outputs": [
    {
     "name": "stdout",
     "output_type": "stream",
     "text": [
      "True\n"
     ]
    }
   ],
   "source": [
    "def is_power_of_two(number):\n",
    "    if number <= 0:\n",
    "        return False\n",
    "    count = bin(number).count('1')\n",
    "    \n",
    "    return count == 1\n",
    "\n",
    "number1 = 16\n",
    "result1 = is_power_of_two(number1)\n",
    "print(result1)"
   ]
  },
  {
   "cell_type": "markdown",
   "id": "f56df7aa",
   "metadata": {},
   "source": [
    "25. Write a Python program to merge two sorted lists into a single sorted list."
   ]
  },
  {
   "cell_type": "code",
   "execution_count": 25,
   "id": "04467485",
   "metadata": {},
   "outputs": [
    {
     "name": "stdout",
     "output_type": "stream",
     "text": [
      "[1, 2, 3, 4, 5, 6, 7, 8]\n"
     ]
    }
   ],
   "source": [
    "def merge_sorted_lists(list1, list2):\n",
    "    merged_list = []\n",
    "    i = 0  \n",
    "    j = 0  \n",
    "\n",
    "    while i < len(list1) and j < len(list2):\n",
    "        if list1[i] < list2[j]:\n",
    "            merged_list.append(list1[i])\n",
    "            i += 1\n",
    "        else:\n",
    "            merged_list.append(list2[j])\n",
    "            j += 1\n",
    "\n",
    "    while i < len(list1):\n",
    "        merged_list.append(list1[i])\n",
    "        i += 1\n",
    "        \n",
    "    while j < len(list2):\n",
    "        merged_list.append(list2[j])\n",
    "        j += 1\n",
    "\n",
    "    return merged_list\n",
    "\n",
    "list1 = [1, 3, 5, 7]\n",
    "list2 = [2, 4, 6, 8]\n",
    "merged = merge_sorted_lists(list1, list2)\n",
    "print(merged)"
   ]
  },
  {
   "cell_type": "markdown",
   "id": "2e698452",
   "metadata": {},
   "source": [
    "26. Implement a function to find the mode of a list of numbers"
   ]
  },
  {
   "cell_type": "code",
   "execution_count": 26,
   "id": "ca5dd7dc",
   "metadata": {},
   "outputs": [
    {
     "name": "stdout",
     "output_type": "stream",
     "text": [
      "3\n"
     ]
    }
   ],
   "source": [
    "## function for finding the mode of the number\n",
    "\n",
    "def mode_number(arr)->int:\n",
    "    counts = {}\n",
    "    for number in list_:\n",
    "        if number in counts:\n",
    "            counts[number] += 1\n",
    "        else:\n",
    "            counts[number] = 1\n",
    "\n",
    "    max_count = 0\n",
    "    mode = None\n",
    "    for number, count in counts.items():\n",
    "        if count > max_count:\n",
    "            max_count = count\n",
    "            mode = number\n",
    "    return mode\n",
    "\n",
    "list_ = [1, 2, 3, 3, 3, 4, 5, 5, 5]\n",
    "print(mode_number(list_))"
   ]
  },
  {
   "cell_type": "markdown",
   "id": "d8a393db",
   "metadata": {},
   "source": [
    "27. Write a program to find the greatest common divisor (GCD) of two numbers."
   ]
  },
  {
   "cell_type": "code",
   "execution_count": 27,
   "id": "d4bcb56f",
   "metadata": {},
   "outputs": [
    {
     "data": {
      "text/plain": [
       "10"
      ]
     },
     "execution_count": 27,
     "metadata": {},
     "output_type": "execute_result"
    }
   ],
   "source": [
    "def gcd(a, b):\n",
    "    while b != 0:\n",
    "        a, b = b,a % b\n",
    "    return a\n",
    "a = 10\n",
    "b = 20\n",
    "gcd(a,b)"
   ]
  },
  {
   "cell_type": "markdown",
   "id": "ea346586",
   "metadata": {},
   "source": [
    "28. Implement a function to calculate the square root of a given number"
   ]
  },
  {
   "cell_type": "code",
   "execution_count": 28,
   "id": "c7dd0fe2",
   "metadata": {},
   "outputs": [
    {
     "name": "stdout",
     "output_type": "stream",
     "text": [
      "4\n"
     ]
    }
   ],
   "source": [
    "def calculate_square_root(number):\n",
    "    if number < 0:\n",
    "        raise ValueError(\"Square root is not defined for negative numbers.\")\n",
    "\n",
    "    guess = number //2\n",
    "\n",
    "    while True:\n",
    "        new_guess = (guess + number // guess) // 2\n",
    "        if abs(guess - new_guess) < 1e-9:\n",
    "            break\n",
    "        guess = new_guess\n",
    "\n",
    "    return new_guess\n",
    "\n",
    "number1 = 16\n",
    "result1 = calculate_square_root(number1)\n",
    "print(result1)"
   ]
  },
  {
   "cell_type": "markdown",
   "id": "63d148f7",
   "metadata": {},
   "source": [
    "29. Write a Python program to check if a given string is a valid palindrome ignoring non-alphanumeric characters"
   ]
  },
  {
   "cell_type": "code",
   "execution_count": 29,
   "id": "e07abd28",
   "metadata": {},
   "outputs": [
    {
     "name": "stdout",
     "output_type": "stream",
     "text": [
      "True\n"
     ]
    }
   ],
   "source": [
    "import re\n",
    "\n",
    "def is_valid_palindrome(string):\n",
    "    # Remove non-alphanumeric characters and convert to lowercase\n",
    "    cleaned_string = re.sub(r'[^a-zA-Z0-9]', '', string).lower()\n",
    "\n",
    "    # Check if the cleaned string is a palindrome\n",
    "    return cleaned_string == cleaned_string[::-1]\n",
    "\n",
    "string1 = \"A man, a plan, a canal: Panama\"\n",
    "result1 = is_valid_palindrome(string1)\n",
    "print(result1)  "
   ]
  },
  {
   "cell_type": "markdown",
   "id": "f7e09ba4",
   "metadata": {},
   "source": [
    "30. Implement a function to find the minimum element in a rotated sorted list."
   ]
  },
  {
   "cell_type": "code",
   "execution_count": 30,
   "id": "e64dd8ff",
   "metadata": {},
   "outputs": [
    {
     "name": "stdout",
     "output_type": "stream",
     "text": [
      "0\n"
     ]
    }
   ],
   "source": [
    "def find_min_element(nums):\n",
    "    left = 0\n",
    "    right = len(nums) - 1\n",
    "\n",
    "    if nums[left] <= nums[right]:\n",
    "        return nums[left]\n",
    "\n",
    "    while left < right:\n",
    "        mid = (left + right) // 2\n",
    "        if nums[mid] > nums[right]:\n",
    "            left = mid + 1\n",
    "        else:\n",
    "            right = mid\n",
    "\n",
    "    return nums[left]\n",
    "\n",
    "nums1 = [4, 5, 6, 7, 0, 1, 2]\n",
    "result1 = find_min_element(nums1)\n",
    "print(result1)"
   ]
  },
  {
   "cell_type": "markdown",
   "id": "8cce8437",
   "metadata": {},
   "source": [
    "31. Write a program to find the sum of all even numbers in a list."
   ]
  },
  {
   "cell_type": "code",
   "execution_count": 31,
   "id": "72255b6f",
   "metadata": {},
   "outputs": [
    {
     "data": {
      "text/plain": [
       "20"
      ]
     },
     "execution_count": 31,
     "metadata": {},
     "output_type": "execute_result"
    }
   ],
   "source": [
    "# function for finding the sum of the even number inthe array\n",
    "\n",
    "def even_number(arr)->int:\n",
    "    res = 0\n",
    "    for i in range(len(arr)):\n",
    "        if i%2==0:\n",
    "            res+=i\n",
    "    return res\n",
    "nums1 = [4, 5, 6, 7, 0, 1, 2]\n",
    "even_number(arr)"
   ]
  },
  {
   "cell_type": "markdown",
   "id": "a00285c1",
   "metadata": {},
   "source": [
    "32. Implement a function to calculate the power of a number using recursion."
   ]
  },
  {
   "cell_type": "code",
   "execution_count": 32,
   "id": "653a1670",
   "metadata": {},
   "outputs": [
    {
     "name": "stdout",
     "output_type": "stream",
     "text": [
      "8\n"
     ]
    }
   ],
   "source": [
    "def power(base, exponent):\n",
    "    if exponent == 0:\n",
    "        return 1\n",
    "    if exponent > 0:\n",
    "        return base * power(base, exponent - 1)\n",
    "    if exponent < 0:\n",
    "        return 1 / power(base, -exponent)\n",
    "base = 2\n",
    "exponent = 3\n",
    "result = power(base, exponent)\n",
    "print(result)"
   ]
  },
  {
   "cell_type": "markdown",
   "id": "08e95879",
   "metadata": {},
   "source": [
    "33. Write a Python program to remove duplicates from a list while preserving the order"
   ]
  },
  {
   "cell_type": "code",
   "execution_count": 33,
   "id": "02d64cef",
   "metadata": {},
   "outputs": [
    {
     "name": "stdout",
     "output_type": "stream",
     "text": [
      "[1, 3, 2, 4, 5]\n"
     ]
    }
   ],
   "source": [
    "def remove_duplicates(lst):\n",
    "    seen = set()\n",
    "    result = []\n",
    "\n",
    "    for item in lst:\n",
    "        if item not in seen:\n",
    "            seen.add(item)\n",
    "            result.append(item)\n",
    "\n",
    "    return result\n",
    "\n",
    "lst = [1, 3, 2, 2, 4, 3, 5, 1, 5]\n",
    "result = remove_duplicates(lst)\n",
    "print(result) "
   ]
  },
  {
   "cell_type": "markdown",
   "id": "1f53568d",
   "metadata": {},
   "source": [
    "34. Implement a function to find the longest common prefix among a list of strings."
   ]
  },
  {
   "cell_type": "code",
   "execution_count": 34,
   "id": "9e99b475",
   "metadata": {},
   "outputs": [
    {
     "name": "stdout",
     "output_type": "stream",
     "text": [
      "fl\n"
     ]
    }
   ],
   "source": [
    "def longest_common_prefix(strs):\n",
    "    if not strs:\n",
    "        return \"\"\n",
    "\n",
    "    shortest = min(strs, key=len)\n",
    "\n",
    "   \n",
    "    for i, char in enumerate(shortest):\n",
    "       \n",
    "        if any(word[i] != char for word in strs):\n",
    "            return shortest[:i]\n",
    "\n",
    "    return shortest\n",
    "\n",
    "strings1 = [\"flower\", \"flow\", \"flight\"]\n",
    "result1 = longest_common_prefix(strings1)\n",
    "print(result1)"
   ]
  },
  {
   "cell_type": "markdown",
   "id": "864b70ab",
   "metadata": {},
   "source": [
    "35. Write a program to check if a given number is a perfect square."
   ]
  },
  {
   "cell_type": "code",
   "execution_count": 35,
   "id": "d8033b7d",
   "metadata": {},
   "outputs": [
    {
     "name": "stdout",
     "output_type": "stream",
     "text": [
      "True\n"
     ]
    }
   ],
   "source": [
    "def is_perfect_square(number):\n",
    "    if number < 0:\n",
    "        return False\n",
    "\n",
    "    square_root = int(number ** 0.5)\n",
    "    \n",
    "    return square_root * square_root == number\n",
    "number1 = 16\n",
    "result1 = is_perfect_square(number1)\n",
    "print(result1)"
   ]
  },
  {
   "cell_type": "markdown",
   "id": "675cd3fd",
   "metadata": {},
   "source": [
    "36. Implement a function to calculate the product of all elements in a list."
   ]
  },
  {
   "cell_type": "code",
   "execution_count": 36,
   "id": "5f4f4b29",
   "metadata": {},
   "outputs": [
    {
     "name": "stdout",
     "output_type": "stream",
     "text": [
      "120\n"
     ]
    }
   ],
   "source": [
    "def calculate_product(lst):\n",
    "    if not lst:\n",
    "        return 1\n",
    "\n",
    "    product = 1\n",
    "    for num in lst:\n",
    "        product *= num\n",
    "\n",
    "    return product\n",
    "numbers = [2, 3, 4, 5]\n",
    "result = calculate_product(numbers)\n",
    "print(result)"
   ]
  },
  {
   "cell_type": "markdown",
   "id": "88613406",
   "metadata": {},
   "source": [
    "37. Write a Python program to reverse the order of words in a sentence while preserving the word order"
   ]
  },
  {
   "cell_type": "code",
   "execution_count": 37,
   "id": "83f7187a",
   "metadata": {},
   "outputs": [
    {
     "name": "stdout",
     "output_type": "stream",
     "text": [
      "you? are how world, Hello\n"
     ]
    }
   ],
   "source": [
    "def reverse_words(sentence):\n",
    "    words = sentence.split()\n",
    "    reversed_words = words[::-1]\n",
    "    reversed_sentence = \" \".join(reversed_words)\n",
    "    return reversed_sentence\n",
    "\n",
    "sentence = \"Hello world, how are you?\"\n",
    "reversed_sentence = reverse_words(sentence)\n",
    "print(reversed_sentence)  \n"
   ]
  },
  {
   "cell_type": "markdown",
   "id": "20a56c5a",
   "metadata": {},
   "source": [
    "38. Implement a function to find the missing number in a given list of consecutive numbers."
   ]
  },
  {
   "cell_type": "code",
   "execution_count": 38,
   "id": "abc61d6e",
   "metadata": {},
   "outputs": [
    {
     "name": "stdout",
     "output_type": "stream",
     "text": [
      "4\n"
     ]
    }
   ],
   "source": [
    "def find_missing_number(numbers):\n",
    "    n = len(numbers) + 1 \n",
    "    expected_sum = n * (n + 1) // 2 \n",
    "\n",
    "    actual_sum = sum(numbers)  \n",
    "\n",
    "    missing_number = expected_sum - actual_sum\n",
    "    return missing_number\n",
    "\n",
    "consecutive_numbers = [1, 2, 3, 5, 6, 7, 8]\n",
    "missing_number = find_missing_number(consecutive_numbers)\n",
    "print(missing_number)"
   ]
  },
  {
   "cell_type": "markdown",
   "id": "81831403",
   "metadata": {},
   "source": [
    "39. Write a program to find the sum of digits of a given number."
   ]
  },
  {
   "cell_type": "code",
   "execution_count": 39,
   "id": "8f70a968",
   "metadata": {},
   "outputs": [
    {
     "data": {
      "text/plain": [
       "10"
      ]
     },
     "execution_count": 39,
     "metadata": {},
     "output_type": "execute_result"
    }
   ],
   "source": [
    "def sum_of_digits(number)->int:\n",
    "    n = len(number)\n",
    "    \n",
    "    res = 0\n",
    "    for i in range(n):\n",
    "        res+=i\n",
    "    return res\n",
    "\n",
    "number = [1,2,3,4,5]\n",
    "sum_of_digits(number)"
   ]
  },
  {
   "cell_type": "markdown",
   "id": "62085c17",
   "metadata": {},
   "source": [
    "40. Implement a function to check if a given string is a valid palindrome considering case sensitivity."
   ]
  },
  {
   "cell_type": "code",
   "execution_count": 40,
   "id": "c558ffc6",
   "metadata": {},
   "outputs": [
    {
     "name": "stdout",
     "output_type": "stream",
     "text": [
      "True\n"
     ]
    }
   ],
   "source": [
    "def is_valid_palindrome(string):\n",
    "    \n",
    "    cleaned_string = ''.join(char.lower() for char in string if char.isalnum())\n",
    "\n",
    "   \n",
    "    return cleaned_string == cleaned_string[::-1]\n",
    "\n",
    "\n",
    "string1 = \"A man, a plan, a canal: Panama\"\n",
    "result1 = is_valid_palindrome(string1)\n",
    "print(result1)\n"
   ]
  },
  {
   "cell_type": "markdown",
   "id": "9c001170",
   "metadata": {},
   "source": [
    "41. Write a Python program to find the smallest missing positive integer in a list."
   ]
  },
  {
   "cell_type": "code",
   "execution_count": 41,
   "id": "8b805e0e",
   "metadata": {},
   "outputs": [
    {
     "name": "stdout",
     "output_type": "stream",
     "text": [
      "2\n"
     ]
    }
   ],
   "source": [
    "def find_smallest_missing_positive(nums):\n",
    "    n = len(nums)\n",
    "\n",
    "    for i in range(n):\n",
    "        while 1 <= nums[i] <= n and nums[nums[i] - 1] != nums[i]:\n",
    "            nums[nums[i] - 1], nums[i] = nums[i], nums[nums[i] - 1]\n",
    "\n",
    "    for i in range(n):\n",
    "        if nums[i] != i + 1:\n",
    "            return i + 1\n",
    "        \n",
    "    return n + 1\n",
    "\n",
    "numbers1 = [3, 4, -1, 1]\n",
    "result1 = find_smallest_missing_positive(numbers1)\n",
    "print(result1)\n"
   ]
  },
  {
   "cell_type": "markdown",
   "id": "0398830e",
   "metadata": {},
   "source": [
    "42. Implement a function to find the longest palindrome substring in a given string."
   ]
  },
  {
   "cell_type": "code",
   "execution_count": 42,
   "id": "495050de",
   "metadata": {},
   "outputs": [
    {
     "name": "stdout",
     "output_type": "stream",
     "text": [
      "bab\n"
     ]
    }
   ],
   "source": [
    "def longest_palindrome_substring(string):\n",
    "    if not string:\n",
    "        return \"\"\n",
    "\n",
    "    n = len(string)\n",
    "    longest_substring = \"\"\n",
    "\n",
    "    # Helper function to expand around the center\n",
    "    def expand_around_center(left, right):\n",
    "        while left >= 0 and right < n and string[left] == string[right]:\n",
    "            left -= 1\n",
    "            right += 1\n",
    "        return string[left + 1 : right]\n",
    "\n",
    "    # Iterate through each character as the center of a palindrome\n",
    "    for i in range(n):\n",
    "        # Case 1: Odd-length palindromes\n",
    "        substring_odd = expand_around_center(i, i)\n",
    "        if len(substring_odd) > len(longest_substring):\n",
    "            longest_substring = substring_odd\n",
    "\n",
    "        # Case 2: Even-length palindromes\n",
    "        substring_even = expand_around_center(i, i + 1)\n",
    "        if len(substring_even) > len(longest_substring):\n",
    "            longest_substring = substring_even\n",
    "\n",
    "    return longest_substring\n",
    "\n",
    "string = \"babad\"\n",
    "result = longest_palindrome_substring(string)\n",
    "print(result)"
   ]
  },
  {
   "cell_type": "markdown",
   "id": "111c6407",
   "metadata": {},
   "source": [
    "43. Write a program to find the number of occurrences of a given element in a list."
   ]
  },
  {
   "cell_type": "code",
   "execution_count": 43,
   "id": "dfa8b8c2",
   "metadata": {},
   "outputs": [
    {
     "name": "stdout",
     "output_type": "stream",
     "text": [
      "4\n"
     ]
    }
   ],
   "source": [
    "def count_occurrences(lst, element):\n",
    "    count = 0\n",
    "    for item in lst:\n",
    "        if item == element:\n",
    "            count += 1\n",
    "    return count\n",
    "\n",
    "numbers = [1, 2, 3, 4, 2, 2, 5, 2]\n",
    "element = 2\n",
    "result = count_occurrences(numbers, element)\n",
    "print(result)"
   ]
  },
  {
   "cell_type": "markdown",
   "id": "3d4dace2",
   "metadata": {},
   "source": [
    "44. Implement a function to check if a given number is a perfect number."
   ]
  },
  {
   "cell_type": "code",
   "execution_count": 44,
   "id": "b29281f7",
   "metadata": {},
   "outputs": [
    {
     "name": "stdout",
     "output_type": "stream",
     "text": [
      "True\n"
     ]
    }
   ],
   "source": [
    "def is_perfect_number(number):\n",
    "    if number <= 0:\n",
    "        return False\n",
    "\n",
    "    divisor_sum = 0\n",
    "\n",
    "    # Find divisors and calculate their sum\n",
    "    for i in range(1, number):\n",
    "        if number % i == 0:\n",
    "            divisor_sum += i\n",
    "\n",
    "    # Check if the sum of divisors is equal to the number\n",
    "    return divisor_sum == number\n",
    "number1 = 6\n",
    "result1 = is_perfect_number(number1)\n",
    "print(result1)"
   ]
  },
  {
   "cell_type": "markdown",
   "id": "aebf7d86",
   "metadata": {},
   "source": [
    "45. Write a Python program to remove all duplicates from a string."
   ]
  },
  {
   "cell_type": "code",
   "execution_count": 45,
   "id": "7e4e0311",
   "metadata": {},
   "outputs": [
    {
     "name": "stdout",
     "output_type": "stream",
     "text": [
      "l!rWH,oed \n"
     ]
    }
   ],
   "source": [
    "def remove_duplicates(string):\n",
    "    unique_chars = set(string)\n",
    "    result = ''.join(unique_chars)\n",
    "\n",
    "    return result\n",
    "\n",
    "string = \"Hello, World!\"\n",
    "result = remove_duplicates(string)\n",
    "print(result)"
   ]
  },
  {
   "cell_type": "markdown",
   "id": "4daa73fc",
   "metadata": {},
   "source": [
    "46. Implement a function to find the first missing positive"
   ]
  },
  {
   "cell_type": "code",
   "execution_count": 46,
   "id": "4bcce21e",
   "metadata": {},
   "outputs": [
    {
     "name": "stdout",
     "output_type": "stream",
     "text": [
      "2\n"
     ]
    }
   ],
   "source": [
    "def find_first_missing_positive(nums):\n",
    "    n = len(nums)\n",
    "\n",
    "   \n",
    "    for i in range(n):\n",
    "        while 1 <= nums[i] <= n and nums[nums[i] - 1] != nums[i]:\n",
    "            nums[nums[i] - 1], nums[i] = nums[i], nums[nums[i] - 1]\n",
    "\n",
    "   \n",
    "    for i in range(n):\n",
    "        if nums[i] != i + 1:\n",
    "            return i + 1\n",
    "\n",
    "    return n + 1\n",
    "\n",
    "numbers1 = [3, 4, -1, 1]\n",
    "result1 = find_first_missing_positive(numbers1)\n",
    "print(result1)"
   ]
  },
  {
   "cell_type": "code",
   "execution_count": null,
   "id": "b248e89d",
   "metadata": {},
   "outputs": [],
   "source": []
  }
 ],
 "metadata": {
  "kernelspec": {
   "display_name": "Python 3 (ipykernel)",
   "language": "python",
   "name": "python3"
  },
  "language_info": {
   "codemirror_mode": {
    "name": "ipython",
    "version": 3
   },
   "file_extension": ".py",
   "mimetype": "text/x-python",
   "name": "python",
   "nbconvert_exporter": "python",
   "pygments_lexer": "ipython3",
   "version": "3.9.13"
  }
 },
 "nbformat": 4,
 "nbformat_minor": 5
}
