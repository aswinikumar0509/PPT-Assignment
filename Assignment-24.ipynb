{
 "cells": [
  {
   "cell_type": "markdown",
   "id": "3764b773",
   "metadata": {},
   "source": [
    " 1. **Roman to Integer**\n",
    "\n",
    "Roman numerals are represented by seven different symbols: `I`, `V`, `X`, `L`, `C`, `D` and `M`.\n",
    "\n",
    "```\n",
    "SymbolValue\n",
    "I             1\n",
    "V             5\n",
    "X             10\n",
    "L             50\n",
    "C             100\n",
    "D             500\n",
    "M             1000\n",
    "```\n",
    "\n",
    "For example, `2` is written as `II` in Roman numeral, just two ones added together. `12` is written as `XII`, which is simply `X + II`. The number `27` is written as `XXVII`, which is `XX + V + II`.\n",
    "\n",
    "Roman numerals are usually written largest to smallest from left to right. However, the numeral for four is not `IIII`. Instead, the number four is written as `IV`. Because the one is before the five we subtract it making four. The same principle applies to the number nine, which is written as `IX`. There are six instances where subtraction is used:\n",
    "\n",
    "- `I` can be placed before `V` (5) and `X` (10) to make 4 and 9.\n",
    "- `X` can be placed before `L` (50) and `C` (100) to make 40 and 90.\n",
    "- `C` can be placed before `D` (500) and `M` (1000) to make 400 and 900.\n",
    "\n",
    "Given a roman numeral, convert it to an integer.\n",
    "\n",
    "</aside>"
   ]
  },
  {
   "cell_type": "code",
   "execution_count": 1,
   "id": "55b991ba",
   "metadata": {},
   "outputs": [
    {
     "data": {
      "text/plain": [
       "3"
      ]
     },
     "execution_count": 1,
     "metadata": {},
     "output_type": "execute_result"
    }
   ],
   "source": [
    "def romanToInt(s) -> int:\n",
    "    # Dictionary of roman numerals\n",
    "    roman_map = {'I': 1, 'V': 5, 'X': 10, 'L': 50, 'C': 100, 'D': 500, 'M': 1000}\n",
    "    # Length of the given string\n",
    "    n = len(s)\n",
    "    # This variable will store result\n",
    "    num = roman_map[s[n - 1]]\n",
    "    # Loop for each character from right to left\n",
    "    for i in range(n - 2, -1, -1):\n",
    "        # Check if the character at right of current character is bigger or smaller\n",
    "        if roman_map[s[i]] >= roman_map[s[i + 1]]:\n",
    "            num += roman_map[s[i]]\n",
    "        else:\n",
    "            num -= roman_map[s[i]]\n",
    "    return num\n",
    "\n",
    "s = \"III\"\n",
    "romanToInt(s)"
   ]
  },
  {
   "cell_type": "markdown",
   "id": "28eb17a3",
   "metadata": {},
   "source": [
    "2. **Longest Substring Without Repeating Characters**\n",
    "\n",
    "Given a string `s`, find the length of the **longest substring** without repeating characters.\n",
    "\n",
    "</aside>"
   ]
  },
  {
   "cell_type": "code",
   "execution_count": 2,
   "id": "a495ac0b",
   "metadata": {},
   "outputs": [
    {
     "data": {
      "text/plain": [
       "3"
      ]
     },
     "execution_count": 2,
     "metadata": {},
     "output_type": "execute_result"
    }
   ],
   "source": [
    "def lengthOfLongestSubstring(s)-> int:\n",
    "    if len(s) == 1: return 1\n",
    "\n",
    "\n",
    "    count, s_result = 0, ''\n",
    "\n",
    "    for i in s:\n",
    "        if i not in s_result:\n",
    "            s_result += i\n",
    "        else:\n",
    "            s_result = s_result[s_result.index(i)+1:] + i\n",
    "\n",
    "        if len(s_result) > count:\n",
    "            count = len(s_result)\n",
    "        \n",
    "    return count\n",
    "\n",
    "s = \"abcabcbb\"\n",
    "lengthOfLongestSubstring(s)\n",
    "    "
   ]
  },
  {
   "cell_type": "markdown",
   "id": "f468ecb6",
   "metadata": {},
   "source": [
    "3. **Majority Element**\n",
    "\n",
    "Given an array `nums` of size `n`, return *the majority element*.\n",
    "\n",
    "The majority element is the element that appears more than `⌊n / 2⌋` times. You may assume that the majority element always exists in the array.\n",
    "\n",
    "</aside>"
   ]
  },
  {
   "cell_type": "code",
   "execution_count": 3,
   "id": "fa77b69f",
   "metadata": {},
   "outputs": [
    {
     "data": {
      "text/plain": [
       "3"
      ]
     },
     "execution_count": 3,
     "metadata": {},
     "output_type": "execute_result"
    }
   ],
   "source": [
    "def majorityElement(nums) -> int:\n",
    "    candidate = -1\n",
    "    count = 0\n",
    "        \n",
    "        # Find potential majority element\n",
    "    for num in nums:\n",
    "        if count == 0:\n",
    "            candidate = num\n",
    "        if num == candidate:\n",
    "            count += 1\n",
    "        else:\n",
    "            count -= 1\n",
    "        \n",
    "        # Check if the candidate is the majority element\n",
    "    count = 0\n",
    "    for num in nums:\n",
    "        if num == candidate:\n",
    "            count += 1\n",
    "    if count > len(nums) // 2:\n",
    "        return candidate\n",
    "    else:\n",
    "        return -1\n",
    "    \n",
    "nums = [3,2,3]\n",
    "majorityElement(nums)\n",
    "    \n"
   ]
  },
  {
   "cell_type": "markdown",
   "id": "cbde720b",
   "metadata": {},
   "source": [
    "4. **Group Anagram**\n",
    "\n",
    "Given an array of strings `strs`, group **the anagrams** together. You can return the answer in **any order**.\n",
    "\n",
    "An **Anagram** is a word or phrase formed by rearranging the letters of a different word or phrase, typically using all the original letters exactly once.\n",
    "\n",
    "</aside>"
   ]
  },
  {
   "cell_type": "code",
   "execution_count": 6,
   "id": "e37a0d3d",
   "metadata": {},
   "outputs": [
    {
     "name": "stdout",
     "output_type": "stream",
     "text": [
      "cat tac act dog god "
     ]
    }
   ],
   "source": [
    "from typing import List, Tuple\n",
    "def create_duplicate_array(wordAr: List[str]) -> List[Tuple[str, int]]:\n",
    "    dup_array = []\n",
    "    # Iterate through the original list of words\n",
    "    for i, word in enumerate(wordAr):\n",
    "        # Append each word along with its index in the original list to the duplicate array\n",
    "        dup_array.append((word, i))\n",
    "    return dup_array\n",
    " \n",
    "# Function to print out all the words that are anagrams of each other next to each other\n",
    "def print_anagrams_together(wordArr: List[str]):\n",
    "    # Create a duplicate array containing the words and their indices\n",
    "    dup_array = create_duplicate_array(wordArr)\n",
    " \n",
    "    # Iterate through the duplicate array and sort each word alphabetically\n",
    "    for i in range(len(wordArr)):\n",
    "        dup_array[i] = (sorted(dup_array[i][0]), dup_array[i][1])\n",
    "    # Sort the duplicate array based on the sorted words\n",
    "    dup_array.sort()\n",
    " \n",
    "    # Iterate through the sorted duplicate array and print out the original words using their indices\n",
    "    for i in range(len(wordArr)):\n",
    "        print(wordArr[dup_array[i][1]], end=' ')\n",
    " \n",
    "# Test the function with an example list of words\n",
    "wordArr = [\"cat\", \"dog\", \"tac\", \"god\", \"act\"]\n",
    "print_anagrams_together(wordArr)"
   ]
  },
  {
   "cell_type": "markdown",
   "id": "b713c125",
   "metadata": {},
   "source": [
    "5. **Ugly Numbers**\n",
    "\n",
    "An **ugly number** is a positive integer whose prime factors are limited to `2`, `3`, and `5`.\n",
    "\n",
    "Given an integer `n`, return *the* `nth` ***ugly number***.\n",
    "\n",
    "</aside>"
   ]
  },
  {
   "cell_type": "code",
   "execution_count": 7,
   "id": "ad491fba",
   "metadata": {},
   "outputs": [
    {
     "name": "stdout",
     "output_type": "stream",
     "text": [
      "150th ugly no. is  5832\n"
     ]
    }
   ],
   "source": [
    "def maxDivide(a, b):\n",
    "    while a % b == 0:\n",
    "        a = a / b\n",
    "    return a\n",
    " \n",
    "# Function to check if a number\n",
    "# is ugly or not\n",
    "def isUgly(no):\n",
    "    no = maxDivide(no, 2)\n",
    "    no = maxDivide(no, 3)\n",
    "    no = maxDivide(no, 5)\n",
    "    return 1 if no == 1 else 0\n",
    " \n",
    "# Function to get the nth ugly number\n",
    "def getNthUglyNo(n):\n",
    "    i = 1\n",
    "     \n",
    "    # ugly number count\n",
    "    count = 1 \n",
    " \n",
    "    # Check for all integers until\n",
    "    # ugly count becomes n\n",
    "    while n > count:\n",
    "        i += 1\n",
    "        if isUgly(i):\n",
    "            count += 1\n",
    "    return i\n",
    " \n",
    " \n",
    "# Driver code\n",
    "no = getNthUglyNo(150)\n",
    "print(\"150th ugly no. is \", no)"
   ]
  },
  {
   "cell_type": "markdown",
   "id": "63f0631a",
   "metadata": {},
   "source": [
    "6. **Top K Frequent Words**\n",
    "\n",
    "Given an array of strings `words` and an integer `k`, return *the* `k` *most frequent strings*.\n",
    "\n",
    "Return the answer **sorted** by **the frequency** from highest to lowest. Sort the words with the same frequency by their **lexicographical order**.\n",
    "\n",
    "</aside>"
   ]
  },
  {
   "cell_type": "code",
   "execution_count": 9,
   "id": "e5ed80c4",
   "metadata": {},
   "outputs": [
    {
     "data": {
      "text/plain": [
       "('i', 'love')"
      ]
     },
     "execution_count": 9,
     "metadata": {},
     "output_type": "execute_result"
    }
   ],
   "source": [
    "from collections import Counter\n",
    "def topKFrequent(words, k) -> List[str]:\n",
    "    return next(zip(*Counter(sorted(words)).most_common(k)))\n",
    "\n",
    "words = [\"i\",\"love\",\"leetcode\",\"i\",\"love\",\"coding\"]\n",
    "k = 2\n",
    "topKFrequent(words,k)\n"
   ]
  },
  {
   "cell_type": "markdown",
   "id": "bbfce5f6",
   "metadata": {},
   "source": [
    "7. **Sliding Window Maximum**\n",
    "\n",
    "You are given an array of integers `nums`, there is a sliding window of size `k` which is moving from the very left of the array to the very right. You can only see the `k` numbers in the window. Each time the sliding window moves right by one position.\n",
    "\n",
    "Return *the max sliding window*.\n",
    "\n",
    "</aside>"
   ]
  },
  {
   "cell_type": "code",
   "execution_count": 10,
   "id": "34a31bab",
   "metadata": {},
   "outputs": [
    {
     "name": "stdout",
     "output_type": "stream",
     "text": [
      "3 4 5 6 7 8 9 10 "
     ]
    }
   ],
   "source": [
    "def printMax(arr, N, K):\n",
    "    max = 0\n",
    " \n",
    "    for i in range(N - K + 1):\n",
    "        max = arr[i]\n",
    "        for j in range(1, K):\n",
    "            if arr[i + j] > max:\n",
    "                max = arr[i + j]\n",
    "        print(str(max) + \" \", end=\"\")\n",
    " \n",
    " \n",
    "# Driver's code\n",
    "if __name__ == \"__main__\":\n",
    "    arr = [1, 2, 3, 4, 5, 6, 7, 8, 9, 10]\n",
    "    N = len(arr)\n",
    "    K = 3\n",
    "     \n",
    "    # Function call\n",
    "    printMax(arr, N, K)"
   ]
  },
  {
   "cell_type": "markdown",
   "id": "221443a7",
   "metadata": {},
   "source": [
    "8. **Find K Closest Elements**\n",
    "\n",
    "Given a **sorted** integer array `arr`, two integers `k` and `x`, return the `k` closest integers to `x` in the array. The result should also be sorted in ascending order.\n",
    "\n",
    "An integer `a` is closer to `x` than an integer `b` if:\n",
    "\n",
    "- `|a - x| < |b - x|`, or\n",
    "- `|a - x| == |b - x|` and `a < b`\n",
    "\n",
    "**Example 1:**\n",
    "\n",
    "</aside>"
   ]
  },
  {
   "cell_type": "code",
   "execution_count": 11,
   "id": "977043fb",
   "metadata": {},
   "outputs": [
    {
     "name": "stdout",
     "output_type": "stream",
     "text": [
      "39 30 42 45 "
     ]
    }
   ],
   "source": [
    "def findCrossOver(arr, low, high, x) :\n",
    " \n",
    "    # Base cases\n",
    "    if (arr[high] <= x) : # x is greater than all\n",
    "        return high\n",
    "         \n",
    "    if (arr[low] > x) : # x is smaller than all\n",
    "        return low\n",
    "     \n",
    "    # Find the middle point\n",
    "    mid = (low + high) // 2 # low + (high - low)// 2\n",
    "\n",
    "    if (arr[mid] <= x and arr[mid + 1] > x) :\n",
    "        return mid\n",
    "     \n",
    "\n",
    "    if(arr[mid] < x) :\n",
    "        return findCrossOver(arr, mid + 1, high, x)\n",
    "     \n",
    "    return findCrossOver(arr, low, mid - 1, x)\n",
    " \n",
    "\n",
    "def printKclosest(arr, x, k, n) :\n",
    "     \n",
    "    # Find the crossover point\n",
    "    l = findCrossOver(arr, 0, n - 1, x)\n",
    "    r = l + 1 \n",
    "    count = 0 \n",
    "\n",
    "    if (arr[l] == x) :\n",
    "        l -= 1\n",
    " \n",
    "    # Compare elements on left and right of crossover\n",
    "    # point to find the k closest elements\n",
    "    while (l >= 0 and r < n and count < k) :\n",
    "         \n",
    "        if (x - arr[l] < arr[r] - x) :\n",
    "            print(arr[l], end = \" \")\n",
    "            l -= 1\n",
    "        else :\n",
    "            print(arr[r], end = \" \")\n",
    "            r += 1\n",
    "        count += 1\n",
    "\n",
    "    while (count < k and l >= 0) :\n",
    "        print(arr[l], end = \" \")\n",
    "        l -= 1\n",
    "        count += 1\n",
    "\n",
    "    while (count < k and r < n) :\n",
    "        print(arr[r], end = \" \")\n",
    "        r += 1\n",
    "        count += 1\n",
    " \n",
    "# Driver Code\n",
    "if __name__ == \"__main__\" :\n",
    " \n",
    "    arr =[12, 16, 22, 30, 35, 39, 42,\n",
    "              45, 48, 50, 53, 55, 56]\n",
    "                 \n",
    "    n = len(arr)\n",
    "    x = 35\n",
    "    k = 4\n",
    "     \n",
    "    printKclosest(arr, x, 4, n)"
   ]
  },
  {
   "cell_type": "code",
   "execution_count": null,
   "id": "b1b2c7bb",
   "metadata": {},
   "outputs": [],
   "source": []
  }
 ],
 "metadata": {
  "kernelspec": {
   "display_name": "Python 3 (ipykernel)",
   "language": "python",
   "name": "python3"
  },
  "language_info": {
   "codemirror_mode": {
    "name": "ipython",
    "version": 3
   },
   "file_extension": ".py",
   "mimetype": "text/x-python",
   "name": "python",
   "nbconvert_exporter": "python",
   "pygments_lexer": "ipython3",
   "version": "3.9.13"
  }
 },
 "nbformat": 4,
 "nbformat_minor": 5
}
