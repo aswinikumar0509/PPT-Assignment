{
 "cells": [
  {
   "cell_type": "markdown",
   "id": "29bc3b94",
   "metadata": {},
   "source": [
    "**Question 1**\n",
    "\n",
    "Given an array **arr[ ]** of size **N** having elements, the task is to find the next greater element for each element of the array in order of their appearance in the array.Next greater element of an element in the array is the nearest element on the right which is greater than the current element.If there does not exist next greater of current element, then next greater element for current element is -1. For example, next greater of the last element is always -1."
   ]
  },
  {
   "cell_type": "code",
   "execution_count": 1,
   "id": "1b2b9ad1",
   "metadata": {},
   "outputs": [
    {
     "data": {
      "text/plain": [
       "[3, 4, 4, -1]"
      ]
     },
     "execution_count": 1,
     "metadata": {},
     "output_type": "execute_result"
    }
   ],
   "source": [
    "def findNextGreater(arr):\n",
    "    stack = []\n",
    "    nextGreater = [-1] * len(arr)\n",
    "\n",
    "    for i in range(len(arr)-1, -1, -1):\n",
    "        while stack and stack[-1] <= arr[i]:\n",
    "            stack.pop()\n",
    "\n",
    "        if stack:\n",
    "            nextGreater[i] = stack[-1]\n",
    "\n",
    "        stack.append(arr[i])\n",
    "\n",
    "    return nextGreater\n",
    "\n",
    "arr = [1,3,2,4]\n",
    "findNextGreater(arr)"
   ]
  },
  {
   "cell_type": "markdown",
   "id": "536f8d3d",
   "metadata": {},
   "source": [
    " **Question 2**\n",
    "\n",
    "Given an array **a** of integers of length **n**, find the nearest smaller number for every element such that the smaller element is on left side.If no small element present on the left print -1.\n"
   ]
  },
  {
   "cell_type": "code",
   "execution_count": 6,
   "id": "a3d4530f",
   "metadata": {},
   "outputs": [
    {
     "data": {
      "text/plain": [
       "[-1, 1, 1]"
      ]
     },
     "execution_count": 6,
     "metadata": {},
     "output_type": "execute_result"
    }
   ],
   "source": [
    "def smallest_number(arr):\n",
    "    stack = []\n",
    "    nearestSmaller = [-1]*len(arr)\n",
    "    for i in range(len(arr)):\n",
    "        while stack and stack[-1]>=arr[i]:\n",
    "            stack.pop()\n",
    "            \n",
    "        if stack:\n",
    "            nearestSmaller[i]=stack[-1]\n",
    "        stack.append(arr[i])\n",
    "        \n",
    "    return nearestSmaller\n",
    "\n",
    "arr = [1,6,2]\n",
    "smallest_number(arr)"
   ]
  },
  {
   "cell_type": "markdown",
   "id": "8398b749",
   "metadata": {},
   "source": [
    "**Question 3**\n",
    "\n",
    "Implement a Stack using two queues **q1** and **q2**.\n",
    "\n",
    "</aside>"
   ]
  },
  {
   "cell_type": "code",
   "execution_count": 7,
   "id": "3550899e",
   "metadata": {},
   "outputs": [
    {
     "name": "stdout",
     "output_type": "stream",
     "text": [
      "3\n",
      "3\n",
      "2\n",
      "False\n",
      "1\n",
      "None\n",
      "True\n"
     ]
    }
   ],
   "source": [
    "class Stack:\n",
    "    def __init__(self):\n",
    "        self.q1 = []\n",
    "        self.q2 = []\n",
    "\n",
    "    def push(self, value):\n",
    "        self.q2.append(value)  # Add the new value to q2\n",
    "\n",
    "        # Move all elements from q1 to q2\n",
    "        while self.q1:\n",
    "            self.q2.append(self.q1.pop(0))\n",
    "\n",
    "        # Swap the names of q1 and q2\n",
    "        self.q1, self.q2 = self.q2, self.q1\n",
    "\n",
    "    def pop(self):\n",
    "        if not self.q1:\n",
    "            return None  \n",
    "\n",
    "        return self.q1.pop(0)\n",
    "\n",
    "    def top(self):\n",
    "        if not self.q1:\n",
    "            return None \n",
    "\n",
    "        return self.q1[0]\n",
    "\n",
    "    def is_empty(self):\n",
    "        return len(self.q1) == 0\n",
    "\n",
    "    \n",
    "## Driver code\n",
    "\n",
    "stack = Stack()\n",
    "\n",
    "stack.push(1)\n",
    "stack.push(2)\n",
    "stack.push(3)\n",
    "\n",
    "print(stack.top())  \n",
    "\n",
    "print(stack.pop())  \n",
    "print(stack.pop()) \n",
    "\n",
    "print(stack.is_empty())  \n",
    "\n",
    "print(stack.pop())  \n",
    "print(stack.pop()) \n",
    "\n",
    "print(stack.is_empty())  \n"
   ]
  },
  {
   "cell_type": "markdown",
   "id": "20c12314",
   "metadata": {},
   "source": [
    " **Question 4**\n",
    "\n",
    "You are given a stack **St**. You have to reverse the stack using recursion.\n",
    "\n",
    "</aside>"
   ]
  },
  {
   "cell_type": "code",
   "execution_count": 8,
   "id": "ed09bcb0",
   "metadata": {},
   "outputs": [],
   "source": [
    "def reverse_stack(St):\n",
    "    if len(St) <= 1:\n",
    "        return\n",
    "    else:\n",
    "        top_element = St.pop()\n",
    "        reverse_stack(St)\n",
    "        insert_at_bottom(St, top_element)\n",
    "\n",
    "def insert_at_bottom(St, item):\n",
    "    if len(St) == 0:\n",
    "        St.append(item)\n",
    "    else:\n",
    "        temp = St.pop()\n",
    "        insert_at_bottom(St, item)\n",
    "        St.append(temp)\n"
   ]
  },
  {
   "cell_type": "code",
   "execution_count": 9,
   "id": "e64390c0",
   "metadata": {},
   "outputs": [
    {
     "name": "stdout",
     "output_type": "stream",
     "text": [
      "Original stack: [1, 2, 3, 4, 5]\n",
      "Reversed stack: [5, 4, 3, 2, 1]\n"
     ]
    }
   ],
   "source": [
    "stack = [1, 2, 3, 4, 5]\n",
    "print(\"Original stack:\", stack)\n",
    "\n",
    "reverse_stack(stack)\n",
    "print(\"Reversed stack:\", stack)\n"
   ]
  },
  {
   "cell_type": "markdown",
   "id": "bf263ffa",
   "metadata": {},
   "source": [
    "**Question 5**\n",
    "\n",
    "You are given a string **S**, the task is to reverse the string using stack.\n",
    "\n"
   ]
  },
  {
   "cell_type": "code",
   "execution_count": 10,
   "id": "497f8314",
   "metadata": {},
   "outputs": [
    {
     "name": "stdout",
     "output_type": "stream",
     "text": [
      "Original string: geeksforgeeks\n",
      "Reversed string: skeegrofskeeg\n"
     ]
    }
   ],
   "source": [
    "def reverse_string(S):\n",
    "    stack = []\n",
    "    for char in S:\n",
    "        stack.append(char)\n",
    "\n",
    "    reversed_string = \"\"\n",
    "    while stack:\n",
    "        reversed_string += stack.pop()\n",
    "\n",
    "    return reversed_string\n",
    "\n",
    "string = \"geeksforgeeks\"\n",
    "reversed_str = reverse_string(string)\n",
    "print(\"Original string:\", string)\n",
    "print(\"Reversed string:\", reversed_str)\n"
   ]
  },
  {
   "cell_type": "markdown",
   "id": "5e89e51d",
   "metadata": {},
   "source": [
    " **Question 6**\n",
    "\n",
    "Given string **S** representing a postfix expression, the task is to evaluate the expression and find the final value. Operators will only include the basic arithmetic operators like ***, /, + and -**.\n",
    "\n",
    "</aside>"
   ]
  },
  {
   "cell_type": "code",
   "execution_count": 11,
   "id": "ddaa831a",
   "metadata": {},
   "outputs": [
    {
     "name": "stdout",
     "output_type": "stream",
     "text": [
      "Expression: 231*+9-\n",
      "Result: -4\n"
     ]
    }
   ],
   "source": [
    "def evaluate_postfix(S):\n",
    "    stack = []\n",
    "    operators = set(['*', '/', '+', '-'])\n",
    "\n",
    "    for char in S:\n",
    "        if char.isdigit():\n",
    "            stack.append(int(char))\n",
    "        elif char in operators:\n",
    "            operand2 = stack.pop()\n",
    "            operand1 = stack.pop()\n",
    "            result = evaluate_expression(operand1, operand2, char)\n",
    "            stack.append(result)\n",
    "\n",
    "    return stack.pop()\n",
    "\n",
    "def evaluate_expression(operand1, operand2, operator):\n",
    "    if operator == '*':\n",
    "        return operand1 * operand2\n",
    "    elif operator == '/':\n",
    "        return operand1 / operand2\n",
    "    elif operator == '+':\n",
    "        return operand1 + operand2\n",
    "    elif operator == '-':\n",
    "        return operand1 - operand2\n",
    "\n",
    "expression = \"231*+9-\"\n",
    "result = evaluate_postfix(expression)\n",
    "print(\"Expression:\", expression)\n",
    "print(\"Result:\", result)\n"
   ]
  },
  {
   "cell_type": "markdown",
   "id": "68291338",
   "metadata": {},
   "source": [
    " **Question 7**\n",
    "\n",
    "Design a stack that supports push, pop, top, and retrieving the minimum element in constant time.\n",
    "\n",
    "Implement the `MinStack` class:\n",
    "\n",
    "- `MinStack()` initializes the stack object.\n",
    "- `void push(int val)` pushes the element `val` onto the stack.\n",
    "- `void pop()` removes the element on the top of the stack.\n",
    "- `int top()` gets the top element of the stack.\n",
    "- `int getMin()` retrieves the minimum element in the stack.\n",
    "\n",
    "You must implement a solution with `O(1)` time complexity for each function.\n",
    "\n",
    "</aside>"
   ]
  },
  {
   "cell_type": "code",
   "execution_count": 13,
   "id": "165953da",
   "metadata": {},
   "outputs": [
    {
     "name": "stdout",
     "output_type": "stream",
     "text": [
      "2\n",
      "2\n",
      "2\n"
     ]
    }
   ],
   "source": [
    "class MinStack:\n",
    "    def __init__(self):\n",
    "        self.stack = []  # Main stack to store elements\n",
    "        self.min_stack = []  # Stack to track minimum elements\n",
    "\n",
    "    def push(self, val):\n",
    "        self.stack.append(val)  # Push the element onto the main stack\n",
    "\n",
    "        # Update the minimum stack if the new element is smaller or equal to the current minimum\n",
    "        if not self.min_stack or val <= self.min_stack[-1]:\n",
    "            self.min_stack.append(val)\n",
    "\n",
    "    def pop(self):\n",
    "        if self.stack:\n",
    "            element = self.stack.pop()\n",
    "\n",
    "            # Update the minimum stack if the popped element is the current minimum\n",
    "            if element == self.min_stack[-1]:\n",
    "                self.min_stack.pop()\n",
    "\n",
    "    def top(self):\n",
    "        if self.stack:\n",
    "            return self.stack[-1]\n",
    "\n",
    "    def getMin(self):\n",
    "        if self.min_stack:\n",
    "            return self.min_stack[-1]\n",
    "\n",
    "        \n",
    "## Driver code\n",
    "\n",
    "min_stack = MinStack()\n",
    "\n",
    "min_stack.push(4)\n",
    "min_stack.push(2)\n",
    "min_stack.push(6)\n",
    "\n",
    "print(min_stack.getMin())  # Output: 2\n",
    "\n",
    "min_stack.pop()\n",
    "\n",
    "print(min_stack.top())  # Output: 2\n",
    "\n",
    "print(min_stack.getMin())  # Output: 2\n"
   ]
  },
  {
   "cell_type": "markdown",
   "id": "c564e0bc",
   "metadata": {},
   "source": [
    "**Question 8**\n",
    "\n",
    "Given `n` non-negative integers representing an elevation map where the width of each bar is `1`, compute how much water it can trap after raining.\n",
    "\n",
    "</aside>"
   ]
  },
  {
   "cell_type": "code",
   "execution_count": 14,
   "id": "d30f56e5",
   "metadata": {},
   "outputs": [
    {
     "name": "stdout",
     "output_type": "stream",
     "text": [
      "Elevation Map: [0, 1, 0, 2, 1, 0, 1, 3, 2, 1, 2, 1]\n",
      "Water Trapped: 6\n"
     ]
    }
   ],
   "source": [
    "def trap(height):\n",
    "    left = 0\n",
    "    right = len(height) - 1\n",
    "    left_max = 0\n",
    "    right_max = 0\n",
    "    water = 0\n",
    "\n",
    "    while left <= right:\n",
    "        if height[left] <= height[right]:\n",
    "            if height[left] > left_max:\n",
    "                left_max = height[left]\n",
    "            else:\n",
    "                water += left_max - height[left]\n",
    "            left += 1\n",
    "        else:\n",
    "            if height[right] > right_max:\n",
    "                right_max = height[right]\n",
    "            else:\n",
    "                water += right_max - height[right]\n",
    "            right -= 1\n",
    "\n",
    "    return water\n",
    "\n",
    "## Driver code\n",
    "\n",
    "elevation_map = [0, 1, 0, 2, 1, 0, 1, 3, 2, 1, 2, 1]\n",
    "water_trapped = trap(elevation_map)\n",
    "print(\"Elevation Map:\", elevation_map)\n",
    "print(\"Water Trapped:\", water_trapped)\n"
   ]
  },
  {
   "cell_type": "code",
   "execution_count": null,
   "id": "1ce59164",
   "metadata": {},
   "outputs": [],
   "source": []
  }
 ],
 "metadata": {
  "kernelspec": {
   "display_name": "Python 3 (ipykernel)",
   "language": "python",
   "name": "python3"
  },
  "language_info": {
   "codemirror_mode": {
    "name": "ipython",
    "version": 3
   },
   "file_extension": ".py",
   "mimetype": "text/x-python",
   "name": "python",
   "nbconvert_exporter": "python",
   "pygments_lexer": "ipython3",
   "version": "3.9.13"
  }
 },
 "nbformat": 4,
 "nbformat_minor": 5
}
