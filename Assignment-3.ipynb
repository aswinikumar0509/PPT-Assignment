{
 "cells": [
  {
   "cell_type": "markdown",
   "id": "8f7b9574",
   "metadata": {},
   "source": [
    "Question 1\n",
    "\n",
    "Given an integer array nums of length n and an integer target, find three integers\n",
    "in nums such that the sum is closest to the target.\n",
    "\n",
    "Return the sum of the three integers.\n",
    "\n",
    "You may assume that each input would have exactly one solution.\n",
    "\n",
    "Example 1:\n",
    "\n",
    "Input: nums = [-1,2,1,-4],\n",
    "\n",
    "target = 1\n",
    "\n",
    "Output: 2\n",
    "\n",
    "Explanation: The sum that is closest to the target is 2. (-1 + 2 + 1 = 2)."
   ]
  },
  {
   "cell_type": "code",
   "execution_count": 1,
   "id": "6f016fe1",
   "metadata": {},
   "outputs": [
    {
     "name": "stdout",
     "output_type": "stream",
     "text": [
      "1\n"
     ]
    }
   ],
   "source": [
    "def closest_num(nums,target):\n",
    "    n = len(nums)\n",
    "    sum = 0\n",
    "    for i in range(n):\n",
    "        sum+=i\n",
    "        if sum>=target:\n",
    "            return sum\n",
    "    return 0\n",
    "\n",
    "nums = [-1,2,1,-4]\n",
    "target = 1\n",
    "print(closest_num(nums,target))"
   ]
  },
  {
   "cell_type": "markdown",
   "id": "b98cdc09",
   "metadata": {},
   "source": [
    "Question 2\n",
    "\n",
    "Given an array nums of n integers, return an array of all the unique quadruplets\n",
    "[nums[a], nums[b], nums[c], nums[d]] such that:\n",
    "\n",
    "           ● 0 <= a, b, c, d < n\n",
    "           ● a, b, c, and d are distinct.\n",
    "           ● nums[a] + nums[b] + nums[c] + nums[d] == target\n",
    "\n",
    "You may return the answer in any order.\n",
    "\n",
    "Example 1:\n",
    "\n",
    "Input: nums = [1,0,-1,0,-2,2],\n",
    "target = 0\n",
    "\n",
    "Output: [[-2,-1,1,2],[-2,0,0,2],[-1,0,0,1]]"
   ]
  },
  {
   "cell_type": "code",
   "execution_count": 2,
   "id": "74d6bd04",
   "metadata": {},
   "outputs": [
    {
     "name": "stdout",
     "output_type": "stream",
     "text": [
      "{(-2, -1, 1, 2), (-1, 0, 0, 1), (-2, 0, 0, 2)}\n"
     ]
    }
   ],
   "source": [
    "def four_sum(nums,target):\n",
    "    nums.sort()\n",
    "    n = len(nums)\n",
    "    ans = set()\n",
    "    for i in range(n):\n",
    "        for j in range(i+1, n):\n",
    "            l, r = j + 1, n - 1\n",
    "            remain = target - nums[i] - nums[j]\n",
    "            while l < r:\n",
    "                if nums[l] + nums[r] == remain:\n",
    "                    ans.add((nums[i], nums[j], nums[l], nums[r]))\n",
    "                    l += 1\n",
    "                    r -= 1\n",
    "                elif nums[l] + nums[r] > remain:\n",
    "                    r -= 1\n",
    "                else:\n",
    "                    l += 1\n",
    "    return ans\n",
    "\n",
    "nums = [1,0,-1,0,-2,2]\n",
    "target = 0\n",
    "print(four_sum(nums,target))"
   ]
  },
  {
   "cell_type": "markdown",
   "id": "da05e25d",
   "metadata": {},
   "source": [
    "\n",
    "💡 **Question 3**\n",
    "\n",
    "A permutation of an array of integers is an arrangement of its members into a\n",
    "sequence or linear order.\n",
    "\n",
    "For example, for arr = [1,2,3], the following are all the permutations of arr:\n",
    "[1,2,3], [1,3,2], [2, 1, 3], [2, 3, 1], [3,1,2], [3,2,1].\n",
    "\n",
    "The next permutation of an array of integers is the next lexicographically greater\n",
    "permutation of its integer. More formally, if all the permutations of the array are\n",
    "sorted in one container according to their lexicographical order, then the next\n",
    "permutation of that array is the permutation that follows it in the sorted container.\n",
    "\n",
    "If such an arrangement is not possible, the array must be rearranged as the\n",
    "lowest possible order (i.e., sorted in ascending order).\n",
    "\n",
    "● For example, the next permutation of arr = [1,2,3] is [1,3,2].\n",
    "\n",
    "● Similarly, the next permutation of arr = [2,3,1] is [3,1,2].\n",
    "\n",
    "● While the next permutation of arr = [3,2,1] is [1,2,3] because [3,2,1] does not\n",
    "have a lexicographical larger rearrangement.\n",
    "\n",
    "Given an array of integers nums, find the next permutation of nums.\n",
    "The replacement must be in place and use only constant extra memory.\n",
    "\n",
    "**Example 1:**\n",
    "Input: nums = [1,2,3]\n",
    "Output: [1,3,2]\n",
    "\n"
   ]
  },
  {
   "cell_type": "code",
   "execution_count": 5,
   "id": "db2d1960",
   "metadata": {},
   "outputs": [
    {
     "name": "stdout",
     "output_type": "stream",
     "text": [
      "None\n"
     ]
    }
   ],
   "source": [
    "def nextPermutation(nums):\n",
    "    def reverse(nums, start):\n",
    "        end = len(nums) - 1\n",
    "        while start < end:\n",
    "            nums[start], nums[end] = nums[end], nums[start]\n",
    "            start += 1\n",
    "            end -= 1\n",
    "    i = len(nums) - 2\n",
    "    while i >= 0 and nums[i + 1] <= nums[i]:\n",
    "        i -= 1\n",
    "    if i >= 0:\n",
    "        j = len(nums) - 1\n",
    "        while nums[j] <= nums[i]:\n",
    "            j -= 1\n",
    "        nums[i], nums[j] = nums[j], nums[i]\n",
    "    reverse(nums, i + 1)\n",
    "   \n",
    "    \n",
    "nums = [1,2,3]\n",
    "print(nextPermutation(nums))"
   ]
  },
  {
   "cell_type": "markdown",
   "id": "a2222e67",
   "metadata": {},
   "source": [
    "Question 4\n",
    "\n",
    "Given a sorted array of distinct integers and a target value, return the index if the\n",
    "target is found. If not, return the index where it would be if it were inserted in\n",
    "order.\n",
    "\n",
    "You must write an algorithm with O(log n) runtime complexity.\n",
    "\n",
    "Example 1:\n",
    "\n",
    "Input: nums = [1,3,5,6],\n",
    "\n",
    "target = 5\n",
    "\n",
    "Output: 2"
   ]
  },
  {
   "cell_type": "code",
   "execution_count": 6,
   "id": "9573cee2",
   "metadata": {},
   "outputs": [
    {
     "name": "stdout",
     "output_type": "stream",
     "text": [
      "2\n"
     ]
    }
   ],
   "source": [
    "def target_index(nums,target):\n",
    "    \n",
    "    for i in range(len(nums)):\n",
    "        if nums[i]==target:\n",
    "            return i\n",
    "    return -1\n",
    "nums = [1,3,5,6]\n",
    "target = 5\n",
    "print(target_index(nums,target))"
   ]
  },
  {
   "cell_type": "markdown",
   "id": "eb9d7e6f",
   "metadata": {},
   "source": [
    "\n",
    "💡 **Question 5**\n",
    "You are given a large integer represented as an integer array digits, where each\n",
    "digits[i] is the ith digit of the integer. The digits are ordered from most significant\n",
    "to least significant in left-to-right order. The large integer does not contain any\n",
    "leading 0's.\n",
    "\n",
    "Increment the large integer by one and return the resulting array of digits.\n",
    "\n",
    "**Example 1:**\n",
    "Input: digits = [1,2,3]\n",
    "Output: [1,2,4]\n",
    "\n",
    "**Explanation:** The array represents the integer 123.\n",
    "Incrementing by one gives 123 + 1 = 124.\n",
    "Thus, the result should be [1,2,4].\n",
    "\n",
    "</aside>"
   ]
  },
  {
   "cell_type": "code",
   "execution_count": 8,
   "id": "b1d41814",
   "metadata": {},
   "outputs": [
    {
     "name": "stdout",
     "output_type": "stream",
     "text": [
      "<map object at 0x000001B437FEAE80>\n"
     ]
    }
   ],
   "source": [
    "def plusOne(digits):\n",
    "    return map(int,str(int(''.join(map(str, digits))) + 1))\n",
    "\n",
    "digits = [1,2,3]\n",
    "n = plusOne(digits)\n",
    "print(n)\n",
    "    "
   ]
  },
  {
   "cell_type": "markdown",
   "id": "c4eda0bc",
   "metadata": {},
   "source": [
    "Question 6\n",
    "\n",
    "Given a non-empty array of integers nums, every element appears twice except\n",
    "for one. Find that single one.\n",
    "\n",
    "You must implement a solution with a linear runtime complexity and use only\n",
    "constant extra space.\n",
    "\n",
    "Example 1:\n",
    "\n",
    "Input: nums = [2,2,1]\n",
    "\n",
    "Output: 1"
   ]
  },
  {
   "cell_type": "code",
   "execution_count": 11,
   "id": "1ad2e0b4",
   "metadata": {},
   "outputs": [
    {
     "name": "stdout",
     "output_type": "stream",
     "text": [
      "1\n"
     ]
    }
   ],
   "source": [
    "def repeat(nums):\n",
    "    a = 0\n",
    "    b = a+1\n",
    "    while  nums:\n",
    "        if nums[a]==nums[b]:\n",
    "            b+=1\n",
    "        else:\n",
    "            return nums[b]\n",
    "        \n",
    "nums = [2,2,1]\n",
    "print(repeat(nums))\n",
    "    "
   ]
  },
  {
   "cell_type": "markdown",
   "id": "6124f566",
   "metadata": {},
   "source": [
    "Question 7\n",
    "\n",
    "You are given an inclusive range [lower, upper] and a sorted unique integer array\n",
    "nums, where all elements are within the inclusive range.\n",
    "\n",
    "A number x is considered missing if x is in the range [lower, upper] and x is not in\n",
    "nums.\n",
    "\n",
    "Return the shortest sorted list of ranges that exactly covers all the missing\n",
    "numbers. That is, no element of nums is included in any of the ranges, and each\n",
    "missing number is covered by one of the ranges.\n",
    "\n",
    "Example 1:\n",
    "\n",
    "Input: nums = [0,1,3,50,75], lower = 0, upper = 99\n",
    "\n",
    "Output: [[2,2],[4,49],[51,74],[76,99]]\n",
    "\n",
    "Explanation: The ranges are:\n",
    "\n",
    "[2,2]\n",
    "[4,49]\n",
    "[51,74]\n",
    "[76,99]"
   ]
  },
  {
   "cell_type": "code",
   "execution_count": 12,
   "id": "c54729d8",
   "metadata": {},
   "outputs": [
    {
     "name": "stdout",
     "output_type": "stream",
     "text": [
      "['0->1', '3', '50', '75']\n"
     ]
    }
   ],
   "source": [
    "def summaryRanges(nums):\n",
    "    if len(nums) == 0: return []\n",
    "    if len(nums) == 1: return [f'{nums[0]}']\n",
    "    s = []\n",
    "    pre = start = nums[0]\n",
    "    for i in nums[1:]:\n",
    "        if i - pre != 1:\n",
    "            s.append(f'{start}->{pre}' if pre - start > 0 else f'{pre}')\n",
    "            start = i\n",
    "        pre = i\n",
    "    s.append(f'{start}->{pre}' if pre - start > 0 else f'{pre}')\n",
    "    return s\n",
    "\n",
    "nums = [0,1,3,50,75]\n",
    "print(summaryRanges(nums))"
   ]
  },
  {
   "cell_type": "markdown",
   "id": "d77c4b99",
   "metadata": {},
   "source": [
    "Question 8\n",
    "\n",
    "Given an array of meeting time intervals where intervals[i] = [starti, endi],\n",
    "determine if a person could attend all meetings.\n",
    "\n",
    "Example 1:\n",
    "\n",
    "Input: intervals = [[0,30],[5,10],[15,20]]\n",
    "\n",
    "Output: false"
   ]
  },
  {
   "cell_type": "code",
   "execution_count": 14,
   "id": "1ebfed16",
   "metadata": {},
   "outputs": [
    {
     "name": "stdout",
     "output_type": "stream",
     "text": [
      "False\n"
     ]
    }
   ],
   "source": [
    "def canAttendMeetings(intervals):\n",
    "    new_intervals = sorted(intervals, key=lambda x: x[0])\n",
    "    for i in range(1,len(new_intervals)):\n",
    "        if new_intervals[i-1][1] > new_intervals[i][0]:return False\n",
    "    return True\n",
    "\n",
    "intervals = [[0,30],[5,10],[15,20]]\n",
    "\n",
    "print(canAttendMeetings(intervals))"
   ]
  },
  {
   "cell_type": "code",
   "execution_count": null,
   "id": "42064d7e",
   "metadata": {},
   "outputs": [],
   "source": []
  }
 ],
 "metadata": {
  "kernelspec": {
   "display_name": "Python 3 (ipykernel)",
   "language": "python",
   "name": "python3"
  },
  "language_info": {
   "codemirror_mode": {
    "name": "ipython",
    "version": 3
   },
   "file_extension": ".py",
   "mimetype": "text/x-python",
   "name": "python",
   "nbconvert_exporter": "python",
   "pygments_lexer": "ipython3",
   "version": "3.9.13"
  }
 },
 "nbformat": 4,
 "nbformat_minor": 5
}
