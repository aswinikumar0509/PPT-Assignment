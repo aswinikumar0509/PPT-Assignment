{
 "cells": [
  {
   "cell_type": "markdown",
   "id": "f9d2f43c",
   "metadata": {},
   "source": [
    " **Question 1**\n",
    "\n",
    "Given an array, for each element find the value of the nearest element to the right which is having a frequency greater than that of the current element. If there does not exist an answer for a position, then make the value ‘-1’\n",
    "\n",
    "</aside>"
   ]
  },
  {
   "cell_type": "code",
   "execution_count": 1,
   "id": "b33b5a35",
   "metadata": {},
   "outputs": [
    {
     "name": "stdout",
     "output_type": "stream",
     "text": [
      "[-1, -1, -1, 2, -1, -1]\n"
     ]
    }
   ],
   "source": [
    "from collections import defaultdict\n",
    "\n",
    "def find_next_greater_frequency(arr):\n",
    "    frequency = defaultdict(int)\n",
    "    next_greater = [-1] * len(arr)\n",
    "\n",
    "    for i in range(len(arr) - 1, -1, -1):\n",
    "        frequency[arr[i]] += 1\n",
    "\n",
    "    for i in range(len(arr) - 1, -1, -1):\n",
    "        current_freq = frequency[arr[i]]\n",
    "        for j in range(i + 1, len(arr)):\n",
    "            if frequency[arr[j]] > current_freq:\n",
    "                next_greater[i] = arr[j]\n",
    "                break\n",
    "\n",
    "    return next_greater\n",
    "\n",
    "## Driver code\n",
    "\n",
    "arr = [1, 2, 1, 3, 2, 4]\n",
    "result = find_next_greater_frequency(arr)\n",
    "print(result)  \n"
   ]
  },
  {
   "cell_type": "markdown",
   "id": "b40d6441",
   "metadata": {},
   "source": [
    "**Question 2**\n",
    "\n",
    "Given a stack of integers, sort it in ascending order using another temporary stack.\n",
    "\n",
    "</aside>"
   ]
  },
  {
   "cell_type": "code",
   "execution_count": 2,
   "id": "71c52306",
   "metadata": {},
   "outputs": [
    {
     "name": "stdout",
     "output_type": "stream",
     "text": [
      "[1, 2, 3, 5, 7]\n"
     ]
    }
   ],
   "source": [
    "def sort_stack(stack):\n",
    "    temp_stack = []\n",
    "\n",
    "    while stack:\n",
    "        temp = stack.pop()\n",
    "\n",
    "        while temp_stack and temp_stack[-1] > temp:\n",
    "            stack.append(temp_stack.pop())\n",
    "\n",
    "        temp_stack.append(temp)\n",
    "\n",
    "    return temp_stack\n",
    "\n",
    "stack = [5, 2, 7, 1, 3]\n",
    "result = sort_stack(stack)\n",
    "print(result) "
   ]
  },
  {
   "cell_type": "markdown",
   "id": "9e54237f",
   "metadata": {},
   "source": [
    "**Question 3**\n",
    "\n",
    "Given a stack with **push()**, **pop()**, and **empty()** operations, The task is to delete the **middle** element ****of it without using any additional data structure.\n",
    "\n",
    "Input  : Stack[] = [1, 2, 3, 4, 5]\n",
    "\n",
    "Output : Stack[] = [1, 2, 4, 5]\n",
    "\n",
    "Input  : Stack[] = [1, 2, 3, 4, 5, 6]\n",
    "\n",
    "Output : Stack[] = [1, 2, 4, 5, 6]\n"
   ]
  },
  {
   "cell_type": "code",
   "execution_count": 6,
   "id": "65bc9e83",
   "metadata": {},
   "outputs": [
    {
     "name": "stdout",
     "output_type": "stream",
     "text": [
      "[1, 2, 4, 5]\n",
      "[1, 2, 4, 5, 6]\n"
     ]
    }
   ],
   "source": [
    "def size(stack):\n",
    "    return len(stack)\n",
    "\n",
    "def delete_middle(stack, position, middle_element):\n",
    "    if position == middle_element:\n",
    "        stack.pop()\n",
    "        return\n",
    "    \n",
    "    temp = stack.pop()\n",
    "    delete_middle(stack, position + 1, middle_element)\n",
    "    stack.append(temp)\n",
    "\n",
    "def delete_middle_element(stack):\n",
    "    stack_size = size(stack)\n",
    "    middle_element = (stack_size // 2) + 1\n",
    "    delete_middle(stack, 1, middle_element)\n",
    "\n",
    "#driver code\n",
    "stack1 = [1, 2, 3, 4, 5]\n",
    "delete_middle_element(stack1)\n",
    "print(stack1)  \n",
    "\n",
    "stack2 = [1, 2, 3, 4, 5, 6]\n",
    "delete_middle_element(stack2)\n",
    "print(stack2) \n"
   ]
  },
  {
   "cell_type": "markdown",
   "id": "7777b3ea",
   "metadata": {},
   "source": [
    "**Question 4**\n",
    "\n",
    "Given a Queue consisting of first **n** natural numbers (in random order). The task is to check whether the given Queue elements can be arranged in increasing order in another Queue using a stack. The operation allowed are:\n",
    "\n",
    "1. Push and pop elements from the stack\n",
    "2. Pop (Or Dequeue) from the given Queue.\n",
    "3. Push (Or Enqueue) in the another Queue.\n",
    "\n",
    "**Examples :**\n",
    "\n",
    "Input : Queue[] = { 5, 1, 2, 3, 4 } \n",
    "\n",
    "Output : Yes \n",
    "\n",
    "Pop the first element of the given Queue \n",
    "\n",
    "i.e 5. Push 5 into the stack. \n",
    "\n",
    "Now, pop all the elements of the given Queue and push them to second Queue. \n",
    "\n",
    "Now, pop element 5 in the stack and push it to the second Queue.   \n",
    "\n",
    "Input : Queue[] = { 5, 1, 2, 6, 3, 4 } \n",
    "\n",
    "Output : No \n",
    "\n",
    "Push 5 to stack. \n",
    "\n",
    "Pop 1, 2 from given Queue and push it to another Queue. \n",
    "\n",
    "Pop 6 from given Queue and push to stack. \n",
    "\n",
    "Pop 3, 4 from given Queue and push to second Queue. \n",
    "\n",
    "Now, from using any of above operation, we cannot push 5 into the second Queue because it is below the 6 in the stack.\n",
    "\n",
    "</aside>"
   ]
  },
  {
   "cell_type": "code",
   "execution_count": 7,
   "id": "3a8b9d86",
   "metadata": {},
   "outputs": [
    {
     "name": "stdout",
     "output_type": "stream",
     "text": [
      "Yes\n",
      "No\n"
     ]
    }
   ],
   "source": [
    "from queue import Queue\n",
    "\n",
    "def can_arrange_increasing_order(queue):\n",
    "    stack = []\n",
    "    second_queue = Queue()\n",
    "\n",
    "    while not queue.empty():\n",
    "        current_element = queue.get()\n",
    "\n",
    "        if stack and stack[-1] < current_element:\n",
    "            return \"No\"\n",
    "\n",
    "        if stack:\n",
    "            second_queue.put(stack.pop())\n",
    "\n",
    "        if second_queue.queue and second_queue.queue[0] < current_element:\n",
    "            return \"No\"\n",
    "\n",
    "        second_queue.put(current_element)\n",
    "\n",
    "    while stack:\n",
    "        second_queue.put(stack.pop())\n",
    "\n",
    "    return \"Yes\"\n",
    "\n",
    "# Driver code\n",
    "queue1 = Queue()\n",
    "queue1.put(5)\n",
    "queue1.put(1)\n",
    "queue1.put(2)\n",
    "queue1.put(3)\n",
    "queue1.put(4)\n",
    "print(can_arrange_increasing_order(queue1))  # Output: Yes\n",
    "\n",
    "queue2 = Queue()\n",
    "queue2.put(5)\n",
    "queue2.put(1)\n",
    "queue2.put(2)\n",
    "queue2.put(6)\n",
    "queue2.put(3)\n",
    "queue2.put(4)\n",
    "print(can_arrange_increasing_order(queue2))  # Output: No\n"
   ]
  },
  {
   "cell_type": "markdown",
   "id": "73be1c1f",
   "metadata": {},
   "source": [
    "**Question 5**\n",
    "\n",
    "Given a number , write a program to reverse this number using stack.\n",
    "\n",
    "</aside>"
   ]
  },
  {
   "cell_type": "code",
   "execution_count": 8,
   "id": "9d38558e",
   "metadata": {},
   "outputs": [
    {
     "name": "stdout",
     "output_type": "stream",
     "text": [
      "54321\n"
     ]
    }
   ],
   "source": [
    "def reverse_number(number):\n",
    "    number_str = str(number)\n",
    "    stack = []\n",
    "\n",
    "    for char in number_str:\n",
    "        stack.append(char)\n",
    "\n",
    "    reversed_str = \"\"\n",
    "    while stack:\n",
    "        reversed_str += stack.pop()\n",
    "\n",
    "    reversed_number = int(reversed_str)\n",
    "    return reversed_number\n",
    "\n",
    "# Driver code\n",
    "number = 12345\n",
    "reversed_number = reverse_number(number)\n",
    "print(reversed_number)  \n"
   ]
  },
  {
   "cell_type": "markdown",
   "id": "6181e9ba",
   "metadata": {},
   "source": [
    "**Question 6**\n",
    "\n",
    "Given an integer k and a **[queue](https://www.geeksforgeeks.org/queue-data-structure/)** of integers, The task is to reverse the order of the first **k** elements of the queue, leaving the other elements in the same relative order.\n",
    "\n",
    "Only following standard operations are allowed on queue.\n",
    "\n",
    "- **enqueue(x) :** Add an item x to rear of queue\n",
    "- **dequeue() :** Remove an item from front of queue\n",
    "- **size() :** Returns number of elements in queue.\n",
    "- **front() :** Finds front item.\n",
    "</aside>"
   ]
  },
  {
   "cell_type": "code",
   "execution_count": 9,
   "id": "f60fd1e6",
   "metadata": {},
   "outputs": [
    {
     "name": "stdout",
     "output_type": "stream",
     "text": [
      "3\n",
      "2\n",
      "1\n",
      "4\n",
      "5\n"
     ]
    }
   ],
   "source": [
    "from queue import Queue\n",
    "\n",
    "def reverse_k_elements(queue, k):\n",
    "    stack = []\n",
    "\n",
    "    for _ in range(k):\n",
    "        stack.append(queue.get())\n",
    "\n",
    "    temp_queue = Queue()\n",
    "\n",
    "    while not queue.empty():\n",
    "        temp_queue.put(queue.get())\n",
    "\n",
    "    while stack:\n",
    "        queue.put(stack.pop())\n",
    "\n",
    "    while not temp_queue.empty():\n",
    "        queue.put(temp_queue.get())\n",
    "\n",
    "# Example usage:\n",
    "queue = Queue()\n",
    "queue.put(1)\n",
    "queue.put(2)\n",
    "queue.put(3)\n",
    "queue.put(4)\n",
    "queue.put(5)\n",
    "\n",
    "k = 3\n",
    "\n",
    "reverse_k_elements(queue, k)\n",
    "\n",
    "# Printing the reversed order of the first k elements\n",
    "for _ in range(k):\n",
    "    print(queue.get())  # Output: 3, 2, 1\n",
    "\n",
    "# Printing the remaining elements in the original relative order\n",
    "while not queue.empty():\n",
    "    print(queue.get())  # Output: 4, 5\n"
   ]
  },
  {
   "cell_type": "markdown",
   "id": "f64da2cf",
   "metadata": {},
   "source": [
    "**Question 7**\n",
    "\n",
    "Given a sequence of n strings, the task is to check if any two similar words come together and then destroy each other then print the number of words left in the sequence after this pairwise destruction.\n",
    "\n",
    "**Examples:**\n",
    "\n",
    "Input : ab aa aa bcd ab\n",
    "\n",
    "Output : 3\n",
    "\n",
    "*As aa, aa destroys each other so,*\n",
    "\n",
    "*ab bcd ab is the new sequence.*\n",
    "\n",
    "Input :  tom jerry jerry tom\n",
    "\n",
    "Output : 0\n",
    "\n",
    "*As first both jerry will destroy each other.*\n",
    "\n",
    "*Then sequence will be tom, tom they will also destroy*\n",
    "\n",
    "*each other. So, the final sequence doesn’t contain any*\n",
    "\n",
    "*word.*\n",
    "\n",
    "</aside>"
   ]
  },
  {
   "cell_type": "code",
   "execution_count": 10,
   "id": "834a679f",
   "metadata": {},
   "outputs": [
    {
     "name": "stdout",
     "output_type": "stream",
     "text": [
      "3\n",
      "0\n"
     ]
    }
   ],
   "source": [
    "def count_words_after_destruction(sequence):\n",
    "    words = sequence.split()\n",
    "    stack = []\n",
    "\n",
    "    for word in words:\n",
    "        if stack and word == stack[-1]:\n",
    "            stack.pop()\n",
    "        else:\n",
    "            stack.append(word)\n",
    "\n",
    "    return len(stack)\n",
    "\n",
    "# Driver code\n",
    "sequence1 = \"ab aa aa bcd ab\"\n",
    "print(count_words_after_destruction(sequence1))  # Output: 3\n",
    "\n",
    "sequence2 = \"tom jerry jerry tom\"\n",
    "print(count_words_after_destruction(sequence2))  # Output: 0\n"
   ]
  },
  {
   "cell_type": "markdown",
   "id": "3a8bee52",
   "metadata": {},
   "source": [
    "**Question 8**\n",
    "\n",
    "Given an array of integers, the task is to find the maximum absolute difference between the nearest left and the right smaller element of every element in the array.\n",
    "\n",
    "**Note:** If there is no smaller element on right side or left side of any element then we take zero as the smaller element. For example for the leftmost element, the nearest smaller element on the left side is considered as 0. Similarly, for rightmost elements, the smaller element on the right side is considered as 0.\n",
    "\n",
    "</aside>"
   ]
  },
  {
   "cell_type": "code",
   "execution_count": 11,
   "id": "4779a20e",
   "metadata": {},
   "outputs": [
    {
     "name": "stdout",
     "output_type": "stream",
     "text": [
      "4\n",
      "4\n"
     ]
    }
   ],
   "source": [
    "def max_absolute_difference(arr):\n",
    "    n = len(arr)\n",
    "    stack = []\n",
    "    left_smaller = [0] * n\n",
    "    right_smaller = [0] * n\n",
    "\n",
    "    # Finding next smaller element on the right\n",
    "    for i in range(n):\n",
    "        while stack and arr[i] < arr[stack[-1]]:\n",
    "            right_smaller[stack.pop()] = i\n",
    "        stack.append(i)\n",
    "\n",
    "    stack.clear()\n",
    "\n",
    "    # Finding next smaller element on the left\n",
    "    for i in range(n - 1, -1, -1):\n",
    "        while stack and arr[i] <= arr[stack[-1]]:\n",
    "            left_smaller[stack.pop()] = i\n",
    "        stack.append(i)\n",
    "\n",
    "    max_diff = 0\n",
    "\n",
    "    # Calculating maximum absolute difference\n",
    "    for i in range(n):\n",
    "        diff = abs(left_smaller[i] - right_smaller[i])\n",
    "        max_diff = max(max_diff, diff)\n",
    "\n",
    "    return max_diff\n",
    "\n",
    "# Example usage:\n",
    "arr = [2, 1, 8, 7, 6, 5]\n",
    "print(max_absolute_difference(arr))  # Output: 4\n",
    "\n",
    "arr = [3, 2, 1, 4, 5, 6]\n",
    "print(max_absolute_difference(arr))  # Output: 5\n"
   ]
  },
  {
   "cell_type": "code",
   "execution_count": null,
   "id": "81ca1620",
   "metadata": {},
   "outputs": [],
   "source": []
  }
 ],
 "metadata": {
  "kernelspec": {
   "display_name": "Python 3 (ipykernel)",
   "language": "python",
   "name": "python3"
  },
  "language_info": {
   "codemirror_mode": {
    "name": "ipython",
    "version": 3
   },
   "file_extension": ".py",
   "mimetype": "text/x-python",
   "name": "python",
   "nbconvert_exporter": "python",
   "pygments_lexer": "ipython3",
   "version": "3.9.13"
  }
 },
 "nbformat": 4,
 "nbformat_minor": 5
}
