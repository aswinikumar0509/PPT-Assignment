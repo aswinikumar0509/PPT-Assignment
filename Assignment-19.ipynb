{
 "cells": [
  {
   "cell_type": "markdown",
   "id": "e8b8d67b",
   "metadata": {},
   "source": [
    "1. **Merge k Sorted Lists**\n",
    "\n",
    "You are given an array of `k` linked-lists `lists`, each linked-list is sorted in ascending order.\n",
    "\n",
    "*Merge all the linked-lists into one sorted linked-list and return it.*\n",
    "\n",
    "Input: lists = [[1,4,5],[1,3,4],[2,6]]\n",
    "Output: [1,1,2,3,4,4,5,6]\n",
    "Explanation: The linked-lists are:\n",
    "[\n",
    "  1->4->5,\n",
    "  1->3->4,\n",
    "  2->6\n",
    "]\n",
    "merging them into one sorted list:\n",
    "1->1->2->3->4->4->5->6\n",
    "\n",
    "\n",
    "</aside>"
   ]
  },
  {
   "cell_type": "code",
   "execution_count": 1,
   "id": "7ac6cdb1",
   "metadata": {},
   "outputs": [],
   "source": [
    "import heapq\n",
    "\n",
    "def mergeKLists(lists):\n",
    "    # Create a min-heap\n",
    "    minHeap = []\n",
    "    heapq.heapify(minHeap)\n",
    "\n",
    "    # Insert the head nodes of each linked list into the min-heap\n",
    "    for lst in lists:\n",
    "        if lst:\n",
    "            heapq.heappush(minHeap, (lst.val, lst))\n",
    "\n",
    "    # Create a dummy node and a result linked list\n",
    "    dummy = ListNode(0)\n",
    "    curr = dummy\n",
    "\n",
    "    # Merge the linked lists\n",
    "    while minHeap:\n",
    "        _, node = heapq.heappop(minHeap)  # Remove the minimum element from the min-heap\n",
    "        curr.next = node  # Append the minimum element to the result linked list\n",
    "        curr = curr.next\n",
    "\n",
    "        if node.next:  # If the minimum element has a next node, insert it into the min-heap\n",
    "            heapq.heappush(minHeap, (node.next.val, node.next))\n",
    "\n",
    "    return dummy.next  # Return the head of the merged linked list\n"
   ]
  },
  {
   "cell_type": "code",
   "execution_count": 2,
   "id": "8778caaf",
   "metadata": {},
   "outputs": [
    {
     "ename": "AttributeError",
     "evalue": "'list' object has no attribute 'val'",
     "output_type": "error",
     "traceback": [
      "\u001b[1;31m---------------------------------------------------------------------------\u001b[0m",
      "\u001b[1;31mAttributeError\u001b[0m                            Traceback (most recent call last)",
      "\u001b[1;32m~\\AppData\\Local\\Temp\\ipykernel_24624\\2034060736.py\u001b[0m in \u001b[0;36m<module>\u001b[1;34m\u001b[0m\n\u001b[0;32m      1\u001b[0m \u001b[0mlists\u001b[0m \u001b[1;33m=\u001b[0m \u001b[1;33m[\u001b[0m\u001b[1;33m[\u001b[0m\u001b[1;36m1\u001b[0m\u001b[1;33m,\u001b[0m\u001b[1;36m4\u001b[0m\u001b[1;33m,\u001b[0m\u001b[1;36m5\u001b[0m\u001b[1;33m]\u001b[0m\u001b[1;33m,\u001b[0m\u001b[1;33m[\u001b[0m\u001b[1;36m1\u001b[0m\u001b[1;33m,\u001b[0m\u001b[1;36m3\u001b[0m\u001b[1;33m,\u001b[0m\u001b[1;36m4\u001b[0m\u001b[1;33m]\u001b[0m\u001b[1;33m,\u001b[0m\u001b[1;33m[\u001b[0m\u001b[1;36m2\u001b[0m\u001b[1;33m,\u001b[0m\u001b[1;36m6\u001b[0m\u001b[1;33m]\u001b[0m\u001b[1;33m]\u001b[0m\u001b[1;33m\u001b[0m\u001b[1;33m\u001b[0m\u001b[0m\n\u001b[1;32m----> 2\u001b[1;33m \u001b[0mmergeKLists\u001b[0m\u001b[1;33m(\u001b[0m\u001b[0mlists\u001b[0m\u001b[1;33m)\u001b[0m\u001b[1;33m\u001b[0m\u001b[1;33m\u001b[0m\u001b[0m\n\u001b[0m",
      "\u001b[1;32m~\\AppData\\Local\\Temp\\ipykernel_24624\\1461423052.py\u001b[0m in \u001b[0;36mmergeKLists\u001b[1;34m(lists)\u001b[0m\n\u001b[0;32m      9\u001b[0m     \u001b[1;32mfor\u001b[0m \u001b[0mlst\u001b[0m \u001b[1;32min\u001b[0m \u001b[0mlists\u001b[0m\u001b[1;33m:\u001b[0m\u001b[1;33m\u001b[0m\u001b[1;33m\u001b[0m\u001b[0m\n\u001b[0;32m     10\u001b[0m         \u001b[1;32mif\u001b[0m \u001b[0mlst\u001b[0m\u001b[1;33m:\u001b[0m\u001b[1;33m\u001b[0m\u001b[1;33m\u001b[0m\u001b[0m\n\u001b[1;32m---> 11\u001b[1;33m             \u001b[0mheapq\u001b[0m\u001b[1;33m.\u001b[0m\u001b[0mheappush\u001b[0m\u001b[1;33m(\u001b[0m\u001b[0mminHeap\u001b[0m\u001b[1;33m,\u001b[0m \u001b[1;33m(\u001b[0m\u001b[0mlst\u001b[0m\u001b[1;33m.\u001b[0m\u001b[0mval\u001b[0m\u001b[1;33m,\u001b[0m \u001b[0mlst\u001b[0m\u001b[1;33m)\u001b[0m\u001b[1;33m)\u001b[0m\u001b[1;33m\u001b[0m\u001b[1;33m\u001b[0m\u001b[0m\n\u001b[0m\u001b[0;32m     12\u001b[0m \u001b[1;33m\u001b[0m\u001b[0m\n\u001b[0;32m     13\u001b[0m     \u001b[1;31m# Create a dummy node and a result linked list\u001b[0m\u001b[1;33m\u001b[0m\u001b[1;33m\u001b[0m\u001b[0m\n",
      "\u001b[1;31mAttributeError\u001b[0m: 'list' object has no attribute 'val'"
     ]
    }
   ],
   "source": [
    "lists = [[1,4,5],[1,3,4],[2,6]]\n",
    "mergeKLists(lists)"
   ]
  },
  {
   "cell_type": "markdown",
   "id": "870b2359",
   "metadata": {},
   "source": [
    "2. **Count of Smaller Numbers After Self**\n",
    "\n",
    "Given an integer array `nums`, return *an integer array* `counts` *where* `counts[i]` *is the number of smaller elements to the right of* `nums[i]`.\n",
    "\n",
    "</aside>"
   ]
  },
  {
   "cell_type": "code",
   "execution_count": 3,
   "id": "397c1979",
   "metadata": {},
   "outputs": [
    {
     "data": {
      "text/plain": [
       "[2, 1, 1, 0]"
      ]
     },
     "execution_count": 3,
     "metadata": {},
     "output_type": "execute_result"
    }
   ],
   "source": [
    "import bisect\n",
    "def smallest_element(nums):\n",
    "    arr = sorted(nums)\n",
    "    ans = []\n",
    "    \n",
    "    for num in nums:\n",
    "        i = bisect.bisect_left(arr,num)\n",
    "        ans.append(i)\n",
    "        del arr[i]\n",
    "    return ans\n",
    "\n",
    "nums = [5,2,6,1]\n",
    "smallest_element(nums)\n",
    "        "
   ]
  },
  {
   "cell_type": "markdown",
   "id": "acf04b8f",
   "metadata": {},
   "source": [
    "3. **Sort an Array**\n",
    "\n",
    "Given an array of integers `nums`, sort the array in ascending order and return it.\n",
    "\n",
    "You must solve the problem **without using any built-in** functions in `O(nlog(n))` time complexity and with the smallest space complexity possible.\n",
    "\n",
    "</aside>"
   ]
  },
  {
   "cell_type": "code",
   "execution_count": 4,
   "id": "9f433bb9",
   "metadata": {},
   "outputs": [
    {
     "data": {
      "text/plain": [
       "[1, 2, 3, 4, 5]"
      ]
     },
     "execution_count": 4,
     "metadata": {},
     "output_type": "execute_result"
    }
   ],
   "source": [
    "## While solving this problem I am generally applying the partition algorithm for sorting the array\n",
    "\n",
    "def merge_sort(nums):\n",
    "    # Define the merge_sort function\n",
    "    def merge(left, mid, right):\n",
    "        # Merge two sorted subarrays\n",
    "        result = []\n",
    "        left_ptr = left\n",
    "        right_ptr = mid + 1\n",
    "\n",
    "        while left_ptr <= mid and right_ptr <= right:\n",
    "            if nums[left_ptr] <= nums[right_ptr]:\n",
    "                result.append(nums[left_ptr])\n",
    "                left_ptr += 1\n",
    "            else:\n",
    "                result.append(nums[right_ptr])\n",
    "                right_ptr += 1\n",
    "\n",
    "        # Append the remaining elements\n",
    "        while left_ptr <= mid:\n",
    "            result.append(nums[left_ptr])\n",
    "            left_ptr += 1\n",
    "\n",
    "        while right_ptr <= right:\n",
    "            result.append(nums[right_ptr])\n",
    "            right_ptr += 1\n",
    "\n",
    "        # Copy the merged result back to the original array\n",
    "        for i in range(len(result)):\n",
    "            nums[left + i] = result[i]\n",
    "\n",
    "    def divide(left, right):\n",
    "        if left >= right:\n",
    "            # Base case: array has zero or one element\n",
    "            return\n",
    "\n",
    "        mid = (left + right) // 2\n",
    "\n",
    "        # Divide the array and sort the halves recursively\n",
    "        divide(left, mid)\n",
    "        divide(mid + 1, right)\n",
    "\n",
    "        # Merge the sorted halves\n",
    "        merge(left, mid, right)\n",
    "\n",
    "    # Call the divide function with initial parameters\n",
    "    divide(0, len(nums) - 1)\n",
    "\n",
    "    # Return the sorted array\n",
    "    return nums\n",
    "nums = [5,3,4,2,1]\n",
    "merge_sort(nums)"
   ]
  },
  {
   "cell_type": "markdown",
   "id": "0a659d59",
   "metadata": {},
   "source": [
    "4. **Move all zeroes to end of array**\n",
    "\n",
    "Given an array of random numbers, Push all the zero’s of a given array to the end of the array. For example, if the given arrays is {1, 9, 8, 4, 0, 0, 2, 7, 0, 6, 0}, it should be changed to {1, 9, 8, 4, 2, 7, 6, 0, 0, 0, 0}. The order of all other elements should be same. Expected time complexity is O(n) and extra space is O(1).\n",
    "\n",
    "</aside>"
   ]
  },
  {
   "cell_type": "code",
   "execution_count": 10,
   "id": "ace6d314",
   "metadata": {},
   "outputs": [
    {
     "data": {
      "text/plain": [
       "[1, 9, 8, 4, 2, 7, 6, 0, 0, 0, 0]"
      ]
     },
     "execution_count": 10,
     "metadata": {},
     "output_type": "execute_result"
    }
   ],
   "source": [
    "def movezeors(nums):\n",
    "    j=0\n",
    "    for i in range(len(nums)):\n",
    "        if nums[i]!=0 and nums[j]==0:\n",
    "            nums[j],nums[i] = nums[i],nums[j]\n",
    "        if nums[j]!=0:\n",
    "            j+=1\n",
    "    return nums\n",
    "    \n",
    "nums = [1,9,8,4,0,0,2,7,0,6,0]\n",
    "movezeors(nums)\n",
    "        "
   ]
  },
  {
   "cell_type": "markdown",
   "id": "13c8c0d2",
   "metadata": {},
   "source": [
    " 5. **Rearrange array in alternating positive & negative items with O(1) extra space**\n",
    "\n",
    "Given an **array of positive** and **negative numbers**, arrange them in an **alternate** fashion such that every positive number is followed by a negative and vice-versa maintaining the **order of appearance**. The number of positive and negative numbers need not be equal. If there are more positive numbers they appear at the end of the array. If there are more negative numbers, they too appear at the end of the array.\n",
    "\n",
    "</aside>"
   ]
  },
  {
   "cell_type": "code",
   "execution_count": 19,
   "id": "7481b16e",
   "metadata": {},
   "outputs": [
    {
     "data": {
      "text/plain": [
       "[3, -2, 1, -5, 2, -4]"
      ]
     },
     "execution_count": 19,
     "metadata": {},
     "output_type": "execute_result"
    }
   ],
   "source": [
    "\n",
    "from itertools import chain\n",
    "def rearrangeArray(nums):\n",
    "    result = [0]*len(nums)\n",
    "    result[::2] = [n for n in nums if n > 0]\n",
    "    result[1::2] = [n for n in nums if n < 0]\n",
    "    return result\n",
    "nums = [3,1,-2,-5,2,-4]\n",
    "rearrangeArray(nums)"
   ]
  },
  {
   "cell_type": "markdown",
   "id": "a56aa3d1",
   "metadata": {},
   "source": [
    "**6. Merge two sorted arrays**\n",
    "\n",
    "Given two sorted arrays, the task is to merge them in a sorted manner.\n",
    "\n",
    "</aside>"
   ]
  },
  {
   "cell_type": "code",
   "execution_count": 23,
   "id": "721394e4",
   "metadata": {},
   "outputs": [
    {
     "ename": "SyntaxError",
     "evalue": "cannot assign to literal (3070441652.py, line 8)",
     "output_type": "error",
     "traceback": [
      "\u001b[1;36m  File \u001b[1;32m\"C:\\Users\\aswin\\AppData\\Local\\Temp\\ipykernel_24624\\3070441652.py\"\u001b[1;36m, line \u001b[1;32m8\u001b[0m\n\u001b[1;33m    nums1 = [1, 3, 4, 5], nums2 = [2, 4, 6, 8]\u001b[0m\n\u001b[1;37m             ^\u001b[0m\n\u001b[1;31mSyntaxError\u001b[0m\u001b[1;31m:\u001b[0m cannot assign to literal\n"
     ]
    }
   ],
   "source": [
    "    def merge(self, nums1: List[int], m: int, nums2: List[int], n: int):\n",
    "        \"\"\"\n",
    "        Do not return anything, modify nums1 in-place instead.\n",
    "        \"\"\"\n",
    "        for i in range(m,m+n):\n",
    "            nums1[i]=nums2[i-m]\n",
    "        nums1.sort()\n",
    "        nums1 = [1, 3, 4, 5], nums2 = [2, 4, 6, 8]\n",
    "        m = len(arr1) , n = len(arr2)\n",
    "        merge(arr1,arr2,m,n)"
   ]
  },
  {
   "cell_type": "markdown",
   "id": "043794ed",
   "metadata": {},
   "source": [
    "7. **Intersection of Two Arrays**\n",
    "\n",
    "Given two integer arrays `nums1` and `nums2`, return *an array of their intersection*. Each element in the result must be **unique** and you may return the result in **any order**.\n",
    "\n",
    "</aside>"
   ]
  },
  {
   "cell_type": "code",
   "execution_count": 26,
   "id": "6d119063",
   "metadata": {},
   "outputs": [
    {
     "data": {
      "text/plain": [
       "[2]"
      ]
     },
     "execution_count": 26,
     "metadata": {},
     "output_type": "execute_result"
    }
   ],
   "source": [
    "def intersection(nums1, nums2):\n",
    "    set1 = set(nums1)\n",
    "    set2 = set(nums2)\n",
    "    result = set1 & set2\n",
    "    return list(result)\n",
    "\n",
    "\n",
    "nums1 = [1,2,2,1]\n",
    "nums2 = [2,2]\n",
    "intersection(nums1,nums2)"
   ]
  },
  {
   "cell_type": "markdown",
   "id": "28b423d4",
   "metadata": {},
   "source": [
    " 8. **Intersection of Two Arrays II**\n",
    "\n",
    "Given two integer arrays `nums1` and `nums2`, return *an array of their intersection*. Each element in the result must appear as many times as it shows in both arrays and you may return the result in **any order**.\n",
    "\n",
    "</aside>"
   ]
  },
  {
   "cell_type": "code",
   "execution_count": 27,
   "id": "e739347b",
   "metadata": {},
   "outputs": [
    {
     "data": {
      "text/plain": [
       "[2, 2]"
      ]
     },
     "execution_count": 27,
     "metadata": {},
     "output_type": "execute_result"
    }
   ],
   "source": [
    "from collections import defaultdict\n",
    "\n",
    "def intersect(nums1, nums2):\n",
    "    counter = defaultdict(int)\n",
    "    for num in nums1:\n",
    "        counter[num] += 1\n",
    "\n",
    "    result = []\n",
    "    for num in nums2:\n",
    "        if counter[num] > 0:\n",
    "            result.append(num)\n",
    "            counter[num] -= 1\n",
    "    return result\n",
    "\n",
    "nums1 = [1,2,2,1]\n",
    "nums2 = [2,2]\n",
    "intersect(nums1,nums2)\n"
   ]
  },
  {
   "cell_type": "code",
   "execution_count": null,
   "id": "ae7eb130",
   "metadata": {},
   "outputs": [],
   "source": []
  }
 ],
 "metadata": {
  "kernelspec": {
   "display_name": "Python 3 (ipykernel)",
   "language": "python",
   "name": "python3"
  },
  "language_info": {
   "codemirror_mode": {
    "name": "ipython",
    "version": 3
   },
   "file_extension": ".py",
   "mimetype": "text/x-python",
   "name": "python",
   "nbconvert_exporter": "python",
   "pygments_lexer": "ipython3",
   "version": "3.9.13"
  }
 },
 "nbformat": 4,
 "nbformat_minor": 5
}
