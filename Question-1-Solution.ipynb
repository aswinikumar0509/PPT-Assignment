{
 "cells": [
  {
   "cell_type": "markdown",
   "id": "f54d58ab",
   "metadata": {},
   "source": [
    "Move Zeroes\n",
    "\n",
    "Given an integer array nums, move all 0's to the end of it while maintaining the relative order of the non-zero elements.\n",
    "\n",
    "Note that you must do this in-place without making a copy of the array.\n",
    "\n",
    "Example 1:\n",
    "\n",
    "Input: nums = [0,1,0,3,12]\n",
    "\n",
    "Output: [1,3,12,0,0]\n",
    "\n",
    "Example 2:\n",
    "\n",
    "Input: nums = [0]\n",
    "\n",
    "Output: [0]"
   ]
  },
  {
   "cell_type": "code",
   "execution_count": 1,
   "id": "fc36e666",
   "metadata": {},
   "outputs": [
    {
     "name": "stdout",
     "output_type": "stream",
     "text": [
      "[1, 3, 12, 0, 0]\n"
     ]
    }
   ],
   "source": [
    "def move_zero(nums):\n",
    "    s = 0  #start element \n",
    "    e = 0  # end element\n",
    "    \n",
    "    while s < len(nums):\n",
    "        if nums[s]!=0:  # here check the from the start\n",
    "            nums[e],nums[s] = nums[s],nums[e]  # swap the value\n",
    "            e+=1\n",
    "        s+=1\n",
    "    return nums\n",
    "\n",
    "nums = [0,1,0,3,12]\n",
    "print(move_zero(nums)) "
   ]
  },
  {
   "cell_type": "code",
   "execution_count": null,
   "id": "a69e87ba",
   "metadata": {},
   "outputs": [],
   "source": []
  }
 ],
 "metadata": {
  "kernelspec": {
   "display_name": "Python 3 (ipykernel)",
   "language": "python",
   "name": "python3"
  },
  "language_info": {
   "codemirror_mode": {
    "name": "ipython",
    "version": 3
   },
   "file_extension": ".py",
   "mimetype": "text/x-python",
   "name": "python",
   "nbconvert_exporter": "python",
   "pygments_lexer": "ipython3",
   "version": "3.9.13"
  }
 },
 "nbformat": 4,
 "nbformat_minor": 5
}
