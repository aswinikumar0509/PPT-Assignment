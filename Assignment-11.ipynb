{
 "cells": [
  {
   "cell_type": "markdown",
   "id": "677038c3",
   "metadata": {},
   "source": [
    " **Question 1**\n",
    "\n",
    "Given a non-negative integer `x`, return *the square root of* `x` *rounded down to the nearest integer*. The returned integer should be **non-negative** as well.\n",
    "\n",
    "You **must not use** any built-in exponent function or operator.\n",
    "\n",
    "- For example, do not use `pow(x, 0.5)` in c++ or `x ** 0.5` in python.\n",
    "\n",
    "**Example 1:**\n",
    "\n",
    "</aside>"
   ]
  },
  {
   "cell_type": "code",
   "execution_count": 2,
   "id": "434b76bb",
   "metadata": {},
   "outputs": [
    {
     "name": "stdout",
     "output_type": "stream",
     "text": [
      "2\n"
     ]
    }
   ],
   "source": [
    "def squ_root(x):\n",
    "    left,right = 1,x\n",
    "    while left <= right:\n",
    "        mid = (left+right)//2\n",
    "        if mid*mid==x:\n",
    "            return mid\n",
    "        if mid*mid>x:\n",
    "            right = mid-1\n",
    "        else:\n",
    "            left = mid+1\n",
    "    return right\n",
    "\n",
    "x = 4\n",
    "print(squ_root(x))"
   ]
  },
  {
   "cell_type": "markdown",
   "id": "0036b85e",
   "metadata": {},
   "source": [
    " **Question 2**\n",
    "\n",
    "A peak element is an element that is strictly greater than its neighbors.\n",
    "\n",
    "Given a **0-indexed** integer array `nums`, find a peak element, and return its index. If the array contains multiple peaks, return the index to **any of the peaks**.\n",
    "\n",
    "You may imagine that `nums[-1] = nums[n] = -∞`. In other words, an element is always considered to be strictly greater than a neighbor that is outside the array.\n",
    "\n",
    "You must write an algorithm that runs in `O(log n)` time.\n",
    "\n",
    "**Example 1:**\n",
    "    \n",
    "Input: nums = [1,2,3,1]\n",
    "    \n",
    "Output: 2\n",
    "    \n",
    "Explanation: 3 is a peak element and your function should return the index number 2.\n",
    "</aside>\n"
   ]
  },
  {
   "cell_type": "code",
   "execution_count": 3,
   "id": "e8ff9c75",
   "metadata": {},
   "outputs": [
    {
     "name": "stdout",
     "output_type": "stream",
     "text": [
      "2\n"
     ]
    }
   ],
   "source": [
    "def findpeakelement(nums):\n",
    "    n = len(nums)\n",
    "    l,r=0,n-1\n",
    "    while l< r:\n",
    "        mid = (l+r)>>1\n",
    "        if nums[mid]<nums[mid+1]:\n",
    "            l = mid+1\n",
    "        else:\n",
    "            r = mid\n",
    "    return l\n",
    "\n",
    "nums = [1,2,3,1]\n",
    "print(findpeakelement(nums))"
   ]
  },
  {
   "cell_type": "markdown",
   "id": "e119329c",
   "metadata": {},
   "source": [
    " **Question 3**\n",
    "\n",
    "****\n",
    "\n",
    "Given an array `nums` containing `n` distinct numbers in the range `[0, n]`, return *the only number in the range that is missing from the array.*\n",
    "\n",
    "Input: nums = [3,0,1]\n",
    "\n",
    "Output: 2\n",
    "\n",
    "Explanation: n = 3 since there are 3 numbers, so all numbers are in the range [0,3]. 2 is the missing number in the range since it does not appear in nums.\n",
    "\n",
    "\n",
    "</aside>"
   ]
  },
  {
   "cell_type": "code",
   "execution_count": 8,
   "id": "bbe9fe70",
   "metadata": {},
   "outputs": [
    {
     "name": "stdout",
     "output_type": "stream",
     "text": [
      "2\n"
     ]
    }
   ],
   "source": [
    "def missing(nums):\n",
    "    n = len(nums)\n",
    "    expected_sum = int(n*(n+1)/2)\n",
    "    sum = 0\n",
    "    for num in nums:\n",
    "        sum=sum+num\n",
    "    missing_value = expected_sum-sum\n",
    "    return missing_value\n",
    "\n",
    "nums = [3,0,1,4]\n",
    "print(missing(nums))"
   ]
  },
  {
   "cell_type": "markdown",
   "id": "3aff13ea",
   "metadata": {},
   "source": [
    " **Question 4**\n",
    "\n",
    "Given an array of integers `nums` containing `n + 1` integers where each integer is in the range `[1, n]` inclusive.\n",
    "\n",
    "There is only **one repeated number** in `nums`, return *this repeated number*.\n",
    "\n",
    "You must solve the problem **without** modifying the array `nums` and uses only constant extra space.\n",
    "\n",
    "Input: nums = [1,3,4,2,2]\n",
    "    \n",
    "Output: 2\n",
    "\n",
    "\n",
    "</aside>"
   ]
  },
  {
   "cell_type": "code",
   "execution_count": 11,
   "id": "38115677",
   "metadata": {},
   "outputs": [
    {
     "name": "stdout",
     "output_type": "stream",
     "text": [
      "2\n"
     ]
    }
   ],
   "source": [
    "def find_duplicate(nums):\n",
    "    for i in range(len(nums)):\n",
    "        if nums[abs(nums[i])-1]>0:\n",
    "            nums[abs(nums[i])-1] = -nums[abs(nums[i])-1]\n",
    "        else:\n",
    "            return abs(nums[i])\n",
    "nums = [1,3,4,2,2]\n",
    "print(find_duplicate(nums))"
   ]
  },
  {
   "cell_type": "markdown",
   "id": "26e46af5",
   "metadata": {},
   "source": [
    " **Question 5**\n",
    "\n",
    "Given two integer arrays `nums1` and `nums2`, return *an array of their intersection*. Each element in the result must be **unique** and you may return the result in **any order**.\n",
    "\n",
    "**Example 1:**\n",
    "\n",
    "Input: nums1 = [1,2,2,1], nums2 = [2,2]\n",
    "\n",
    "Output: [2]\n",
    "\n",
    "\n",
    "</aside>"
   ]
  },
  {
   "cell_type": "code",
   "execution_count": 12,
   "id": "26a63def",
   "metadata": {},
   "outputs": [
    {
     "name": "stdout",
     "output_type": "stream",
     "text": [
      "{2}\n"
     ]
    }
   ],
   "source": [
    "def insertation(num1,num2):\n",
    "    return set(num1) & set(num2)\n",
    "\n",
    "num1 = [1,2,2,1]\n",
    "num2 = [2,2]\n",
    "print(insertation(num1,num2))"
   ]
  },
  {
   "cell_type": "markdown",
   "id": "12045f13",
   "metadata": {},
   "source": [
    " **Question 6**\n",
    "\n",
    "Suppose an array of length `n` sorted in ascending order is **rotated** between `1` and `n` times. For example, the array `nums = [0,1,2,4,5,6,7]` might become:\n",
    "\n",
    "- `[4,5,6,7,0,1,2]` if it was rotated `4` times.\n",
    "- `[0,1,2,4,5,6,7]` if it was rotated `7` times.\n",
    "\n",
    "Notice that **rotating** an array `[a[0], a[1], a[2], ..., a[n-1]]` 1 time results in the array `[a[n-1], a[0], a[1], a[2], ..., a[n-2]]`.\n",
    "\n",
    "Given the sorted rotated array `nums` of **unique** elements, return *the minimum element of this array*.\n",
    "\n",
    "You must write an algorithm that runs in `O(log n) time.`\n",
    "\n",
    "Input: nums = [3,4,5,1,2]\n",
    "\n",
    "Output: 1\n",
    "\n",
    "Explanation: The original array was [1,2,3,4,5] rotated 3 times.\n",
    "\n",
    "\n",
    "</aside>"
   ]
  },
  {
   "cell_type": "code",
   "execution_count": 13,
   "id": "3aba64bb",
   "metadata": {},
   "outputs": [
    {
     "name": "stdout",
     "output_type": "stream",
     "text": [
      "1\n"
     ]
    }
   ],
   "source": [
    "def rotation(nums):\n",
    "        if len(nums) == 1:\n",
    "            return nums[0]\n",
    "        if nums[-1]>nums[0]:\n",
    "            return nums[0]\n",
    "        if nums[-1] < nums[-2]:\n",
    "            return nums[-1]\n",
    "        \n",
    "        l=0\n",
    "        h = len(nums)-1\n",
    "        while l<=h:\n",
    "            m = l+h>>1\n",
    "            if nums[m]<nums[m-1]and nums[m]<=nums[m+1]:\n",
    "                return nums[m]\n",
    "            elif nums[m] > nums[h]:\n",
    "                l = m+1\n",
    "            else:\n",
    "                h = m-1\n",
    "        \n",
    "        return -1\n",
    "    \n",
    "nums = [3,4,5,1,2]\n",
    "print(rotation(nums))"
   ]
  },
  {
   "cell_type": "markdown",
   "id": "71439401",
   "metadata": {},
   "source": [
    " **Question 7**\n",
    "\n",
    "Given an array of integers `nums` sorted in non-decreasing order, find the starting and ending position of a given `target` value.\n",
    "\n",
    "If `target` is not found in the array, return `[-1, -1]`.\n",
    "\n",
    "You must write an algorithm with `O(log n)` runtime complexity.\n",
    "\n",
    "**Example 1:**\n",
    "\n",
    "Input: nums = [5,7,7,8,8,10], target = 6\n",
    "\n",
    "Output: [-1,-1]\n",
    "\n",
    "\n",
    "</aside>"
   ]
  },
  {
   "cell_type": "code",
   "execution_count": 21,
   "id": "736be526",
   "metadata": {},
   "outputs": [
    {
     "name": "stdout",
     "output_type": "stream",
     "text": [
      "[-1, -1]\n"
     ]
    }
   ],
   "source": [
    "    def searchRange(nums, target):\n",
    "        if nums == []:\n",
    "            return [-1,-1]\n",
    "        \n",
    "        left = 0\n",
    "        right = len(nums)\n",
    "        \n",
    "        answer = binarySearch(left, right, nums, target)\n",
    "        \n",
    "        if answer == \"not found!\":\n",
    "            return [-1,-1]\n",
    "        \n",
    "        left_i = answer\n",
    "        right_i = answer\n",
    "        \n",
    "        try:\n",
    "            while nums[left_i] == target and left_i >= 0:\n",
    "                left_i -= 1\n",
    "        except:\n",
    "            pass\n",
    "            \n",
    "        try:\n",
    "            while nums[right_i] == target and right_i <= right:\n",
    "                print(right_i)\n",
    "                right_i += 1\n",
    "        except:\n",
    "            pass\n",
    "        \n",
    "        return [left_i + 1, right_i - 1]\n",
    "                \n",
    "                \n",
    "    def binarySearch(left, right, nums, target):\n",
    "        \n",
    "        mid = (right + left) // 2\n",
    "        result = nums[mid]\n",
    "        if result == target:\n",
    "            return mid\n",
    "        \n",
    "        if right - left <= 1:\n",
    "            return \"not found!\"\n",
    "        \n",
    "        elif result > target: \n",
    "            right = mid\n",
    "            return binarySearch(left, right, nums, target)\n",
    "\n",
    "        elif result < target: \n",
    "            left = mid\n",
    "            return self.binarySearch(left, right, nums, target)\n",
    "        \n",
    "nums = [5,7,7,8,8,10]\n",
    "target = 6\n",
    "print(searchRange(nums,target))"
   ]
  },
  {
   "cell_type": "markdown",
   "id": "e8f8552f",
   "metadata": {},
   "source": [
    "<aside>\n",
    "💡 **Question 8**\n",
    "\n",
    "Given two integer arrays `nums1` and `nums2`, return *an array of their intersection*. Each element in the result must appear as many times as it shows in both arrays and you may return the result in **any order**.\n",
    "    \n",
    "Input: nums1 = [1,2,2,1],\n",
    "   nums2 = [2,2]\n",
    "    \n",
    "Output: [2,2]\n",
    "\n",
    "\n",
    "</aside>"
   ]
  },
  {
   "cell_type": "code",
   "execution_count": 22,
   "id": "9dae89c6",
   "metadata": {},
   "outputs": [
    {
     "name": "stdout",
     "output_type": "stream",
     "text": [
      "{2}\n"
     ]
    }
   ],
   "source": [
    "    def intersect(nums1, nums2):\n",
    "        hashMap,result = {},[]\n",
    "        for num in nums1:hashMap[num] = hashMap.get(num,0)+1\n",
    "        \n",
    "        for num in nums2:\n",
    "            if num in hashMap and hashMap[num] != 0:\n",
    "                result.append(num) \n",
    "                hashMap[num] -= 1\n",
    "\n",
    "        return result\n",
    "    \n",
    "nums1 = [1,2,2,1]\n",
    "nums2 = [2,2]\n",
    "print(insertation(num1,nums2))"
   ]
  },
  {
   "cell_type": "code",
   "execution_count": null,
   "id": "ca2a951e",
   "metadata": {},
   "outputs": [],
   "source": []
  }
 ],
 "metadata": {
  "kernelspec": {
   "display_name": "Python 3 (ipykernel)",
   "language": "python",
   "name": "python3"
  },
  "language_info": {
   "codemirror_mode": {
    "name": "ipython",
    "version": 3
   },
   "file_extension": ".py",
   "mimetype": "text/x-python",
   "name": "python",
   "nbconvert_exporter": "python",
   "pygments_lexer": "ipython3",
   "version": "3.9.13"
  }
 },
 "nbformat": 4,
 "nbformat_minor": 5
}
