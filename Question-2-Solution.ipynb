{
 "cells": [
  {
   "cell_type": "markdown",
   "id": "4face6d4",
   "metadata": {},
   "source": [
    "First Unique Character in a String\n",
    "\n",
    "Given a string s, find the first non-repeating character in it and return its index. If it does not exist, return -1.\n",
    "\n",
    "Example 1:\n",
    "\n",
    "Input: s = \"leetcode\"\n",
    "    \n",
    "Output: 0\n",
    "\n",
    "Example 2:\n",
    "    \n",
    "Input: s = \"loveleetcode\"\n",
    "    \n",
    "Output: 2\n",
    "\n",
    "Example 3:\n",
    "    \n",
    "Input: s = \"aabb\"\n",
    "    \n",
    "Output: -1\n"
   ]
  },
  {
   "cell_type": "code",
   "execution_count": null,
   "id": "de245e03",
   "metadata": {},
   "outputs": [],
   "source": [
    "def first_unique_char(s):\n",
    "    char = set()\n",
    "    char_index = {}\n",
    "    for i, j in enumerate(s):\n",
    "        if j not in char:\n",
    "            char.add()\n",
    "            char_index[c] = i\n",
    "    return char_index.get(next(iter(char_index)), -1)"
   ]
  }
 ],
 "metadata": {
  "kernelspec": {
   "display_name": "Python 3 (ipykernel)",
   "language": "python",
   "name": "python3"
  },
  "language_info": {
   "codemirror_mode": {
    "name": "ipython",
    "version": 3
   },
   "file_extension": ".py",
   "mimetype": "text/x-python",
   "name": "python",
   "nbconvert_exporter": "python",
   "pygments_lexer": "ipython3",
   "version": "3.9.13"
  }
 },
 "nbformat": 4,
 "nbformat_minor": 5
}
